{
 "cells": [
  {
   "cell_type": "markdown",
   "id": "64a78c63",
   "metadata": {},
   "source": [
    "## Diffusion method: combine item-item and user-user"
   ]
  },
  {
   "cell_type": "code",
   "execution_count": 1,
   "id": "3ee24aa8",
   "metadata": {},
   "outputs": [],
   "source": [
    "import numpy as np\n",
    "import pandas as pd\n",
    "from sklearn import model_selection as cv\n",
    "from sklearn.metrics.pairwise import pairwise_distances\n",
    "import re\n",
    "import torch\n",
    "\n",
    "import networkx as nx\n",
    "from networkx.algorithms import bipartite\n",
    "\n",
    "from sklearn.metrics import mean_squared_error\n",
    "from sklearn.preprocessing import MinMaxScaler\n",
    "from math import sqrt\n",
    "from tqdm import tqdm\n",
    "\n",
    "import json"
   ]
  },
  {
   "cell_type": "markdown",
   "id": "63a354b2",
   "metadata": {},
   "source": [
    "### Read in data"
   ]
  },
  {
   "cell_type": "code",
   "execution_count": 2,
   "id": "3bef0227",
   "metadata": {},
   "outputs": [],
   "source": [
    "df_movies = pd.read_csv('movies.dat',\n",
    "                        delimiter='::', engine= 'python', encoding='ISO-8859-1', header=None,\n",
    "                        names=['movie_id', 'movie_name', 'genre'])\n",
    "\n",
    "df_users = pd.read_csv('users.dat',\n",
    "                       delimiter='::', engine='python',  encoding='ISO-8859-1',header=None,\n",
    "                       names=['user_id', 'gender', 'age', 'occupation', 'zip_code'])\n",
    "\n",
    "df_ratings = pd.read_csv('ratings.dat',\n",
    "                         delimiter='::', engine='python',  encoding='ISO-8859-1',header=None,\n",
    "                         names=['user_id', 'movie_id', 'rating', 'time'])"
   ]
  },
  {
   "cell_type": "code",
   "execution_count": 3,
   "id": "b854fb91",
   "metadata": {},
   "outputs": [],
   "source": [
    "df_movies['year'] = df_movies.movie_name.apply(lambda x: re.findall(r'\\(\\d{4}\\)', x)[0][1:-1])"
   ]
  },
  {
   "cell_type": "code",
   "execution_count": 4,
   "id": "53d56635",
   "metadata": {},
   "outputs": [
    {
     "data": {
      "text/html": [
       "<div>\n",
       "<style scoped>\n",
       "    .dataframe tbody tr th:only-of-type {\n",
       "        vertical-align: middle;\n",
       "    }\n",
       "\n",
       "    .dataframe tbody tr th {\n",
       "        vertical-align: top;\n",
       "    }\n",
       "\n",
       "    .dataframe thead th {\n",
       "        text-align: right;\n",
       "    }\n",
       "</style>\n",
       "<table border=\"1\" class=\"dataframe\">\n",
       "  <thead>\n",
       "    <tr style=\"text-align: right;\">\n",
       "      <th></th>\n",
       "      <th>movie_id</th>\n",
       "      <th>movie_name</th>\n",
       "      <th>genre</th>\n",
       "      <th>year</th>\n",
       "    </tr>\n",
       "  </thead>\n",
       "  <tbody>\n",
       "    <tr>\n",
       "      <th>0</th>\n",
       "      <td>1</td>\n",
       "      <td>Toy Story (1995)</td>\n",
       "      <td>Animation|Children's|Comedy</td>\n",
       "      <td>1995</td>\n",
       "    </tr>\n",
       "    <tr>\n",
       "      <th>1</th>\n",
       "      <td>2</td>\n",
       "      <td>Jumanji (1995)</td>\n",
       "      <td>Adventure|Children's|Fantasy</td>\n",
       "      <td>1995</td>\n",
       "    </tr>\n",
       "    <tr>\n",
       "      <th>2</th>\n",
       "      <td>3</td>\n",
       "      <td>Grumpier Old Men (1995)</td>\n",
       "      <td>Comedy|Romance</td>\n",
       "      <td>1995</td>\n",
       "    </tr>\n",
       "    <tr>\n",
       "      <th>3</th>\n",
       "      <td>4</td>\n",
       "      <td>Waiting to Exhale (1995)</td>\n",
       "      <td>Comedy|Drama</td>\n",
       "      <td>1995</td>\n",
       "    </tr>\n",
       "    <tr>\n",
       "      <th>4</th>\n",
       "      <td>5</td>\n",
       "      <td>Father of the Bride Part II (1995)</td>\n",
       "      <td>Comedy</td>\n",
       "      <td>1995</td>\n",
       "    </tr>\n",
       "  </tbody>\n",
       "</table>\n",
       "</div>"
      ],
      "text/plain": [
       "   movie_id                          movie_name                         genre  \\\n",
       "0         1                    Toy Story (1995)   Animation|Children's|Comedy   \n",
       "1         2                      Jumanji (1995)  Adventure|Children's|Fantasy   \n",
       "2         3             Grumpier Old Men (1995)                Comedy|Romance   \n",
       "3         4            Waiting to Exhale (1995)                  Comedy|Drama   \n",
       "4         5  Father of the Bride Part II (1995)                        Comedy   \n",
       "\n",
       "   year  \n",
       "0  1995  \n",
       "1  1995  \n",
       "2  1995  \n",
       "3  1995  \n",
       "4  1995  "
      ]
     },
     "execution_count": 4,
     "metadata": {},
     "output_type": "execute_result"
    }
   ],
   "source": [
    "df_movies.head()"
   ]
  },
  {
   "cell_type": "code",
   "execution_count": 5,
   "id": "6c374a21",
   "metadata": {},
   "outputs": [
    {
     "data": {
      "text/html": [
       "<div>\n",
       "<style scoped>\n",
       "    .dataframe tbody tr th:only-of-type {\n",
       "        vertical-align: middle;\n",
       "    }\n",
       "\n",
       "    .dataframe tbody tr th {\n",
       "        vertical-align: top;\n",
       "    }\n",
       "\n",
       "    .dataframe thead th {\n",
       "        text-align: right;\n",
       "    }\n",
       "</style>\n",
       "<table border=\"1\" class=\"dataframe\">\n",
       "  <thead>\n",
       "    <tr style=\"text-align: right;\">\n",
       "      <th></th>\n",
       "      <th>user_id</th>\n",
       "      <th>gender</th>\n",
       "      <th>age</th>\n",
       "      <th>occupation</th>\n",
       "      <th>zip_code</th>\n",
       "    </tr>\n",
       "  </thead>\n",
       "  <tbody>\n",
       "    <tr>\n",
       "      <th>0</th>\n",
       "      <td>1</td>\n",
       "      <td>F</td>\n",
       "      <td>1</td>\n",
       "      <td>10</td>\n",
       "      <td>48067</td>\n",
       "    </tr>\n",
       "    <tr>\n",
       "      <th>1</th>\n",
       "      <td>2</td>\n",
       "      <td>M</td>\n",
       "      <td>56</td>\n",
       "      <td>16</td>\n",
       "      <td>70072</td>\n",
       "    </tr>\n",
       "    <tr>\n",
       "      <th>2</th>\n",
       "      <td>3</td>\n",
       "      <td>M</td>\n",
       "      <td>25</td>\n",
       "      <td>15</td>\n",
       "      <td>55117</td>\n",
       "    </tr>\n",
       "    <tr>\n",
       "      <th>3</th>\n",
       "      <td>4</td>\n",
       "      <td>M</td>\n",
       "      <td>45</td>\n",
       "      <td>7</td>\n",
       "      <td>02460</td>\n",
       "    </tr>\n",
       "    <tr>\n",
       "      <th>4</th>\n",
       "      <td>5</td>\n",
       "      <td>M</td>\n",
       "      <td>25</td>\n",
       "      <td>20</td>\n",
       "      <td>55455</td>\n",
       "    </tr>\n",
       "  </tbody>\n",
       "</table>\n",
       "</div>"
      ],
      "text/plain": [
       "   user_id gender  age  occupation zip_code\n",
       "0        1      F    1          10    48067\n",
       "1        2      M   56          16    70072\n",
       "2        3      M   25          15    55117\n",
       "3        4      M   45           7    02460\n",
       "4        5      M   25          20    55455"
      ]
     },
     "execution_count": 5,
     "metadata": {},
     "output_type": "execute_result"
    }
   ],
   "source": [
    "df_users.head()"
   ]
  },
  {
   "cell_type": "code",
   "execution_count": 6,
   "id": "55c1af9b",
   "metadata": {},
   "outputs": [],
   "source": [
    "df_ratings.drop(columns=['time'], inplace=True)"
   ]
  },
  {
   "cell_type": "code",
   "execution_count": 7,
   "id": "815803eb",
   "metadata": {},
   "outputs": [
    {
     "data": {
      "text/html": [
       "<div>\n",
       "<style scoped>\n",
       "    .dataframe tbody tr th:only-of-type {\n",
       "        vertical-align: middle;\n",
       "    }\n",
       "\n",
       "    .dataframe tbody tr th {\n",
       "        vertical-align: top;\n",
       "    }\n",
       "\n",
       "    .dataframe thead th {\n",
       "        text-align: right;\n",
       "    }\n",
       "</style>\n",
       "<table border=\"1\" class=\"dataframe\">\n",
       "  <thead>\n",
       "    <tr style=\"text-align: right;\">\n",
       "      <th></th>\n",
       "      <th>user_id</th>\n",
       "      <th>movie_id</th>\n",
       "      <th>rating</th>\n",
       "    </tr>\n",
       "  </thead>\n",
       "  <tbody>\n",
       "    <tr>\n",
       "      <th>0</th>\n",
       "      <td>1</td>\n",
       "      <td>1193</td>\n",
       "      <td>5</td>\n",
       "    </tr>\n",
       "    <tr>\n",
       "      <th>1</th>\n",
       "      <td>1</td>\n",
       "      <td>661</td>\n",
       "      <td>3</td>\n",
       "    </tr>\n",
       "    <tr>\n",
       "      <th>2</th>\n",
       "      <td>1</td>\n",
       "      <td>914</td>\n",
       "      <td>3</td>\n",
       "    </tr>\n",
       "    <tr>\n",
       "      <th>3</th>\n",
       "      <td>1</td>\n",
       "      <td>3408</td>\n",
       "      <td>4</td>\n",
       "    </tr>\n",
       "    <tr>\n",
       "      <th>4</th>\n",
       "      <td>1</td>\n",
       "      <td>2355</td>\n",
       "      <td>5</td>\n",
       "    </tr>\n",
       "  </tbody>\n",
       "</table>\n",
       "</div>"
      ],
      "text/plain": [
       "   user_id  movie_id  rating\n",
       "0        1      1193       5\n",
       "1        1       661       3\n",
       "2        1       914       3\n",
       "3        1      3408       4\n",
       "4        1      2355       5"
      ]
     },
     "execution_count": 7,
     "metadata": {},
     "output_type": "execute_result"
    }
   ],
   "source": [
    "df_ratings.head()"
   ]
  },
  {
   "cell_type": "markdown",
   "id": "0e5ff81c",
   "metadata": {},
   "source": [
    "### Add region classification and split into subsets"
   ]
  },
  {
   "cell_type": "code",
   "execution_count": 8,
   "id": "b1ce954d",
   "metadata": {},
   "outputs": [],
   "source": [
    "df_users.zip_code = df_users.zip_code.apply(lambda x: x.split('-')[0]).astype(int)"
   ]
  },
  {
   "cell_type": "code",
   "execution_count": 9,
   "id": "0b6e85bd",
   "metadata": {},
   "outputs": [],
   "source": [
    "df_users = pd.merge(df_users, pd.read_csv('ruralcodes.csv'), how='left', left_on='zip_code', right_on='ZIP_CODE')\n",
    "df_users.drop(columns=['RUCA2', 'ZIP_TYPE', 'ZIP_CODE'], inplace=True)"
   ]
  },
  {
   "cell_type": "code",
   "execution_count": 10,
   "id": "832ee90a",
   "metadata": {},
   "outputs": [],
   "source": [
    "df_users = df_users[~df_users.STATE.isna()]"
   ]
  },
  {
   "cell_type": "code",
   "execution_count": 11,
   "id": "d0468a97",
   "metadata": {},
   "outputs": [],
   "source": [
    "df_users = pd.merge(df_users, pd.read_csv('zip_code_database.csv'), how='left', left_on='zip_code', right_on='zip')\n",
    "df_users.drop(\n",
    "    columns=['decommissioned', 'primary_city', 'acceptable_cities', 'unacceptable_cities', 'state', 'type', \n",
    "             'zip', 'county', 'timezone', 'area_codes', 'world_region', 'country', 'latitude', 'longitude'],\n",
    "    inplace=True)"
   ]
  },
  {
   "cell_type": "code",
   "execution_count": 12,
   "id": "f93e4025",
   "metadata": {},
   "outputs": [],
   "source": [
    "census_region_mapping = {\n",
    "    'WEST': ['WA', 'OR', 'CA', 'NV', 'ID', 'MT', 'WY', 'UT', 'CO', 'HI', 'AK', 'NM', 'AZ'],\n",
    "    'SOUTH': ['TX', 'OK', 'AR', 'LA', 'KY', 'TN', 'MS', 'AL', 'WV', \n",
    "              'VA', 'DC', 'DE', 'MD', 'NC', 'SC', 'GA', 'FL', 'PR'],\n",
    "    'MIDWEST': ['ND', 'SD', 'NE', 'KS', 'MN', 'IA', 'MO', 'WI', 'IL', 'MI', 'IN', 'OH'],\n",
    "    'NORTHEAST': ['PA', 'NY', 'NJ', 'RI', 'CT', 'MA', 'NH', 'VT', 'ME']\n",
    "}\n",
    "\n",
    "def match_region(state: str) -> str:\n",
    "    for k, v in census_region_mapping.items():\n",
    "        if state in v:\n",
    "            return k\n",
    "    return state"
   ]
  },
  {
   "cell_type": "code",
   "execution_count": 13,
   "id": "7b66f2ee",
   "metadata": {},
   "outputs": [],
   "source": [
    "df_users['region'] = df_users.STATE.apply(match_region)"
   ]
  },
  {
   "cell_type": "code",
   "execution_count": 14,
   "id": "1ff21534",
   "metadata": {},
   "outputs": [
    {
     "data": {
      "image/png": "[encoded data removed]",
      "text/plain": [
       "<Figure size 432x288 with 1 Axes>"
      ]
     },
     "metadata": {
      "needs_background": "light"
     },
     "output_type": "display_data"
    }
   ],
   "source": [
    "_ = df_users.region.value_counts().plot.bar()"
   ]
  },
  {
   "cell_type": "code",
   "execution_count": 15,
   "id": "73871a17",
   "metadata": {},
   "outputs": [],
   "source": [
    "df_users_west = df_users[df_users.region == 'WEST']\n",
    "df_users_midwest = df_users[df_users.region == 'MIDWEST']\n",
    "df_users_south = df_users[df_users.region == 'SOUTH']\n",
    "df_users_northeast = df_users[df_users.region == 'NORTHEAST']"
   ]
  },
  {
   "cell_type": "markdown",
   "id": "95427d0e",
   "metadata": {},
   "source": [
    "### Build similarity matrix"
   ]
  },
  {
   "cell_type": "markdown",
   "id": "00fa4e5b",
   "metadata": {},
   "source": [
    "#### Merge datasets and split into train and test set"
   ]
  },
  {
   "cell_type": "code",
   "execution_count": 16,
   "id": "d8e8a154",
   "metadata": {},
   "outputs": [],
   "source": [
    "df_users_ratings = pd.merge(df_users, df_ratings, how='outer', on='user_id')"
   ]
  },
  {
   "cell_type": "code",
   "execution_count": 17,
   "id": "7bd8ca80",
   "metadata": {},
   "outputs": [],
   "source": [
    "df_users_ratings = pd.pivot(df_users_ratings, index='user_id', columns='movie_id', values='rating').fillna(0)"
   ]
  },
  {
   "cell_type": "code",
   "execution_count": 18,
   "id": "adb11980",
   "metadata": {},
   "outputs": [],
   "source": [
    "df_users_ratings_train_idx, df_users_ratings_test_idx = cv.train_test_split(df_users_ratings.index, \n",
    "                                                                            test_size=0.2, random_state=42)"
   ]
  },
  {
   "cell_type": "code",
   "execution_count": 19,
   "id": "bc7fd825",
   "metadata": {},
   "outputs": [],
   "source": [
    "df_users_ratings_train = df_users_ratings.copy()\n",
    "df_users_ratings_train.loc[df_users_ratings_test_idx] = 0"
   ]
  },
  {
   "cell_type": "code",
   "execution_count": 20,
   "id": "5c4d42e7",
   "metadata": {},
   "outputs": [],
   "source": [
    "df_users_ratings_test = df_users_ratings.copy()\n",
    "df_users_ratings_test.loc[df_users_ratings_train_idx] = 0"
   ]
  },
  {
   "cell_type": "code",
   "execution_count": 21,
   "id": "7b6e46df",
   "metadata": {},
   "outputs": [
    {
     "data": {
      "text/plain": [
       "(3706, 6040)"
      ]
     },
     "execution_count": 21,
     "metadata": {},
     "output_type": "execute_result"
    }
   ],
   "source": [
    "item_user_matrix_train = df_users_ratings_train.to_numpy().T\n",
    "item_user_matrix_train.shape"
   ]
  },
  {
   "cell_type": "code",
   "execution_count": 22,
   "id": "3abcb238",
   "metadata": {},
   "outputs": [
    {
     "data": {
      "text/plain": [
       "(3706, 6040)"
      ]
     },
     "execution_count": 22,
     "metadata": {},
     "output_type": "execute_result"
    }
   ],
   "source": [
    "item_user_matrix_test = df_users_ratings_test.to_numpy().T\n",
    "item_user_matrix_test.shape"
   ]
  },
  {
   "cell_type": "markdown",
   "id": "f58ca1a4",
   "metadata": {},
   "source": [
    "#### User-user similarity"
   ]
  },
  {
   "cell_type": "code",
   "execution_count": 23,
   "id": "ac4a2272",
   "metadata": {},
   "outputs": [],
   "source": [
    "len_users = item_user_matrix_train.shape[1]\n",
    "user_similarity = np.ones((len_users, len_users)) - pairwise_distances(item_user_matrix_train.T, metric='cosine')"
   ]
  },
  {
   "cell_type": "code",
   "execution_count": 24,
   "id": "569fc98b",
   "metadata": {},
   "outputs": [
    {
     "data": {
      "text/plain": [
       "(6040, 6040)"
      ]
     },
     "execution_count": 24,
     "metadata": {},
     "output_type": "execute_result"
    }
   ],
   "source": [
    "user_similarity.shape"
   ]
  },
  {
   "cell_type": "markdown",
   "id": "91d35105",
   "metadata": {},
   "source": [
    "#### Genre similarity"
   ]
  },
  {
   "cell_type": "code",
   "execution_count": 25,
   "id": "910b05d7",
   "metadata": {},
   "outputs": [],
   "source": [
    "genres = ['Action', 'Adventure', 'Animation', \"Children's\", 'Comedy', 'Crime', 'Documentary', 'Drama',\n",
    "          'Fantasy', 'Film-Noir', 'Horror', 'Musical', 'Mystery', 'Romance', 'Sci-Fi', 'Thriller', 'War', 'Western']"
   ]
  },
  {
   "cell_type": "code",
   "execution_count": 26,
   "id": "17672598",
   "metadata": {},
   "outputs": [],
   "source": [
    "df_ratings_movies_train = pd.merge(df_ratings, df_movies, on='movie_id')\n",
    "df_users_genres_train = df_ratings_movies_train.groupby('user_id').agg({'genre': lambda x: list(x)}).reset_index()"
   ]
  },
  {
   "cell_type": "code",
   "execution_count": 27,
   "id": "f5081538",
   "metadata": {},
   "outputs": [],
   "source": [
    "def count_genres(gs: list) -> list:\n",
    "    gs_dict = dict(zip(genres, len(genres) * [0]))\n",
    "    for g in gs:\n",
    "        g_list = g.split('|')\n",
    "        for sub_g in g_list:\n",
    "            gs_dict[sub_g] += 1\n",
    "    return list(gs_dict.values())"
   ]
  },
  {
   "cell_type": "code",
   "execution_count": 28,
   "id": "5fba8e1f",
   "metadata": {},
   "outputs": [],
   "source": [
    "df_users_genres_train.genre = df_users_genres_train.genre.apply(count_genres)\n",
    "user_genre_matrix_train = np.array(df_users_genres_train.genre.tolist())"
   ]
  },
  {
   "cell_type": "code",
   "execution_count": 29,
   "id": "47426158",
   "metadata": {},
   "outputs": [],
   "source": [
    "genre_similarity = np.ones((len_users, len_users)) - pairwise_distances(user_genre_matrix_train, metric='cosine')"
   ]
  },
  {
   "cell_type": "code",
   "execution_count": 30,
   "id": "796802f1",
   "metadata": {},
   "outputs": [
    {
     "data": {
      "text/plain": [
       "(6040, 6040)"
      ]
     },
     "execution_count": 30,
     "metadata": {},
     "output_type": "execute_result"
    }
   ],
   "source": [
    "genre_similarity.shape"
   ]
  },
  {
   "cell_type": "markdown",
   "id": "96862fcc",
   "metadata": {},
   "source": [
    "#### Year similarity"
   ]
  },
  {
   "cell_type": "code",
   "execution_count": 31,
   "id": "e385d3d4",
   "metadata": {},
   "outputs": [],
   "source": [
    "years = list(df_movies.sort_values('year').year.unique())"
   ]
  },
  {
   "cell_type": "code",
   "execution_count": 32,
   "id": "d9654323",
   "metadata": {},
   "outputs": [],
   "source": [
    "df_users_years_train = df_ratings_movies_train.groupby('user_id').agg({'year': lambda x: list(x)}).reset_index()"
   ]
  },
  {
   "cell_type": "code",
   "execution_count": 33,
   "id": "28eee154",
   "metadata": {},
   "outputs": [],
   "source": [
    "def count_years(ys: list) -> list:\n",
    "    ys_dict = dict(zip(years, len(years) * [0]))\n",
    "    for y in ys:\n",
    "        ys_dict[y] += 1\n",
    "    return list(ys_dict.values())"
   ]
  },
  {
   "cell_type": "code",
   "execution_count": 34,
   "id": "9f8030d5",
   "metadata": {},
   "outputs": [],
   "source": [
    "df_users_years_train.year = df_users_years_train.year.apply(count_years)\n",
    "user_year_matrix_train = np.array(df_users_years_train.year.tolist())"
   ]
  },
  {
   "cell_type": "code",
   "execution_count": 35,
   "id": "25328c47",
   "metadata": {},
   "outputs": [],
   "source": [
    "year_similarity = np.ones((len_users, len_users)) - pairwise_distances(user_year_matrix_train, metric='cosine')"
   ]
  },
  {
   "cell_type": "code",
   "execution_count": 36,
   "id": "50e05705",
   "metadata": {},
   "outputs": [
    {
     "data": {
      "text/plain": [
       "(6040, 6040)"
      ]
     },
     "execution_count": 36,
     "metadata": {},
     "output_type": "execute_result"
    }
   ],
   "source": [
    "year_similarity.shape"
   ]
  },
  {
   "cell_type": "markdown",
   "id": "4164979d",
   "metadata": {},
   "source": [
    "#### Bipartite similarity"
   ]
  },
  {
   "cell_type": "code",
   "execution_count": 103,
   "id": "c1f0315f",
   "metadata": {},
   "outputs": [],
   "source": [
    "movies_str = np.array([str(mid) for mid in df_movies.movie_id.unique()])\n",
    "df_ratings['movie_id_str'] = df_ratings.movie_id.apply(str)"
   ]
  },
  {
   "cell_type": "code",
   "execution_count": 106,
   "id": "ec7aee9f",
   "metadata": {},
   "outputs": [],
   "source": [
    "g = nx.Graph()\n",
    "g.add_nodes_from(movies_str, bipartite=0)\n",
    "g.add_nodes_from(np.arange(len_users), bipartite=1)\n",
    "\n",
    "edges = df_ratings[['movie_id_str', 'user_id']].values\n",
    "g.add_edges_from(edges)"
   ]
  },
  {
   "cell_type": "code",
   "execution_count": 107,
   "id": "06ce4e7f",
   "metadata": {},
   "outputs": [],
   "source": [
    "B = bipartite.overlap_weighted_projected_graph(g, np.arange(len_users))"
   ]
  },
  {
   "cell_type": "code",
   "execution_count": 108,
   "id": "76aee4cf",
   "metadata": {},
   "outputs": [],
   "source": [
    "B_edges = list(B.edges(data=True))"
   ]
  },
  {
   "cell_type": "code",
   "execution_count": 109,
   "id": "bcdeb6e0",
   "metadata": {},
   "outputs": [],
   "source": [
    "B_similarity = np.zeros((len_users, len_users))\n",
    "\n",
    "for i, j, weight in B_edges:\n",
    "    B_similarity[i-1, j-1] = weight['weight']\n",
    "    B_similarity[j-1, i-1] = weight['weight']"
   ]
  },
  {
   "cell_type": "code",
   "execution_count": 110,
   "id": "22b31b6b",
   "metadata": {},
   "outputs": [
    {
     "data": {
      "text/plain": [
       "(6040, 6040)"
      ]
     },
     "execution_count": 110,
     "metadata": {},
     "output_type": "execute_result"
    }
   ],
   "source": [
    "B_similarity.shape"
   ]
  },
  {
   "cell_type": "code",
   "execution_count": 111,
   "id": "2643c0c0",
   "metadata": {},
   "outputs": [],
   "source": [
    "pd.DataFrame(B_similarity).to_csv(\"B_similarity_uu.csv\")"
   ]
  },
  {
   "cell_type": "code",
   "execution_count": 37,
   "id": "311b0b0c",
   "metadata": {},
   "outputs": [],
   "source": [
    "B_similarity = pd.read_csv(\"B_similarity_uu.csv\")\n",
    "B_similarity = np.array(B_similarity.drop('Unnamed: 0', axis=1))"
   ]
  },
  {
   "cell_type": "markdown",
   "id": "132020d0",
   "metadata": {},
   "source": [
    "### Transition matrix"
   ]
  },
  {
   "cell_type": "code",
   "execution_count": 38,
   "id": "bf85c98b",
   "metadata": {},
   "outputs": [],
   "source": [
    "transition_matrix_user = np.zeros((len_users, len_users))\n",
    "transition_matrix_B = np.zeros((len_users, len_users))\n",
    "transition_matrix_year = np.zeros((len_users, len_users))\n",
    "transition_matrix_genre = np.zeros((len_users, len_users))\n",
    "\n",
    "for i in range(len_users):\n",
    "    sim_sum = user_similarity[i].sum()\n",
    "    genre_sum = genre_similarity[i].sum()\n",
    "    year_sum = year_similarity[i].sum()\n",
    "    b_sum = B_similarity[i].sum()\n",
    "    \n",
    "    for j in range(len_users):\n",
    "        transition_matrix_user[i,j] = user_similarity[i][j] / sim_sum\n",
    "        transition_matrix_genre[i,j] = genre_similarity[i][j] / genre_sum\n",
    "        transition_matrix_year[i,j] = year_similarity[i][j] / year_sum\n",
    "        transition_matrix_B[i,j] = B_similarity[i][j] / b_sum"
   ]
  },
  {
   "cell_type": "code",
   "execution_count": 39,
   "id": "6dcb0d54",
   "metadata": {},
   "outputs": [
    {
     "data": {
      "text/plain": [
       "(3706, 6040)"
      ]
     },
     "execution_count": 39,
     "metadata": {},
     "output_type": "execute_result"
    }
   ],
   "source": [
    "item_user_matrix_test.shape"
   ]
  },
  {
   "cell_type": "markdown",
   "id": "9cf0359b",
   "metadata": {},
   "source": [
    "### Prediction"
   ]
  },
  {
   "cell_type": "code",
   "execution_count": 40,
   "id": "510ca11f",
   "metadata": {},
   "outputs": [],
   "source": [
    "scaler = MinMaxScaler()"
   ]
  },
  {
   "cell_type": "code",
   "execution_count": 74,
   "id": "aa1f4f1d",
   "metadata": {},
   "outputs": [],
   "source": [
    "def random_walk_predict(ratings: np.array, transition_matrix: np.array, alpha: float) -> np.array:\n",
    "    x = np.eye(len_users) -alpha * transition_matrix\n",
    "    \n",
    "    #Obtain mean of columns as you need, nanmean is convenient.\n",
    "    col_mean = np.nanmean(x, axis=0)\n",
    "    #Find indices that you need to replace\n",
    "    inds = np.where(np.isnan(x))\n",
    "    #Place column means in the indices. Align the arrays using take\n",
    "    x[inds] = np.take(col_mean, inds[1])\n",
    "    print('Start')\n",
    "    p_tilde = np.linalg.pinv(x)\n",
    "    print('End')\n",
    "    final_rating = alpha*np.dot(ratings, np.dot(x, p_tilde))\n",
    "    scaled_prediction = (scaler.fit_transform(final_rating.T) * 5).T\n",
    "    return scaled_prediction"
   ]
  },
  {
   "cell_type": "code",
   "execution_count": 42,
   "id": "1a0d29c2",
   "metadata": {},
   "outputs": [],
   "source": [
    "def rmse(prediction: np.array, test_data_matrix: np.array) -> float:\n",
    "    mask = test_data_matrix.nonzero()\n",
    "    prediction = prediction[mask].flatten()\n",
    "    truth = test_data_matrix[mask].flatten()\n",
    "    return sqrt(mean_squared_error(prediction, truth))"
   ]
  },
  {
   "cell_type": "code",
   "execution_count": 44,
   "id": "600a681f",
   "metadata": {},
   "outputs": [],
   "source": [
    "def run_grid_search(parameters: list) -> dict:\n",
    "    results = {}\n",
    "    for parameter in tqdm(parameters):\n",
    "        alpha, beta, w1, w2, w3 = parameter\n",
    "        transition_matrix = beta * (w1 * transition_matrix_user + \n",
    "                                    w2 * transition_matrix_year + \n",
    "                                    w3 * transition_matrix_B + \n",
    "                                    (1 - w1 - w2 - w3) * transition_matrix_genre) + (1 - beta) / len_users\n",
    "        try:\n",
    "            prediction = random_walk_predict(item_user_matrix_train, transition_matrix, alpha)\n",
    "        except:\n",
    "            continue\n",
    "        results[parameter] = rmse(prediction, item_user_matrix_test)\n",
    "    \n",
    "    return results"
   ]
  },
  {
   "cell_type": "code",
   "execution_count": 60,
   "id": "267715e0",
   "metadata": {},
   "outputs": [],
   "source": [
    "alphas = [0.9, 1.0]\n",
    "betas = [0.6, 0.7, 0.8]\n",
    "w1s = w2s = w3s = [0.1, 0.2, 0.3, 0.5, 0.6]\n",
    "weights = [(w1, w2, w3) for w1 in w1s for w2 in w2s for w3 in w3s if w1 + w2 +w3 <= 1 ]\n",
    "parameters = [(alpha, beta, w1, w2, w3) for alpha in alphas for beta in betas for w1, w2 ,w3 in weights]"
   ]
  },
  {
   "cell_type": "code",
   "execution_count": 62,
   "id": "2845e105",
   "metadata": {},
   "outputs": [
    {
     "data": {
      "text/plain": [
       "414"
      ]
     },
     "execution_count": 62,
     "metadata": {},
     "output_type": "execute_result"
    }
   ],
   "source": [
    "len(parameters)"
   ]
  },
  {
   "cell_type": "code",
   "execution_count": 68,
   "id": "cad817d1",
   "metadata": {},
   "outputs": [],
   "source": [
    "from random import sample"
   ]
  },
  {
   "cell_type": "code",
   "execution_count": 69,
   "id": "43414ca4",
   "metadata": {},
   "outputs": [
    {
     "name": "stderr",
     "output_type": "stream",
     "text": [
      "100%|███████████████████████████████████████████████████| 20/20 [24:34<00:00, 73.70s/it]\n"
     ]
    }
   ],
   "source": [
    "results = run_grid_search(sample(parameters, 20))"
   ]
  },
  {
   "cell_type": "code",
   "execution_count": 70,
   "id": "2ee786e2",
   "metadata": {},
   "outputs": [
    {
     "data": {
      "text/plain": [
       "(1.0, 0.6, 0.5, 0.1, 0.2)"
      ]
     },
     "execution_count": 70,
     "metadata": {},
     "output_type": "execute_result"
    }
   ],
   "source": [
    "alpha, beta, w1, w2, w3 = min(results, key=results.get)\n",
    "alpha, beta, w1, w2, w3"
   ]
  },
  {
   "cell_type": "code",
   "execution_count": 71,
   "id": "09ea4862",
   "metadata": {},
   "outputs": [
    {
     "data": {
      "text/plain": [
       "{(0.9, 0.7, 0.1, 0.3, 0.1): 3.7532123598125047,\n",
       " (1.0, 0.6, 0.2, 0.5, 0.2): 3.6704508996987855,\n",
       " (1.0, 0.6, 0.2, 0.2, 0.3): 3.663482575253007,\n",
       " (0.9, 0.8, 0.5, 0.1, 0.1): 3.753212359812503,\n",
       " (1.0, 0.6, 0.1, 0.1, 0.1): 3.7020101617977743,\n",
       " (1.0, 0.6, 0.5, 0.1, 0.2): 3.621472591162577,\n",
       " (0.9, 0.6, 0.1, 0.1, 0.1): 3.7532123598125176,\n",
       " (0.9, 0.6, 0.6, 0.2, 0.1): 3.7532123598124727,\n",
       " (0.9, 0.7, 0.6, 0.1, 0.2): 3.753212359812481,\n",
       " (0.9, 0.8, 0.3, 0.2, 0.1): 3.7532123598124896,\n",
       " (0.9, 0.6, 0.3, 0.1, 0.6): 3.7532123598125176,\n",
       " (0.9, 0.7, 0.2, 0.6, 0.1): 3.7532123598125047,\n",
       " (0.9, 0.7, 0.5, 0.2, 0.2): 3.753212359812511,\n",
       " (1.0, 0.6, 0.1, 0.3, 0.1): 3.6995009827203886,\n",
       " (0.9, 0.7, 0.2, 0.1, 0.3): 3.7532123598125198,\n",
       " (1.0, 0.6, 0.2, 0.5, 0.3): 3.660220532394535,\n",
       " (1.0, 0.8, 0.1, 0.3, 0.2): 3.6689644038650013,\n",
       " (1.0, 0.6, 0.1, 0.2, 0.2): 3.69057953879165,\n",
       " (1.0, 0.8, 0.1, 0.3, 0.3): 3.6545259913516994,\n",
       " (1.0, 0.8, 0.3, 0.6, 0.1): 3.6334676377325987}"
      ]
     },
     "execution_count": 71,
     "metadata": {},
     "output_type": "execute_result"
    }
   ],
   "source": []
  },
  {
   "cell_type": "code",
   "execution_count": 75,
   "id": "dcc4aa8b",
   "metadata": {},
   "outputs": [
    {
     "name": "stderr",
     "output_type": "stream",
     "text": [
      "\r\n",
      "  0%|                                                             | 0/1 [00:00<?, ?it/s]"
     ]
    },
    {
     "name": "stdout",
     "output_type": "stream",
     "text": [
      "Start\n",
      "End\n"
     ]
    },
    {
     "name": "stderr",
     "output_type": "stream",
     "text": [
      "100%|█████████████████████████████████████████████████████| 1/1 [01:10<00:00, 70.54s/it]\n"
     ]
    },
    {
     "data": {
      "text/plain": [
       "{(0.9, 0.7, 0.0, 0.4, 0.6): 3.7532123598124576}"
      ]
     },
     "execution_count": 75,
     "metadata": {},
     "output_type": "execute_result"
    }
   ],
   "source": [
    "run_grid_search([(0.9, 0.7, 0.0, 0.4, 0.6)])"
   ]
  },
  {
   "cell_type": "code",
   "execution_count": null,
   "id": "1ef8962c",
   "metadata": {},
   "outputs": [],
   "source": []
  }
 ],
 "metadata": {
  "kernelspec": {
   "display_name": "Python 3.9.12 ('base')",
   "language": "python",
   "name": "python3"
  },
  "language_info": {
   "codemirror_mode": {
    "name": "ipython",
    "version": 3
   },
   "file_extension": ".py",
   "mimetype": "text/x-python",
   "name": "python",
   "nbconvert_exporter": "python",
   "pygments_lexer": "ipython3",
   "version": "3.9.12"
  },
  "vscode": {
   "interpreter": {
    "hash": "3efed1a0a2fdd8be36446bfd29570da5c8155b70bce854ad7488b53590c878ad"
   }
  }
 },
 "nbformat": 4,
 "nbformat_minor": 5
}
