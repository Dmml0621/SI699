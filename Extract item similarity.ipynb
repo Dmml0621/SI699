{
 "cells": [
  {
   "cell_type": "code",
   "execution_count": 14,
   "id": "5ecaad36",
   "metadata": {},
   "outputs": [],
   "source": [
    "import numpy as np\n",
    "import pandas as pd\n",
    "from sklearn import model_selection as cv\n",
    "from sklearn.metrics.pairwise import pairwise_distances\n",
    "import re\n",
    "\n",
    "import networkx as nx\n",
    "from networkx.algorithms import bipartite\n",
    "\n",
    "from sklearn.metrics import mean_squared_error\n",
    "from sklearn.preprocessing import MinMaxScaler\n",
    "from math import sqrt\n",
    "from tqdm import tqdm\n",
    "\n",
    "import json"
   ]
  },
  {
   "cell_type": "markdown",
   "id": "82dd83ef",
   "metadata": {},
   "source": [
    "#### Load data"
   ]
  },
  {
   "cell_type": "code",
   "execution_count": 3,
   "id": "06902430",
   "metadata": {},
   "outputs": [],
   "source": [
    "BASE_FOLDER = \"ml-1m/\""
   ]
  },
  {
   "cell_type": "code",
   "execution_count": 15,
   "id": "6c935ac2",
   "metadata": {},
   "outputs": [
    {
     "data": {
      "text/html": [
       "<div>\n",
       "<style scoped>\n",
       "    .dataframe tbody tr th:only-of-type {\n",
       "        vertical-align: middle;\n",
       "    }\n",
       "\n",
       "    .dataframe tbody tr th {\n",
       "        vertical-align: top;\n",
       "    }\n",
       "\n",
       "    .dataframe thead th {\n",
       "        text-align: right;\n",
       "    }\n",
       "</style>\n",
       "<table border=\"1\" class=\"dataframe\">\n",
       "  <thead>\n",
       "    <tr style=\"text-align: right;\">\n",
       "      <th></th>\n",
       "      <th>user_id</th>\n",
       "      <th>movie_id</th>\n",
       "      <th>rating</th>\n",
       "      <th>time</th>\n",
       "    </tr>\n",
       "  </thead>\n",
       "  <tbody>\n",
       "    <tr>\n",
       "      <th>0</th>\n",
       "      <td>1</td>\n",
       "      <td>1193</td>\n",
       "      <td>5</td>\n",
       "      <td>978300760</td>\n",
       "    </tr>\n",
       "    <tr>\n",
       "      <th>1</th>\n",
       "      <td>1</td>\n",
       "      <td>661</td>\n",
       "      <td>3</td>\n",
       "      <td>978302109</td>\n",
       "    </tr>\n",
       "    <tr>\n",
       "      <th>2</th>\n",
       "      <td>1</td>\n",
       "      <td>914</td>\n",
       "      <td>3</td>\n",
       "      <td>978301968</td>\n",
       "    </tr>\n",
       "    <tr>\n",
       "      <th>3</th>\n",
       "      <td>1</td>\n",
       "      <td>3408</td>\n",
       "      <td>4</td>\n",
       "      <td>978300275</td>\n",
       "    </tr>\n",
       "    <tr>\n",
       "      <th>4</th>\n",
       "      <td>1</td>\n",
       "      <td>2355</td>\n",
       "      <td>5</td>\n",
       "      <td>978824291</td>\n",
       "    </tr>\n",
       "  </tbody>\n",
       "</table>\n",
       "</div>"
      ],
      "text/plain": [
       "   user_id  movie_id  rating       time\n",
       "0        1      1193       5  978300760\n",
       "1        1       661       3  978302109\n",
       "2        1       914       3  978301968\n",
       "3        1      3408       4  978300275\n",
       "4        1      2355       5  978824291"
      ]
     },
     "execution_count": 15,
     "metadata": {},
     "output_type": "execute_result"
    }
   ],
   "source": [
    "ratings_df = pd.read_csv(f'ratings.dat',\n",
    "                         delimiter='::', engine='python', header=None,\n",
    "                         names=['user_id', 'movie_id', 'rating', 'time'])\n",
    "ratings_df.head()"
   ]
  },
  {
   "cell_type": "code",
   "execution_count": 16,
   "id": "eca7ec7c",
   "metadata": {},
   "outputs": [
    {
     "data": {
      "text/html": [
       "<div>\n",
       "<style scoped>\n",
       "    .dataframe tbody tr th:only-of-type {\n",
       "        vertical-align: middle;\n",
       "    }\n",
       "\n",
       "    .dataframe tbody tr th {\n",
       "        vertical-align: top;\n",
       "    }\n",
       "\n",
       "    .dataframe thead th {\n",
       "        text-align: right;\n",
       "    }\n",
       "</style>\n",
       "<table border=\"1\" class=\"dataframe\">\n",
       "  <thead>\n",
       "    <tr style=\"text-align: right;\">\n",
       "      <th></th>\n",
       "      <th>MovieID</th>\n",
       "      <th>Title</th>\n",
       "      <th>Genre</th>\n",
       "    </tr>\n",
       "  </thead>\n",
       "  <tbody>\n",
       "    <tr>\n",
       "      <th>0</th>\n",
       "      <td>1</td>\n",
       "      <td>Toy Story (1995)</td>\n",
       "      <td>Animation|Children's|Comedy</td>\n",
       "    </tr>\n",
       "    <tr>\n",
       "      <th>1</th>\n",
       "      <td>2</td>\n",
       "      <td>Jumanji (1995)</td>\n",
       "      <td>Adventure|Children's|Fantasy</td>\n",
       "    </tr>\n",
       "    <tr>\n",
       "      <th>2</th>\n",
       "      <td>3</td>\n",
       "      <td>Grumpier Old Men (1995)</td>\n",
       "      <td>Comedy|Romance</td>\n",
       "    </tr>\n",
       "    <tr>\n",
       "      <th>3</th>\n",
       "      <td>4</td>\n",
       "      <td>Waiting to Exhale (1995)</td>\n",
       "      <td>Comedy|Drama</td>\n",
       "    </tr>\n",
       "    <tr>\n",
       "      <th>4</th>\n",
       "      <td>5</td>\n",
       "      <td>Father of the Bride Part II (1995)</td>\n",
       "      <td>Comedy</td>\n",
       "    </tr>\n",
       "  </tbody>\n",
       "</table>\n",
       "</div>"
      ],
      "text/plain": [
       "   MovieID                               Title                         Genre\n",
       "0        1                    Toy Story (1995)   Animation|Children's|Comedy\n",
       "1        2                      Jumanji (1995)  Adventure|Children's|Fantasy\n",
       "2        3             Grumpier Old Men (1995)                Comedy|Romance\n",
       "3        4            Waiting to Exhale (1995)                  Comedy|Drama\n",
       "4        5  Father of the Bride Part II (1995)                        Comedy"
      ]
     },
     "execution_count": 16,
     "metadata": {},
     "output_type": "execute_result"
    }
   ],
   "source": [
    "movies_df = pd.read_csv(f'movies.dat',\n",
    "                        delimiter='::', engine= 'python', header=None,\n",
    "                        names=['MovieID', 'Title', 'Genre'], encoding=\"ISO-8859-1\")\n",
    "movies_df.head()"
   ]
  },
  {
   "cell_type": "code",
   "execution_count": 17,
   "id": "81c6f49a",
   "metadata": {},
   "outputs": [],
   "source": [
    "n_users = ratings_df.user_id.max()\n",
    "n_items = min(ratings_df.movie_id.max(), movies_df.MovieID.max())"
   ]
  },
  {
   "cell_type": "code",
   "execution_count": 18,
   "id": "27cc337e",
   "metadata": {},
   "outputs": [],
   "source": [
    "users = np.arange(n_users)\n",
    "items = np.arange(n_items)"
   ]
  },
  {
   "cell_type": "markdown",
   "id": "a9e8ca14",
   "metadata": {},
   "source": [
    "#### Split data"
   ]
  },
  {
   "cell_type": "code",
   "execution_count": 19,
   "id": "ae1e9e47",
   "metadata": {},
   "outputs": [
    {
     "data": {
      "text/html": [
       "<div>\n",
       "<style scoped>\n",
       "    .dataframe tbody tr th:only-of-type {\n",
       "        vertical-align: middle;\n",
       "    }\n",
       "\n",
       "    .dataframe tbody tr th {\n",
       "        vertical-align: top;\n",
       "    }\n",
       "\n",
       "    .dataframe thead th {\n",
       "        text-align: right;\n",
       "    }\n",
       "</style>\n",
       "<table border=\"1\" class=\"dataframe\">\n",
       "  <thead>\n",
       "    <tr style=\"text-align: right;\">\n",
       "      <th></th>\n",
       "      <th>user_id</th>\n",
       "      <th>movie_id</th>\n",
       "      <th>rating</th>\n",
       "      <th>time</th>\n",
       "    </tr>\n",
       "  </thead>\n",
       "  <tbody>\n",
       "    <tr>\n",
       "      <th>610738</th>\n",
       "      <td>3704</td>\n",
       "      <td>3784</td>\n",
       "      <td>3</td>\n",
       "      <td>966283775</td>\n",
       "    </tr>\n",
       "    <tr>\n",
       "      <th>324752</th>\n",
       "      <td>1924</td>\n",
       "      <td>802</td>\n",
       "      <td>3</td>\n",
       "      <td>974694998</td>\n",
       "    </tr>\n",
       "    <tr>\n",
       "      <th>808217</th>\n",
       "      <td>4837</td>\n",
       "      <td>1387</td>\n",
       "      <td>4</td>\n",
       "      <td>962891248</td>\n",
       "    </tr>\n",
       "    <tr>\n",
       "      <th>133807</th>\n",
       "      <td>867</td>\n",
       "      <td>1196</td>\n",
       "      <td>4</td>\n",
       "      <td>975277040</td>\n",
       "    </tr>\n",
       "    <tr>\n",
       "      <th>431857</th>\n",
       "      <td>2631</td>\n",
       "      <td>3072</td>\n",
       "      <td>5</td>\n",
       "      <td>973613453</td>\n",
       "    </tr>\n",
       "    <tr>\n",
       "      <th>...</th>\n",
       "      <td>...</td>\n",
       "      <td>...</td>\n",
       "      <td>...</td>\n",
       "      <td>...</td>\n",
       "    </tr>\n",
       "    <tr>\n",
       "      <th>259178</th>\n",
       "      <td>1586</td>\n",
       "      <td>1077</td>\n",
       "      <td>5</td>\n",
       "      <td>974735719</td>\n",
       "    </tr>\n",
       "    <tr>\n",
       "      <th>365838</th>\n",
       "      <td>2129</td>\n",
       "      <td>2700</td>\n",
       "      <td>5</td>\n",
       "      <td>974643199</td>\n",
       "    </tr>\n",
       "    <tr>\n",
       "      <th>131932</th>\n",
       "      <td>854</td>\n",
       "      <td>3102</td>\n",
       "      <td>3</td>\n",
       "      <td>975355597</td>\n",
       "    </tr>\n",
       "    <tr>\n",
       "      <th>671155</th>\n",
       "      <td>4033</td>\n",
       "      <td>3479</td>\n",
       "      <td>5</td>\n",
       "      <td>965525805</td>\n",
       "    </tr>\n",
       "    <tr>\n",
       "      <th>121958</th>\n",
       "      <td>786</td>\n",
       "      <td>1391</td>\n",
       "      <td>4</td>\n",
       "      <td>975429588</td>\n",
       "    </tr>\n",
       "  </tbody>\n",
       "</table>\n",
       "<p>750156 rows × 4 columns</p>\n",
       "</div>"
      ],
      "text/plain": [
       "        user_id  movie_id  rating       time\n",
       "610738     3704      3784       3  966283775\n",
       "324752     1924       802       3  974694998\n",
       "808217     4837      1387       4  962891248\n",
       "133807      867      1196       4  975277040\n",
       "431857     2631      3072       5  973613453\n",
       "...         ...       ...     ...        ...\n",
       "259178     1586      1077       5  974735719\n",
       "365838     2129      2700       5  974643199\n",
       "131932      854      3102       3  975355597\n",
       "671155     4033      3479       5  965525805\n",
       "121958      786      1391       4  975429588\n",
       "\n",
       "[750156 rows x 4 columns]"
      ]
     },
     "execution_count": 19,
     "metadata": {},
     "output_type": "execute_result"
    }
   ],
   "source": [
    "rating_train, rating_test = cv.train_test_split(ratings_df, test_size=0.25, random_state=42)\n",
    "rating_train"
   ]
  },
  {
   "cell_type": "code",
   "execution_count": 20,
   "id": "370b0cec",
   "metadata": {},
   "outputs": [],
   "source": [
    "user_item_matrix = np.zeros((n_users, n_items))\n",
    "for row in rating_train.itertuples():\n",
    "    if row[2] >= n_items:\n",
    "        continue\n",
    "    user_item_matrix[row[1]-1, row[2]-1] = row[3]"
   ]
  },
  {
   "cell_type": "code",
   "execution_count": 21,
   "id": "649ae71a",
   "metadata": {},
   "outputs": [
    {
     "data": {
      "text/plain": [
       "(6040, 3952)"
      ]
     },
     "execution_count": 21,
     "metadata": {},
     "output_type": "execute_result"
    }
   ],
   "source": [
    "user_item_matrix.shape"
   ]
  },
  {
   "cell_type": "markdown",
   "id": "884ef384",
   "metadata": {},
   "source": [
    "#### user item similarity"
   ]
  },
  {
   "cell_type": "code",
   "execution_count": 22,
   "id": "c06eaddf",
   "metadata": {},
   "outputs": [],
   "source": [
    "item_similarity = np.ones((n_items, n_items)) - pairwise_distances(user_item_matrix.T, metric='cosine')"
   ]
  },
  {
   "cell_type": "code",
   "execution_count": 23,
   "id": "767cc663",
   "metadata": {},
   "outputs": [
    {
     "data": {
      "text/plain": [
       "(3952, 3952)"
      ]
     },
     "execution_count": 23,
     "metadata": {},
     "output_type": "execute_result"
    }
   ],
   "source": [
    "item_similarity.shape"
   ]
  },
  {
   "cell_type": "markdown",
   "id": "ef84bb59",
   "metadata": {},
   "source": [
    "#### genre similarity\n",
    "\n",
    "- genres are pipe-separated and are selected from the following genres:\n",
    "- Action|Adventure|Animation|Children's|Comedy|Crime|Documentary|Drama|Fantasy|Film-Noir|Horror|Musical|Mystery|Romance|Sci-Fi|Thriller|War|Western"
   ]
  },
  {
   "cell_type": "code",
   "execution_count": 24,
   "id": "8113789d",
   "metadata": {},
   "outputs": [],
   "source": [
    "genres = \"Action|Adventure|Animation|Children's|Comedy|Crime|Documentary|Drama|Fantasy|Film-Noir|Horror|Musical|Mystery|Romance|Sci-Fi|Thriller|War|Western\"\n",
    "genres = genres.split(\"|\")"
   ]
  },
  {
   "cell_type": "code",
   "execution_count": 25,
   "id": "22f78600",
   "metadata": {},
   "outputs": [
    {
     "data": {
      "text/html": [
       "<div>\n",
       "<style scoped>\n",
       "    .dataframe tbody tr th:only-of-type {\n",
       "        vertical-align: middle;\n",
       "    }\n",
       "\n",
       "    .dataframe tbody tr th {\n",
       "        vertical-align: top;\n",
       "    }\n",
       "\n",
       "    .dataframe thead th {\n",
       "        text-align: right;\n",
       "    }\n",
       "</style>\n",
       "<table border=\"1\" class=\"dataframe\">\n",
       "  <thead>\n",
       "    <tr style=\"text-align: right;\">\n",
       "      <th></th>\n",
       "      <th>Action</th>\n",
       "      <th>Adventure</th>\n",
       "      <th>Animation</th>\n",
       "      <th>Children's</th>\n",
       "      <th>Comedy</th>\n",
       "      <th>Crime</th>\n",
       "      <th>Documentary</th>\n",
       "      <th>Drama</th>\n",
       "      <th>Fantasy</th>\n",
       "      <th>Film-Noir</th>\n",
       "      <th>Horror</th>\n",
       "      <th>Musical</th>\n",
       "      <th>Mystery</th>\n",
       "      <th>Romance</th>\n",
       "      <th>Sci-Fi</th>\n",
       "      <th>Thriller</th>\n",
       "      <th>War</th>\n",
       "      <th>Western</th>\n",
       "    </tr>\n",
       "  </thead>\n",
       "  <tbody>\n",
       "    <tr>\n",
       "      <th>0</th>\n",
       "      <td>0</td>\n",
       "      <td>0</td>\n",
       "      <td>1</td>\n",
       "      <td>1</td>\n",
       "      <td>1</td>\n",
       "      <td>0</td>\n",
       "      <td>0</td>\n",
       "      <td>0</td>\n",
       "      <td>0</td>\n",
       "      <td>0</td>\n",
       "      <td>0</td>\n",
       "      <td>0</td>\n",
       "      <td>0</td>\n",
       "      <td>0</td>\n",
       "      <td>0</td>\n",
       "      <td>0</td>\n",
       "      <td>0</td>\n",
       "      <td>0</td>\n",
       "    </tr>\n",
       "    <tr>\n",
       "      <th>1</th>\n",
       "      <td>0</td>\n",
       "      <td>1</td>\n",
       "      <td>0</td>\n",
       "      <td>1</td>\n",
       "      <td>0</td>\n",
       "      <td>0</td>\n",
       "      <td>0</td>\n",
       "      <td>0</td>\n",
       "      <td>1</td>\n",
       "      <td>0</td>\n",
       "      <td>0</td>\n",
       "      <td>0</td>\n",
       "      <td>0</td>\n",
       "      <td>0</td>\n",
       "      <td>0</td>\n",
       "      <td>0</td>\n",
       "      <td>0</td>\n",
       "      <td>0</td>\n",
       "    </tr>\n",
       "    <tr>\n",
       "      <th>2</th>\n",
       "      <td>0</td>\n",
       "      <td>0</td>\n",
       "      <td>0</td>\n",
       "      <td>0</td>\n",
       "      <td>1</td>\n",
       "      <td>0</td>\n",
       "      <td>0</td>\n",
       "      <td>0</td>\n",
       "      <td>0</td>\n",
       "      <td>0</td>\n",
       "      <td>0</td>\n",
       "      <td>0</td>\n",
       "      <td>0</td>\n",
       "      <td>1</td>\n",
       "      <td>0</td>\n",
       "      <td>0</td>\n",
       "      <td>0</td>\n",
       "      <td>0</td>\n",
       "    </tr>\n",
       "    <tr>\n",
       "      <th>3</th>\n",
       "      <td>0</td>\n",
       "      <td>0</td>\n",
       "      <td>0</td>\n",
       "      <td>0</td>\n",
       "      <td>1</td>\n",
       "      <td>0</td>\n",
       "      <td>0</td>\n",
       "      <td>1</td>\n",
       "      <td>0</td>\n",
       "      <td>0</td>\n",
       "      <td>0</td>\n",
       "      <td>0</td>\n",
       "      <td>0</td>\n",
       "      <td>0</td>\n",
       "      <td>0</td>\n",
       "      <td>0</td>\n",
       "      <td>0</td>\n",
       "      <td>0</td>\n",
       "    </tr>\n",
       "    <tr>\n",
       "      <th>4</th>\n",
       "      <td>0</td>\n",
       "      <td>0</td>\n",
       "      <td>0</td>\n",
       "      <td>0</td>\n",
       "      <td>1</td>\n",
       "      <td>0</td>\n",
       "      <td>0</td>\n",
       "      <td>0</td>\n",
       "      <td>0</td>\n",
       "      <td>0</td>\n",
       "      <td>0</td>\n",
       "      <td>0</td>\n",
       "      <td>0</td>\n",
       "      <td>0</td>\n",
       "      <td>0</td>\n",
       "      <td>0</td>\n",
       "      <td>0</td>\n",
       "      <td>0</td>\n",
       "    </tr>\n",
       "    <tr>\n",
       "      <th>...</th>\n",
       "      <td>...</td>\n",
       "      <td>...</td>\n",
       "      <td>...</td>\n",
       "      <td>...</td>\n",
       "      <td>...</td>\n",
       "      <td>...</td>\n",
       "      <td>...</td>\n",
       "      <td>...</td>\n",
       "      <td>...</td>\n",
       "      <td>...</td>\n",
       "      <td>...</td>\n",
       "      <td>...</td>\n",
       "      <td>...</td>\n",
       "      <td>...</td>\n",
       "      <td>...</td>\n",
       "      <td>...</td>\n",
       "      <td>...</td>\n",
       "      <td>...</td>\n",
       "    </tr>\n",
       "    <tr>\n",
       "      <th>3947</th>\n",
       "      <td>0</td>\n",
       "      <td>0</td>\n",
       "      <td>0</td>\n",
       "      <td>0</td>\n",
       "      <td>1</td>\n",
       "      <td>0</td>\n",
       "      <td>0</td>\n",
       "      <td>0</td>\n",
       "      <td>0</td>\n",
       "      <td>0</td>\n",
       "      <td>0</td>\n",
       "      <td>0</td>\n",
       "      <td>0</td>\n",
       "      <td>0</td>\n",
       "      <td>0</td>\n",
       "      <td>0</td>\n",
       "      <td>0</td>\n",
       "      <td>0</td>\n",
       "    </tr>\n",
       "    <tr>\n",
       "      <th>3948</th>\n",
       "      <td>0</td>\n",
       "      <td>0</td>\n",
       "      <td>0</td>\n",
       "      <td>0</td>\n",
       "      <td>0</td>\n",
       "      <td>0</td>\n",
       "      <td>0</td>\n",
       "      <td>1</td>\n",
       "      <td>0</td>\n",
       "      <td>0</td>\n",
       "      <td>0</td>\n",
       "      <td>0</td>\n",
       "      <td>0</td>\n",
       "      <td>0</td>\n",
       "      <td>0</td>\n",
       "      <td>0</td>\n",
       "      <td>0</td>\n",
       "      <td>0</td>\n",
       "    </tr>\n",
       "    <tr>\n",
       "      <th>3949</th>\n",
       "      <td>0</td>\n",
       "      <td>0</td>\n",
       "      <td>0</td>\n",
       "      <td>0</td>\n",
       "      <td>0</td>\n",
       "      <td>0</td>\n",
       "      <td>0</td>\n",
       "      <td>1</td>\n",
       "      <td>0</td>\n",
       "      <td>0</td>\n",
       "      <td>0</td>\n",
       "      <td>0</td>\n",
       "      <td>0</td>\n",
       "      <td>0</td>\n",
       "      <td>0</td>\n",
       "      <td>0</td>\n",
       "      <td>0</td>\n",
       "      <td>0</td>\n",
       "    </tr>\n",
       "    <tr>\n",
       "      <th>3950</th>\n",
       "      <td>0</td>\n",
       "      <td>0</td>\n",
       "      <td>0</td>\n",
       "      <td>0</td>\n",
       "      <td>0</td>\n",
       "      <td>0</td>\n",
       "      <td>0</td>\n",
       "      <td>1</td>\n",
       "      <td>0</td>\n",
       "      <td>0</td>\n",
       "      <td>0</td>\n",
       "      <td>0</td>\n",
       "      <td>0</td>\n",
       "      <td>0</td>\n",
       "      <td>0</td>\n",
       "      <td>0</td>\n",
       "      <td>0</td>\n",
       "      <td>0</td>\n",
       "    </tr>\n",
       "    <tr>\n",
       "      <th>3951</th>\n",
       "      <td>0</td>\n",
       "      <td>0</td>\n",
       "      <td>0</td>\n",
       "      <td>0</td>\n",
       "      <td>0</td>\n",
       "      <td>0</td>\n",
       "      <td>0</td>\n",
       "      <td>1</td>\n",
       "      <td>0</td>\n",
       "      <td>0</td>\n",
       "      <td>0</td>\n",
       "      <td>0</td>\n",
       "      <td>0</td>\n",
       "      <td>0</td>\n",
       "      <td>0</td>\n",
       "      <td>1</td>\n",
       "      <td>0</td>\n",
       "      <td>0</td>\n",
       "    </tr>\n",
       "  </tbody>\n",
       "</table>\n",
       "<p>3952 rows × 18 columns</p>\n",
       "</div>"
      ],
      "text/plain": [
       "      Action  Adventure  Animation  Children's  Comedy  Crime  Documentary  \\\n",
       "0          0          0          1           1       1      0            0   \n",
       "1          0          1          0           1       0      0            0   \n",
       "2          0          0          0           0       1      0            0   \n",
       "3          0          0          0           0       1      0            0   \n",
       "4          0          0          0           0       1      0            0   \n",
       "...      ...        ...        ...         ...     ...    ...          ...   \n",
       "3947       0          0          0           0       1      0            0   \n",
       "3948       0          0          0           0       0      0            0   \n",
       "3949       0          0          0           0       0      0            0   \n",
       "3950       0          0          0           0       0      0            0   \n",
       "3951       0          0          0           0       0      0            0   \n",
       "\n",
       "      Drama  Fantasy  Film-Noir  Horror  Musical  Mystery  Romance  Sci-Fi  \\\n",
       "0         0        0          0       0        0        0        0       0   \n",
       "1         0        1          0       0        0        0        0       0   \n",
       "2         0        0          0       0        0        0        1       0   \n",
       "3         1        0          0       0        0        0        0       0   \n",
       "4         0        0          0       0        0        0        0       0   \n",
       "...     ...      ...        ...     ...      ...      ...      ...     ...   \n",
       "3947      0        0          0       0        0        0        0       0   \n",
       "3948      1        0          0       0        0        0        0       0   \n",
       "3949      1        0          0       0        0        0        0       0   \n",
       "3950      1        0          0       0        0        0        0       0   \n",
       "3951      1        0          0       0        0        0        0       0   \n",
       "\n",
       "      Thriller  War  Western  \n",
       "0            0    0        0  \n",
       "1            0    0        0  \n",
       "2            0    0        0  \n",
       "3            0    0        0  \n",
       "4            0    0        0  \n",
       "...        ...  ...      ...  \n",
       "3947         0    0        0  \n",
       "3948         0    0        0  \n",
       "3949         0    0        0  \n",
       "3950         0    0        0  \n",
       "3951         1    0        0  \n",
       "\n",
       "[3952 rows x 18 columns]"
      ]
     },
     "execution_count": 25,
     "metadata": {},
     "output_type": "execute_result"
    }
   ],
   "source": [
    "genres_df = pd.DataFrame(0, index=np.arange(n_items), columns=genres)\n",
    "\n",
    "for i in range(len(movies_df)):\n",
    "    theGenres = movies_df.loc[i, \"Genre\"].split(\"|\")\n",
    "    m_id = movies_df.loc[i, \"MovieID\"]\n",
    "    for g in theGenres:\n",
    "        genres_df.loc[m_id-1, g] = 1\n",
    "\n",
    "genres_df"
   ]
  },
  {
   "cell_type": "code",
   "execution_count": 26,
   "id": "9347172d",
   "metadata": {},
   "outputs": [],
   "source": [
    "genre_similarity = np.ones((n_items, n_items)) - pairwise_distances(genres_df, metric='cosine')"
   ]
  },
  {
   "cell_type": "code",
   "execution_count": 27,
   "id": "1a9f528d",
   "metadata": {},
   "outputs": [
    {
     "data": {
      "text/plain": [
       "(3952, 3952)"
      ]
     },
     "execution_count": 27,
     "metadata": {},
     "output_type": "execute_result"
    }
   ],
   "source": [
    "genre_similarity.shape"
   ]
  },
  {
   "cell_type": "markdown",
   "id": "effca842",
   "metadata": {},
   "source": [
    "#### release year similarity"
   ]
  },
  {
   "cell_type": "code",
   "execution_count": 28,
   "id": "55fb28aa",
   "metadata": {},
   "outputs": [],
   "source": [
    "movies_df['release_year'] = 0\n",
    "for i in range(len(movies_df)):\n",
    "    movies_df.loc[i,\"release_year\"] = re.findall(r\"\\(\\d+\\)\", movies_df.loc[i, 'Title'])[0][1:-1]"
   ]
  },
  {
   "cell_type": "code",
   "execution_count": 29,
   "id": "4e9e7df0",
   "metadata": {},
   "outputs": [
    {
     "data": {
      "text/plain": [
       "array(['1995', '1994', '1996', '1976', '1993', '1992', '1988', '1967',\n",
       "       '1964', '1977', '1965', '1982', '1962', '1990', '1991', '1989',\n",
       "       '1937', '1940', '1969', '1981', '1973', '1970', '1960', '1955',\n",
       "       '1956', '1959', '1968', '1980', '1975', '1986', '1948', '1943',\n",
       "       '1963', '1950', '1946', '1987', '1997', '1974', '1958', '1949',\n",
       "       '1972', '1998', '1933', '1952', '1951', '1957', '1961', '1954',\n",
       "       '1934', '1944', '1942', '1941', '1953', '1939', '1947', '1945',\n",
       "       '1938', '1935', '1936', '1926', '1932', '1930', '1971', '1979',\n",
       "       '1966', '1978', '1985', '1983', '1984', '1931', '1922', '1927',\n",
       "       '1929', '1928', '1925', '1923', '1999', '1919', '2000', '1920',\n",
       "       '1921'], dtype=object)"
      ]
     },
     "execution_count": 29,
     "metadata": {},
     "output_type": "execute_result"
    }
   ],
   "source": [
    "movies_df['release_year'].unique()"
   ]
  },
  {
   "cell_type": "code",
   "execution_count": 30,
   "id": "0b824647",
   "metadata": {},
   "outputs": [
    {
     "data": {
      "text/plain": [
       "0          1\n",
       "1          2\n",
       "2          3\n",
       "3          4\n",
       "4          5\n",
       "        ... \n",
       "2749    2818\n",
       "2977    3046\n",
       "3377    3446\n",
       "3408    3477\n",
       "3504    3573\n",
       "Name: MovieID, Length: 342, dtype: int64"
      ]
     },
     "execution_count": 30,
     "metadata": {},
     "output_type": "execute_result"
    }
   ],
   "source": [
    "movies_df[movies_df['release_year'] == \"1995\"]['MovieID']"
   ]
  },
  {
   "cell_type": "code",
   "execution_count": 31,
   "id": "39b40f7a",
   "metadata": {},
   "outputs": [],
   "source": [
    "year_similarity = np.zeros((n_items, n_items))\n",
    "year_lyst = movies_df['release_year'].unique()\n",
    "\n",
    "for y in year_lyst:\n",
    "    id_lyst = movies_df[movies_df['release_year'] == y]['MovieID']\n",
    "    for i in id_lyst:\n",
    "        for j in id_lyst:\n",
    "            year_similarity[i-1][j-1] = 1"
   ]
  },
  {
   "cell_type": "code",
   "execution_count": 32,
   "id": "92e8f999",
   "metadata": {},
   "outputs": [
    {
     "data": {
      "text/plain": [
       "(3952, 3952)"
      ]
     },
     "execution_count": 32,
     "metadata": {},
     "output_type": "execute_result"
    }
   ],
   "source": [
    "year_similarity.shape"
   ]
  },
  {
   "cell_type": "markdown",
   "id": "265d07fa",
   "metadata": {},
   "source": [
    "#### bipartite similarity"
   ]
  },
  {
   "cell_type": "markdown",
   "id": "b5b6bbae",
   "metadata": {},
   "source": [
    "- add node and edges"
   ]
  },
  {
   "cell_type": "code",
   "execution_count": 25,
   "id": "8c1e4eda",
   "metadata": {},
   "outputs": [],
   "source": [
    "users_str = np.array([str(user) for user in users])\n",
    "ratings_df['user_id_str'] = ratings_df['user_id'].apply(str)"
   ]
  },
  {
   "cell_type": "code",
   "execution_count": 26,
   "id": "bae6df17",
   "metadata": {},
   "outputs": [],
   "source": [
    "g = nx.Graph()\n",
    "g.add_nodes_from(users_str, bipartite=0)\n",
    "g.add_nodes_from(items, bipartite=1)\n",
    "\n",
    "edges = ratings_df[['user_id_str', 'movie_id']].values\n",
    "g.add_edges_from(edges)"
   ]
  },
  {
   "cell_type": "code",
   "execution_count": 27,
   "id": "a27ed544",
   "metadata": {},
   "outputs": [],
   "source": [
    "B = bipartite.overlap_weighted_projected_graph(g, items)\n",
    "B_edges = list(B.edges(data=True))"
   ]
  },
  {
   "cell_type": "code",
   "execution_count": 28,
   "id": "19b34f03",
   "metadata": {},
   "outputs": [],
   "source": [
    "B_similarity = np.zeros((n_items, n_items))\n",
    "for i, j, weight in B_edges:\n",
    "    B_similarity[i-1, j-1] = weight['weight']\n",
    "    B_similarity[j-1, i-1] = weight['weight']"
   ]
  },
  {
   "cell_type": "code",
   "execution_count": 29,
   "id": "3f2d6682",
   "metadata": {},
   "outputs": [
    {
     "data": {
      "text/plain": [
       "(3952, 3952)"
      ]
     },
     "execution_count": 29,
     "metadata": {},
     "output_type": "execute_result"
    }
   ],
   "source": [
    "B_similarity.shape"
   ]
  },
  {
   "cell_type": "code",
   "execution_count": 30,
   "id": "d4e2855e",
   "metadata": {},
   "outputs": [],
   "source": [
    "pd.DataFrame(B_similarity).to_csv(\"B_similarity.csv\")"
   ]
  },
  {
   "cell_type": "code",
   "execution_count": 33,
   "id": "26c2f9be",
   "metadata": {},
   "outputs": [],
   "source": [
    "B_similarity = pd.read_csv(\"B_similarity.csv\")\n",
    "B_similarity = np.array(B_similarity.drop('Unnamed: 0', axis=1))"
   ]
  },
  {
   "cell_type": "markdown",
   "id": "69a4b155",
   "metadata": {},
   "source": [
    "#### transition matrix"
   ]
  },
  {
   "cell_type": "code",
   "execution_count": 34,
   "id": "b374b2e8",
   "metadata": {},
   "outputs": [
    {
     "name": "stderr",
     "output_type": "stream",
     "text": [
      "/var/folders/lw/89cmv85n17z5b_mb4hj4l5z80000gn/T/ipykernel_52046/670482545.py:16: RuntimeWarning: invalid value encountered in double_scalars\n",
      "  transition_matrix_B[i,j] = B_similarity[i][j]/b_sum\n",
      "/var/folders/lw/89cmv85n17z5b_mb4hj4l5z80000gn/T/ipykernel_52046/670482545.py:14: RuntimeWarning: invalid value encountered in double_scalars\n",
      "  transition_matrix_genre[i,j] = genre_similarity[i][j]/genre_sum\n",
      "/var/folders/lw/89cmv85n17z5b_mb4hj4l5z80000gn/T/ipykernel_52046/670482545.py:15: RuntimeWarning: invalid value encountered in double_scalars\n",
      "  transition_matrix_year[i,j] = year_similarity[i][j]/year_sum\n"
     ]
    }
   ],
   "source": [
    "transition_matrix_item = np.zeros((n_items, n_items))\n",
    "transition_matrix_B = np.zeros((n_items, n_items))\n",
    "transition_matrix_year = np.zeros((n_items, n_items))\n",
    "transition_matrix_genre = np.zeros((n_items, n_items))\n",
    "\n",
    "for i in range(n_items):\n",
    "    sim_sum = item_similarity[i].sum()\n",
    "    genre_sum = genre_similarity[i].sum()\n",
    "    year_sum = year_similarity[i].sum()\n",
    "    b_sum = B_similarity[i].sum()\n",
    "    \n",
    "    for j in range(n_items):\n",
    "        transition_matrix_item[i,j] = item_similarity[i][j]/sim_sum\n",
    "        transition_matrix_genre[i,j] = genre_similarity[i][j]/genre_sum\n",
    "        transition_matrix_year[i,j] = year_similarity[i][j]/year_sum\n",
    "        transition_matrix_B[i,j] = B_similarity[i][j]/b_sum\n",
    "        "
   ]
  },
  {
   "cell_type": "code",
   "execution_count": 35,
   "id": "df640907",
   "metadata": {},
   "outputs": [],
   "source": [
    "test_user_item_matrix = np.zeros((n_users, n_items))\n",
    "for row in rating_test.itertuples():\n",
    "    if row[2] >= n_items:\n",
    "        continue\n",
    "    test_user_item_matrix[row[1]-1, row[2]-1] = row[3]"
   ]
  },
  {
   "cell_type": "code",
   "execution_count": 36,
   "id": "18e910a4",
   "metadata": {},
   "outputs": [
    {
     "data": {
      "text/plain": [
       "(6040, 3952)"
      ]
     },
     "execution_count": 36,
     "metadata": {},
     "output_type": "execute_result"
    }
   ],
   "source": [
    "test_user_item_matrix.shape"
   ]
  },
  {
   "cell_type": "code",
   "execution_count": 37,
   "id": "f5496859",
   "metadata": {},
   "outputs": [],
   "source": [
    "scaler = MinMaxScaler()\n",
    "\n",
    "def random_walk_predict(ratings, transition_matrix, alpha):\n",
    "    x = (np.eye(n_items)-alpha*transition_matrix)\n",
    "    \n",
    "    #Obtain mean of columns as you need, nanmean is convenient.\n",
    "    col_mean = np.nanmean(x, axis=0)\n",
    "    #Find indices that you need to replace\n",
    "    inds = np.where(np.isnan(x))\n",
    "    #Place column means in the indices. Align the arrays using take\n",
    "    x[inds] = np.take(col_mean, inds[1])\n",
    "    \n",
    "    p_tilde = np.linalg.pinv(x)\n",
    "    final_rating = alpha*np.dot(ratings, np.dot(x, p_tilde))\n",
    "    scaled_prediction = (scaler.fit_transform(final_rating.T)*5).T\n",
    "    return scaled_prediction"
   ]
  },
  {
   "cell_type": "code",
   "execution_count": 38,
   "id": "a73e4cf5",
   "metadata": {},
   "outputs": [],
   "source": [
    "def rmse(prediction, test_data_matrix):\n",
    "    mask = test_data_matrix.nonzero()\n",
    "    prediction = prediction[mask].flatten()\n",
    "    truth = test_data_matrix[mask].flatten()\n",
    "    return sqrt(mean_squared_error(prediction, truth))"
   ]
  },
  {
   "cell_type": "code",
   "execution_count": 39,
   "id": "b4487505",
   "metadata": {},
   "outputs": [],
   "source": [
    "alphas = [0.7, 0.8, 0.9, 1.0]\n",
    "betas = [0.6, 0.7, 0.8, 0.9, 1.0]\n",
    "w1s = w2s = w3s = [0.0, 0.1, 0.2, 0.3, 0.4, 0.5, 0.6, 0.7, 0.8, 0.9, 1.0]\n",
    "weights = [(w1, w2, w3) for w1 in w1s for w2 in w2s for w3 in w3s if w1 + w2 +w3 <= 1 ]\n",
    "parameters = [(alpha, beta, w1, w2, w3) for alpha in alphas for beta in betas for w1, w2 ,w3 in weights]"
   ]
  },
  {
   "cell_type": "code",
   "execution_count": 40,
   "id": "085f16af",
   "metadata": {},
   "outputs": [
    {
     "data": {
      "text/plain": [
       "5720"
      ]
     },
     "execution_count": 40,
     "metadata": {},
     "output_type": "execute_result"
    }
   ],
   "source": [
    "len(parameters)"
   ]
  },
  {
   "cell_type": "code",
   "execution_count": 41,
   "id": "84f90a13",
   "metadata": {},
   "outputs": [],
   "source": [
    "def run_grid_search(parameters):\n",
    "    results = {}\n",
    "    for parameter in tqdm(parameters):\n",
    "        alpha, beta, w1, w2, w3 = parameter\n",
    "        transition_matrix = beta*(w1*transition_matrix_item + w2*transition_matrix_year + w3*transition_matrix_B + (1-w1-w2-w3)*transition_matrix_genre) + (1-beta)/n_items\n",
    "        try:\n",
    "            prediction = random_walk_predict(user_item_matrix, transition_matrix, alpha)\n",
    "        except:\n",
    "            continue\n",
    "        results[parameter] = rmse(prediction, test_user_item_matrix)\n",
    "    return results"
   ]
  },
  {
   "cell_type": "code",
   "execution_count": 43,
   "id": "5f7504d3",
   "metadata": {},
   "outputs": [
    {
     "name": "stderr",
     "output_type": "stream",
     "text": [
      "100%|██████████| 1/1 [00:31<00:00, 31.94s/it]\n"
     ]
    },
    {
     "data": {
      "text/plain": [
       "{(0.9, 0.7, 0.0, 0.4, 0.6): 3.029640112176484}"
      ]
     },
     "execution_count": 43,
     "metadata": {},
     "output_type": "execute_result"
    }
   ],
   "source": [
    "run_grid_search([(0.9, 0.7, 0.0, 0.4, 0.6)])"
   ]
  },
  {
   "cell_type": "code",
   "execution_count": 42,
   "id": "4f02607f",
   "metadata": {},
   "outputs": [
    {
     "name": "stderr",
     "output_type": "stream",
     "text": [
      "  0%|          | 2/5720 [00:53<42:50:01, 26.97s/it]"
     ]
    }
   ],
   "source": [
    "results = run_grid_search(parameters)"
   ]
  },
  {
   "cell_type": "code",
   "execution_count": 106,
   "id": "87325d84",
   "metadata": {},
   "outputs": [
    {
     "data": {
      "text/plain": [
       "(0.9, 0.7, 0.0, 0.4, 0.6)"
      ]
     },
     "execution_count": 106,
     "metadata": {},
     "output_type": "execute_result"
    }
   ],
   "source": [
    "alpha, beta, w1, w2, w3 = min(results, key=results.get)\n",
    "alpha, beta, w1, w2, w3"
   ]
  },
  {
   "cell_type": "code",
   "execution_count": 113,
   "id": "8363e3e2",
   "metadata": {},
   "outputs": [],
   "source": [
    "pd.DataFrame({\"key\":results.keys(), \"values\":results.values()}).to_csv(\"results.csv\", index=False)"
   ]
  },
  {
   "cell_type": "code",
   "execution_count": null,
   "id": "e02d276f",
   "metadata": {},
   "outputs": [],
   "source": []
  }
 ],
 "metadata": {
  "kernelspec": {
   "display_name": "Python 3.9.12 ('base')",
   "language": "python",
   "name": "python3"
  },
  "language_info": {
   "codemirror_mode": {
    "name": "ipython",
    "version": 3
   },
   "file_extension": ".py",
   "mimetype": "text/x-python",
   "name": "python",
   "nbconvert_exporter": "python",
   "pygments_lexer": "ipython3",
   "version": "3.9.12"
  },
  "vscode": {
   "interpreter": {
    "hash": "3efed1a0a2fdd8be36446bfd29570da5c8155b70bce854ad7488b53590c878ad"
   }
  }
 },
 "nbformat": 4,
 "nbformat_minor": 5
}
