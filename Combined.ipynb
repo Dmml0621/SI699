{
 "cells": [
  {
   "cell_type": "markdown",
   "id": "7aa488f7",
   "metadata": {},
   "source": [
    "# Diffusion-based, combining item-item and user-user"
   ]
  },
  {
   "cell_type": "code",
   "execution_count": 63,
   "id": "ae8cc0fa",
   "metadata": {},
   "outputs": [],
   "source": [
    "import numpy as np\n",
    "import pandas as pd\n",
    "import matplotlib.pyplot as plt\n",
    "from sklearn.model_selection import train_test_split\n",
    "from sklearn.metrics.pairwise import pairwise_distances\n",
    "import re\n",
    "import os\n",
    "\n",
    "import networkx as nx\n",
    "from networkx.algorithms import bipartite\n",
    "\n",
    "from sklearn.metrics import mean_squared_error\n",
    "from sklearn.preprocessing import MinMaxScaler\n",
    "from math import sqrt\n",
    "from tqdm import tqdm"
   ]
  },
  {
   "cell_type": "code",
   "execution_count": 2,
   "id": "812075e6",
   "metadata": {},
   "outputs": [],
   "source": [
    "df_movies = pd.read_csv('data/movies.dat',\n",
    "                        delimiter='::', engine= 'python', encoding='ISO-8859-1', header=None,\n",
    "                        names=['movie_id', 'movie_name', 'genre'])\n",
    "\n",
    "df_users = pd.read_csv('data/users.dat',\n",
    "                       delimiter='::', engine='python',  encoding='ISO-8859-1',header=None,\n",
    "                       names=['user_id', 'gender', 'age', 'occupation', 'zip_code'])\n",
    "\n",
    "df_ratings = pd.read_csv('data/ratings.dat',\n",
    "                         delimiter='::', engine='python',  encoding='ISO-8859-1',header=None,\n",
    "                         names=['user_id', 'movie_id', 'rating', 'time'])"
   ]
  },
  {
   "cell_type": "code",
   "execution_count": 3,
   "id": "a94661e6",
   "metadata": {},
   "outputs": [],
   "source": [
    "df_movies['year'] = df_movies.movie_name.apply(lambda x: re.findall(r'\\(\\d{4}\\)', x)[0][1:-1])\n",
    "df_ratings.drop(columns=['time'], inplace=True)"
   ]
  },
  {
   "cell_type": "code",
   "execution_count": 4,
   "id": "3c91a619",
   "metadata": {},
   "outputs": [
    {
     "data": {
      "text/html": [
       "<div>\n",
       "<style scoped>\n",
       "    .dataframe tbody tr th:only-of-type {\n",
       "        vertical-align: middle;\n",
       "    }\n",
       "\n",
       "    .dataframe tbody tr th {\n",
       "        vertical-align: top;\n",
       "    }\n",
       "\n",
       "    .dataframe thead th {\n",
       "        text-align: right;\n",
       "    }\n",
       "</style>\n",
       "<table border=\"1\" class=\"dataframe\">\n",
       "  <thead>\n",
       "    <tr style=\"text-align: right;\">\n",
       "      <th></th>\n",
       "      <th>movie_id</th>\n",
       "      <th>movie_name</th>\n",
       "      <th>genre</th>\n",
       "      <th>year</th>\n",
       "    </tr>\n",
       "  </thead>\n",
       "  <tbody>\n",
       "    <tr>\n",
       "      <th>0</th>\n",
       "      <td>1</td>\n",
       "      <td>Toy Story (1995)</td>\n",
       "      <td>Animation|Children's|Comedy</td>\n",
       "      <td>1995</td>\n",
       "    </tr>\n",
       "    <tr>\n",
       "      <th>1</th>\n",
       "      <td>2</td>\n",
       "      <td>Jumanji (1995)</td>\n",
       "      <td>Adventure|Children's|Fantasy</td>\n",
       "      <td>1995</td>\n",
       "    </tr>\n",
       "    <tr>\n",
       "      <th>2</th>\n",
       "      <td>3</td>\n",
       "      <td>Grumpier Old Men (1995)</td>\n",
       "      <td>Comedy|Romance</td>\n",
       "      <td>1995</td>\n",
       "    </tr>\n",
       "    <tr>\n",
       "      <th>3</th>\n",
       "      <td>4</td>\n",
       "      <td>Waiting to Exhale (1995)</td>\n",
       "      <td>Comedy|Drama</td>\n",
       "      <td>1995</td>\n",
       "    </tr>\n",
       "    <tr>\n",
       "      <th>4</th>\n",
       "      <td>5</td>\n",
       "      <td>Father of the Bride Part II (1995)</td>\n",
       "      <td>Comedy</td>\n",
       "      <td>1995</td>\n",
       "    </tr>\n",
       "  </tbody>\n",
       "</table>\n",
       "</div>"
      ],
      "text/plain": [
       "   movie_id                          movie_name                         genre  \\\n",
       "0         1                    Toy Story (1995)   Animation|Children's|Comedy   \n",
       "1         2                      Jumanji (1995)  Adventure|Children's|Fantasy   \n",
       "2         3             Grumpier Old Men (1995)                Comedy|Romance   \n",
       "3         4            Waiting to Exhale (1995)                  Comedy|Drama   \n",
       "4         5  Father of the Bride Part II (1995)                        Comedy   \n",
       "\n",
       "   year  \n",
       "0  1995  \n",
       "1  1995  \n",
       "2  1995  \n",
       "3  1995  \n",
       "4  1995  "
      ]
     },
     "execution_count": 4,
     "metadata": {},
     "output_type": "execute_result"
    }
   ],
   "source": [
    "df_movies.head()"
   ]
  },
  {
   "cell_type": "code",
   "execution_count": 5,
   "id": "f491a100",
   "metadata": {},
   "outputs": [
    {
     "data": {
      "text/html": [
       "<div>\n",
       "<style scoped>\n",
       "    .dataframe tbody tr th:only-of-type {\n",
       "        vertical-align: middle;\n",
       "    }\n",
       "\n",
       "    .dataframe tbody tr th {\n",
       "        vertical-align: top;\n",
       "    }\n",
       "\n",
       "    .dataframe thead th {\n",
       "        text-align: right;\n",
       "    }\n",
       "</style>\n",
       "<table border=\"1\" class=\"dataframe\">\n",
       "  <thead>\n",
       "    <tr style=\"text-align: right;\">\n",
       "      <th></th>\n",
       "      <th>user_id</th>\n",
       "      <th>gender</th>\n",
       "      <th>age</th>\n",
       "      <th>occupation</th>\n",
       "      <th>zip_code</th>\n",
       "    </tr>\n",
       "  </thead>\n",
       "  <tbody>\n",
       "    <tr>\n",
       "      <th>0</th>\n",
       "      <td>1</td>\n",
       "      <td>F</td>\n",
       "      <td>1</td>\n",
       "      <td>10</td>\n",
       "      <td>48067</td>\n",
       "    </tr>\n",
       "    <tr>\n",
       "      <th>1</th>\n",
       "      <td>2</td>\n",
       "      <td>M</td>\n",
       "      <td>56</td>\n",
       "      <td>16</td>\n",
       "      <td>70072</td>\n",
       "    </tr>\n",
       "    <tr>\n",
       "      <th>2</th>\n",
       "      <td>3</td>\n",
       "      <td>M</td>\n",
       "      <td>25</td>\n",
       "      <td>15</td>\n",
       "      <td>55117</td>\n",
       "    </tr>\n",
       "    <tr>\n",
       "      <th>3</th>\n",
       "      <td>4</td>\n",
       "      <td>M</td>\n",
       "      <td>45</td>\n",
       "      <td>7</td>\n",
       "      <td>02460</td>\n",
       "    </tr>\n",
       "    <tr>\n",
       "      <th>4</th>\n",
       "      <td>5</td>\n",
       "      <td>M</td>\n",
       "      <td>25</td>\n",
       "      <td>20</td>\n",
       "      <td>55455</td>\n",
       "    </tr>\n",
       "  </tbody>\n",
       "</table>\n",
       "</div>"
      ],
      "text/plain": [
       "   user_id gender  age  occupation zip_code\n",
       "0        1      F    1          10    48067\n",
       "1        2      M   56          16    70072\n",
       "2        3      M   25          15    55117\n",
       "3        4      M   45           7    02460\n",
       "4        5      M   25          20    55455"
      ]
     },
     "execution_count": 5,
     "metadata": {},
     "output_type": "execute_result"
    }
   ],
   "source": [
    "df_users.head()"
   ]
  },
  {
   "cell_type": "code",
   "execution_count": 6,
   "id": "3eaa7c57",
   "metadata": {},
   "outputs": [
    {
     "data": {
      "text/html": [
       "<div>\n",
       "<style scoped>\n",
       "    .dataframe tbody tr th:only-of-type {\n",
       "        vertical-align: middle;\n",
       "    }\n",
       "\n",
       "    .dataframe tbody tr th {\n",
       "        vertical-align: top;\n",
       "    }\n",
       "\n",
       "    .dataframe thead th {\n",
       "        text-align: right;\n",
       "    }\n",
       "</style>\n",
       "<table border=\"1\" class=\"dataframe\">\n",
       "  <thead>\n",
       "    <tr style=\"text-align: right;\">\n",
       "      <th></th>\n",
       "      <th>user_id</th>\n",
       "      <th>movie_id</th>\n",
       "      <th>rating</th>\n",
       "    </tr>\n",
       "  </thead>\n",
       "  <tbody>\n",
       "    <tr>\n",
       "      <th>0</th>\n",
       "      <td>1</td>\n",
       "      <td>1193</td>\n",
       "      <td>5</td>\n",
       "    </tr>\n",
       "    <tr>\n",
       "      <th>1</th>\n",
       "      <td>1</td>\n",
       "      <td>661</td>\n",
       "      <td>3</td>\n",
       "    </tr>\n",
       "    <tr>\n",
       "      <th>2</th>\n",
       "      <td>1</td>\n",
       "      <td>914</td>\n",
       "      <td>3</td>\n",
       "    </tr>\n",
       "    <tr>\n",
       "      <th>3</th>\n",
       "      <td>1</td>\n",
       "      <td>3408</td>\n",
       "      <td>4</td>\n",
       "    </tr>\n",
       "    <tr>\n",
       "      <th>4</th>\n",
       "      <td>1</td>\n",
       "      <td>2355</td>\n",
       "      <td>5</td>\n",
       "    </tr>\n",
       "  </tbody>\n",
       "</table>\n",
       "</div>"
      ],
      "text/plain": [
       "   user_id  movie_id  rating\n",
       "0        1      1193       5\n",
       "1        1       661       3\n",
       "2        1       914       3\n",
       "3        1      3408       4\n",
       "4        1      2355       5"
      ]
     },
     "execution_count": 6,
     "metadata": {},
     "output_type": "execute_result"
    }
   ],
   "source": [
    "df_ratings.head()"
   ]
  },
  {
   "cell_type": "markdown",
   "id": "89c56c5b",
   "metadata": {},
   "source": [
    "### Deal with user metadata"
   ]
  },
  {
   "cell_type": "markdown",
   "id": "1b1da8e9",
   "metadata": {},
   "source": [
    "Add region classification"
   ]
  },
  {
   "cell_type": "code",
   "execution_count": 7,
   "id": "3f562e0b",
   "metadata": {},
   "outputs": [],
   "source": [
    "df_users.zip_code = df_users.zip_code.apply(lambda x: x.split('-')[0]).astype(int)"
   ]
  },
  {
   "cell_type": "code",
   "execution_count": 8,
   "id": "46ba42f1",
   "metadata": {},
   "outputs": [],
   "source": [
    "df_users = pd.merge(df_users, pd.read_csv('data/zip_code_database.csv'), how='left', left_on='zip_code', right_on='zip')\n",
    "df_users.drop(\n",
    "    columns=['decommissioned', 'primary_city', 'acceptable_cities', 'unacceptable_cities', \n",
    "             'type', 'zip', 'county', 'timezone', 'area_codes', 'world_region', 'country', \n",
    "             'latitude', 'longitude'],\n",
    "    inplace=True)"
   ]
  },
  {
   "cell_type": "code",
   "execution_count": 9,
   "id": "07d8aef7",
   "metadata": {},
   "outputs": [],
   "source": [
    "df_users.dropna(inplace=True)"
   ]
  },
  {
   "cell_type": "code",
   "execution_count": 10,
   "id": "78188a94",
   "metadata": {},
   "outputs": [],
   "source": [
    "census_region_mapping = {\n",
    "    'WEST': ['WA', 'OR', 'CA', 'NV', 'ID', 'MT', 'WY', 'UT', 'CO', 'HI', 'AK', 'NM', 'AZ'],\n",
    "    'SOUTH': ['TX', 'OK', 'AR', 'LA', 'KY', 'TN', 'MS', 'AL', 'WV', \n",
    "              'VA', 'DC', 'DE', 'MD', 'NC', 'SC', 'GA', 'FL', 'PR'],\n",
    "    'MIDWEST': ['ND', 'SD', 'NE', 'KS', 'MN', 'IA', 'MO', 'WI', 'IL', 'MI', 'IN', 'OH'],\n",
    "    'NORTHEAST': ['PA', 'NY', 'NJ', 'RI', 'CT', 'MA', 'NH', 'VT', 'ME']\n",
    "}\n",
    "\n",
    "def match_region(state: str) -> str:\n",
    "    for k, v in census_region_mapping.items():\n",
    "        if state in v:\n",
    "            return k\n",
    "    return state"
   ]
  },
  {
   "cell_type": "code",
   "execution_count": 11,
   "id": "1217758a",
   "metadata": {},
   "outputs": [],
   "source": [
    "df_users['region'] = df_users.state.apply(match_region)"
   ]
  },
  {
   "cell_type": "code",
   "execution_count": 12,
   "id": "6a9d3ffd",
   "metadata": {},
   "outputs": [
    {
     "data": {
      "text/plain": [
       "user_id                     0\n",
       "gender                      0\n",
       "age                         0\n",
       "occupation                  0\n",
       "zip_code                    0\n",
       "state                       0\n",
       "irs_estimated_population    0\n",
       "region                      0\n",
       "dtype: int64"
      ]
     },
     "execution_count": 12,
     "metadata": {},
     "output_type": "execute_result"
    }
   ],
   "source": [
    "df_users.isna().sum()"
   ]
  },
  {
   "cell_type": "markdown",
   "id": "abedc3d2",
   "metadata": {},
   "source": [
    "Convert population to categorical"
   ]
  },
  {
   "cell_type": "code",
   "execution_count": 13,
   "id": "10b794e7",
   "metadata": {},
   "outputs": [
    {
     "data": {
      "image/png": "[encoded data removed]",
      "text/plain": [
       "<Figure size 640x480 with 1 Axes>"
      ]
     },
     "metadata": {},
     "output_type": "display_data"
    }
   ],
   "source": [
    "_ = df_users.irs_estimated_population.hist(bins=10)"
   ]
  },
  {
   "cell_type": "code",
   "execution_count": 14,
   "id": "7a001ad2",
   "metadata": {},
   "outputs": [],
   "source": [
    "population_bins = [0, 15000, 20000, 30000, 35000, 40000, 60000, 150000]\n",
    "population_labels = [1, 2, 3, 4, 5, 6, 7]\n",
    "df_users['population'] = pd.cut(df_users.irs_estimated_population, bins=population_bins, labels=population_labels)"
   ]
  },
  {
   "cell_type": "markdown",
   "id": "8d433287",
   "metadata": {},
   "source": [
    "### Merge item user data and split into train and test data"
   ]
  },
  {
   "cell_type": "code",
   "execution_count": 15,
   "id": "680b40e3",
   "metadata": {},
   "outputs": [],
   "source": [
    "# get rid of ratings with no zip information\n",
    "df_ratings = df_ratings[df_ratings.user_id.isin(df_users.user_id)]\n",
    "# reduce movies to those only exist in ratings\n",
    "df_movies = df_movies[df_movies.movie_id.isin(df_ratings.movie_id)]"
   ]
  },
  {
   "cell_type": "code",
   "execution_count": 16,
   "id": "01b5ada3",
   "metadata": {},
   "outputs": [],
   "source": [
    "df_ratings_train_temp, df_ratings_test_temp = train_test_split(df_ratings, test_size=0.25, random_state=42)"
   ]
  },
  {
   "cell_type": "code",
   "execution_count": 17,
   "id": "8ae136c0",
   "metadata": {},
   "outputs": [],
   "source": [
    "df_ratings_train = df_ratings.copy()\n",
    "df_ratings_test = df_ratings.copy()"
   ]
  },
  {
   "cell_type": "code",
   "execution_count": 18,
   "id": "8c898b06",
   "metadata": {},
   "outputs": [],
   "source": [
    "df_ratings_train.loc[df_ratings_test_temp.index, 'rating'] = 0\n",
    "df_ratings_test.loc[df_ratings_train_temp.index, 'rating'] = 0"
   ]
  },
  {
   "cell_type": "code",
   "execution_count": 19,
   "id": "ec26fbc2",
   "metadata": {},
   "outputs": [],
   "source": [
    "df_ratings_train_mat = pd.pivot(df_ratings_train, index='user_id', columns='movie_id', values='rating').fillna(0).to_numpy()\n",
    "df_ratings_test_mat = pd.pivot(df_ratings_test, index='user_id', columns='movie_id', values='rating').fillna(0).to_numpy()"
   ]
  },
  {
   "cell_type": "code",
   "execution_count": 20,
   "id": "f6cebd11",
   "metadata": {},
   "outputs": [
    {
     "data": {
      "text/plain": [
       "(5972, 3705)"
      ]
     },
     "execution_count": 20,
     "metadata": {},
     "output_type": "execute_result"
    }
   ],
   "source": [
    "df_ratings_train_mat.shape"
   ]
  },
  {
   "cell_type": "code",
   "execution_count": 21,
   "id": "6bb7a80d",
   "metadata": {},
   "outputs": [
    {
     "data": {
      "text/plain": [
       "(5972, 3705)"
      ]
     },
     "execution_count": 21,
     "metadata": {},
     "output_type": "execute_result"
    }
   ],
   "source": [
    "df_ratings_test_mat.shape"
   ]
  },
  {
   "cell_type": "code",
   "execution_count": 22,
   "id": "acb950a9",
   "metadata": {},
   "outputs": [],
   "source": [
    "N_users, N_movies = df_ratings_train_mat.shape"
   ]
  },
  {
   "cell_type": "markdown",
   "id": "71976529",
   "metadata": {},
   "source": [
    "### Generate similarity matrix"
   ]
  },
  {
   "cell_type": "code",
   "execution_count": 23,
   "id": "8d15c291",
   "metadata": {},
   "outputs": [],
   "source": [
    "genres = ['Action', 'Adventure', 'Animation', \"Children's\", 'Comedy', 'Crime', 'Documentary', 'Drama',\n",
    "          'Fantasy', 'Film-Noir', 'Horror', 'Musical', 'Mystery', 'Romance', 'Sci-Fi', 'Thriller', 'War', 'Western']"
   ]
  },
  {
   "cell_type": "code",
   "execution_count": 24,
   "id": "84ec0cac",
   "metadata": {},
   "outputs": [],
   "source": [
    "def genre_to_arr(genres_str: str) -> np.array:\n",
    "    gs = genres_str.split('|')\n",
    "    genres_arr = np.zeros(len(genres))\n",
    "    for i, g in enumerate(genres):\n",
    "        if g in gs:\n",
    "            genres_arr[i] = 1\n",
    "    return genres_arr"
   ]
  },
  {
   "cell_type": "code",
   "execution_count": 25,
   "id": "0a05b627",
   "metadata": {},
   "outputs": [],
   "source": [
    "def gen_sim_mat(df: pd.DataFrame, feature: str, cat: str, is_genre=False) -> np.array:\n",
    "    id_col = cat + '_id'\n",
    "    N = len(df)\n",
    "    \n",
    "    if is_genre:\n",
    "        pivot_feature = np.array(df[feature].apply(genre_to_arr).tolist())\n",
    "    else:\n",
    "        temp = pd.concat([df, pd.DataFrame({'exist': [1] * len(df)}, index=df.index)], axis=1)\n",
    "        pivot_feature = pd.pivot(temp, index=id_col, columns=feature, values='exist').fillna(0)\n",
    "    \n",
    "    sim = np.ones((N, N)) - pairwise_distances(pivot_feature, metric='cosine')\n",
    "    return sim"
   ]
  },
  {
   "cell_type": "markdown",
   "id": "d322d5bf",
   "metadata": {},
   "source": [
    "Movie feature"
   ]
  },
  {
   "cell_type": "code",
   "execution_count": 26,
   "id": "d1ce9132",
   "metadata": {},
   "outputs": [
    {
     "data": {
      "text/plain": [
       "(3705, 3705)"
      ]
     },
     "execution_count": 26,
     "metadata": {},
     "output_type": "execute_result"
    }
   ],
   "source": [
    "movie_movie_similarity = np.ones((N_movies, N_movies)) - pairwise_distances(df_ratings_train_mat.T, metric='cosine')\n",
    "movie_movie_similarity.shape"
   ]
  },
  {
   "cell_type": "code",
   "execution_count": 27,
   "id": "ddd55978",
   "metadata": {},
   "outputs": [
    {
     "data": {
      "text/plain": [
       "(3705, 3705)"
      ]
     },
     "execution_count": 27,
     "metadata": {},
     "output_type": "execute_result"
    }
   ],
   "source": [
    "year_similarity = gen_sim_mat(df_movies, 'year', 'movie')\n",
    "year_similarity.shape"
   ]
  },
  {
   "cell_type": "code",
   "execution_count": 28,
   "id": "29c214fd",
   "metadata": {},
   "outputs": [
    {
     "data": {
      "text/plain": [
       "(3705, 3705)"
      ]
     },
     "execution_count": 28,
     "metadata": {},
     "output_type": "execute_result"
    }
   ],
   "source": [
    "genre_similarity = gen_sim_mat(df_movies, 'genre', 'movie', True)\n",
    "genre_similarity.shape"
   ]
  },
  {
   "cell_type": "markdown",
   "id": "88427c93",
   "metadata": {},
   "source": [
    "User feature"
   ]
  },
  {
   "cell_type": "code",
   "execution_count": 29,
   "id": "6a23fd2b",
   "metadata": {},
   "outputs": [
    {
     "data": {
      "text/plain": [
       "(5972, 5972)"
      ]
     },
     "execution_count": 29,
     "metadata": {},
     "output_type": "execute_result"
    }
   ],
   "source": [
    "user_user_similarity = np.ones((N_users, N_users)) - pairwise_distances(df_ratings_train_mat, metric='cosine')\n",
    "user_user_similarity.shape"
   ]
  },
  {
   "cell_type": "code",
   "execution_count": 30,
   "id": "dc8076f5",
   "metadata": {},
   "outputs": [
    {
     "data": {
      "text/plain": [
       "(5972, 5972)"
      ]
     },
     "execution_count": 30,
     "metadata": {},
     "output_type": "execute_result"
    }
   ],
   "source": [
    "occupation_similarity = gen_sim_mat(df_users, 'occupation', 'user')\n",
    "occupation_similarity.shape"
   ]
  },
  {
   "cell_type": "code",
   "execution_count": 31,
   "id": "81a98501",
   "metadata": {},
   "outputs": [
    {
     "data": {
      "text/plain": [
       "(5972, 5972)"
      ]
     },
     "execution_count": 31,
     "metadata": {},
     "output_type": "execute_result"
    }
   ],
   "source": [
    "age_similarity = gen_sim_mat(df_users, 'age', 'user')\n",
    "age_similarity.shape"
   ]
  },
  {
   "cell_type": "code",
   "execution_count": 32,
   "id": "16b5cb2f",
   "metadata": {},
   "outputs": [
    {
     "data": {
      "text/plain": [
       "(5972, 5972)"
      ]
     },
     "execution_count": 32,
     "metadata": {},
     "output_type": "execute_result"
    }
   ],
   "source": [
    "region_similarity = gen_sim_mat(df_users, 'region', 'user')\n",
    "region_similarity.shape"
   ]
  },
  {
   "cell_type": "code",
   "execution_count": 33,
   "id": "f229cc95",
   "metadata": {},
   "outputs": [
    {
     "data": {
      "text/plain": [
       "(5972, 5972)"
      ]
     },
     "execution_count": 33,
     "metadata": {},
     "output_type": "execute_result"
    }
   ],
   "source": [
    "population_similarity = gen_sim_mat(df_users, 'population', 'user')\n",
    "population_similarity.shape"
   ]
  },
  {
   "cell_type": "markdown",
   "id": "2f94e25c",
   "metadata": {},
   "source": [
    "Bipartite features"
   ]
  },
  {
   "cell_type": "code",
   "execution_count": 64,
   "id": "2cdb647a",
   "metadata": {},
   "outputs": [],
   "source": [
    "if 'B_similarity_movies.csv' in os.listdir():\n",
    "    B_similarity_movies = pd.read_csv(\"B_similarity_movies.csv\")\n",
    "    B_similarity_movies = np.array(B_similarity_movies.drop('Unnamed: 0', axis=1))\n",
    "else:\n",
    "    users_str = np.array([str(uid) for uid in df_users.user_id.unique()])\n",
    "    df_ratings['user_id_str'] = df_ratings['user_id'].apply(str)\n",
    "    \n",
    "    g = nx.Graph()\n",
    "    g.add_nodes_from(users_str, bipartite=0)\n",
    "    g.add_nodes_from(df_movies.movie_id, bipartite=1)\n",
    "\n",
    "    edges = df_ratings[['user_id_str', 'movie_id']].values\n",
    "    g.add_edges_from(edges)\n",
    "\n",
    "    B = bipartite.overlap_weighted_projected_graph(g, df_movies.movie_id)\n",
    "    B_edges = list(B.edges(data=True))\n",
    "    \n",
    "    movie_id_to_index = dict(zip(df_movies.movie_id.tolist(), np.arange(N_movies)))\n",
    "    \n",
    "    B_similarity_movies = np.zeros((N_movies, N_movies))\n",
    "    \n",
    "    for i, j, weight in tqdm(B_edges):\n",
    "        i = movie_id_to_index[i]\n",
    "        j = movie_id_to_index[j]\n",
    "        B_similarity_movies[i, j] = weight['weight']\n",
    "        B_similarity_movies[j, i] = weight['weight']\n",
    "        \n",
    "    pd.DataFrame(B_similarity_movies).to_csv(\"B_similarity_movies.csv\")"
   ]
  },
  {
   "cell_type": "code",
   "execution_count": 66,
   "id": "b2fd576d",
   "metadata": {},
   "outputs": [],
   "source": [
    "if 'B_similarity_users.csv' in os.listdir():\n",
    "    B_similarity_users = pd.read_csv(\"B_similarity_users.csv\")\n",
    "    B_similarity_users = np.array(B_similarity_users.drop('Unnamed: 0', axis=1))\n",
    "else:\n",
    "    movies_str = np.array([str(mid) for mid in df_movies.movie_id.unique()])\n",
    "    df_ratings['movie_id_str'] = df_ratings.movie_id.apply(str)\n",
    "    \n",
    "    g = nx.Graph()\n",
    "    g.add_nodes_from(movies_str, bipartite=0)\n",
    "    g.add_nodes_from(df_users.user_id, bipartite=1)\n",
    "\n",
    "    edges = df_ratings[['movie_id_str', 'user_id']].values\n",
    "    g.add_edges_from(edges)\n",
    "\n",
    "    B = bipartite.overlap_weighted_projected_graph(g, df_users.user_id)\n",
    "    B_edges = list(B.edges(data=True))\n",
    "    \n",
    "    user_id_to_index = dict(zip(df_users.user_id.tolist(), np.arange(N_users)))\n",
    "    \n",
    "    B_similarity_users = np.zeros((N_users, N_users))\n",
    "    \n",
    "    for i, j, weight in tqdm(B_edges):\n",
    "        i = user_id_to_index[i]\n",
    "        j = user_id_to_index[j]\n",
    "        B_similarity_users[i, j] = weight['weight']\n",
    "        B_similarity_users[j, i] = weight['weight']\n",
    "        \n",
    "    pd.DataFrame(B_similarity_users).to_csv(\"B_similarity_users.csv\")"
   ]
  },
  {
   "cell_type": "markdown",
   "id": "71d80472",
   "metadata": {},
   "source": [
    "### Transition matrix"
   ]
  },
  {
   "cell_type": "code",
   "execution_count": 36,
   "id": "a0fb00ce",
   "metadata": {},
   "outputs": [],
   "source": [
    "def feature_to_transition(feature_sim: np.array) -> np.array:\n",
    "    return feature_sim / feature_sim.sum(axis=1)"
   ]
  },
  {
   "cell_type": "markdown",
   "id": "529b657c",
   "metadata": {},
   "source": [
    "Movie feature"
   ]
  },
  {
   "cell_type": "code",
   "execution_count": 37,
   "id": "353900a3",
   "metadata": {},
   "outputs": [],
   "source": [
    "movie_movie_tm = feature_to_transition(movie_movie_similarity)\n",
    "year_tm = feature_to_transition(year_similarity)\n",
    "genre_tm = feature_to_transition(genre_similarity)\n",
    "movie_B_tm = feature_to_transition(B_similarity_movies)"
   ]
  },
  {
   "cell_type": "markdown",
   "id": "f9746960",
   "metadata": {},
   "source": [
    "User feature"
   ]
  },
  {
   "cell_type": "code",
   "execution_count": 38,
   "id": "ab99eff5",
   "metadata": {},
   "outputs": [],
   "source": [
    "user_user_tm = feature_to_transition(user_user_similarity)\n",
    "occupation_tm = feature_to_transition(occupation_similarity)\n",
    "age_tm = feature_to_transition(age_similarity)\n",
    "region_tm = feature_to_transition(region_similarity)\n",
    "population_tm = feature_to_transition(population_similarity)\n",
    "user_B_tm = feature_to_transition(B_similarity_users)"
   ]
  },
  {
   "cell_type": "markdown",
   "id": "393c6823",
   "metadata": {},
   "source": [
    "### Prediction"
   ]
  },
  {
   "cell_type": "code",
   "execution_count": 39,
   "id": "25a7ff0e",
   "metadata": {},
   "outputs": [],
   "source": [
    "scaler = MinMaxScaler()"
   ]
  },
  {
   "cell_type": "code",
   "execution_count": 40,
   "id": "dd4cc8e3",
   "metadata": {},
   "outputs": [],
   "source": [
    "def random_walk_predict(ratings: np.array, transition_matrix: np.array, alpha: float) -> np.array:\n",
    "    x = np.eye(transition_matrix.shape[0]) - alpha * transition_matrix\n",
    "    #Obtain mean of columns as you need, nanmean is convenient.\n",
    "    col_mean = np.nanmean(x, axis=0)\n",
    "    #Find indices that you need to replace\n",
    "    inds = np.where(np.isnan(x))\n",
    "    #Place column means in the indices. Align the arrays using take\n",
    "    x[inds] = np.take(col_mean, inds[1])\n",
    "    # GPU does not perform well on pinv function\n",
    "    p_tilde = np.linalg.pinv(x)    \n",
    "    final_rating = alpha * np.dot(ratings, np.dot(x, p_tilde))\n",
    "    \n",
    "    final_rating[final_rating < 0] = 0\n",
    "    neglog_final_rating = 0 - np.log10(final_rating, out=np.zeros_like(final_rating), where=(final_rating != 0))\n",
    "    scaled_prediction = (scaler.fit_transform(neglog_final_rating.T) * 5).T\n",
    "    \n",
    "    return scaled_prediction"
   ]
  },
  {
   "cell_type": "code",
   "execution_count": 41,
   "id": "a6b5766f",
   "metadata": {},
   "outputs": [],
   "source": [
    "def rmse(prediction: np.array, test_data_matrix: np.array) -> float:\n",
    "    mask = test_data_matrix.nonzero()\n",
    "    prediction = prediction[mask].flatten()\n",
    "    truth = test_data_matrix[mask].flatten()\n",
    "    return sqrt(mean_squared_error(prediction, truth))"
   ]
  },
  {
   "cell_type": "code",
   "execution_count": 42,
   "id": "b990ec90",
   "metadata": {},
   "outputs": [],
   "source": [
    "def run_grid_search(parameters: list, item=True) -> dict:\n",
    "    results = {}\n",
    "    for parameter in tqdm(parameters):\n",
    "        alpha, beta, w1, w2, w3 = parameter\n",
    "        transition_matrix = beta * (w1 * movie_movie_tm + w2 * year_tm + w3 * movie_B_tm + \n",
    "                                    (1 - w1 - w2 - w3) * genre_tm) + (1 - beta) / N_movies\n",
    "        try:\n",
    "            prediction = random_walk_predict(df_ratings_train_mat, transition_matrix, alpha)\n",
    "        except:\n",
    "            print('Predict Error!')\n",
    "            continue\n",
    "        results[parameter] = rmse(prediction, df_ratings_test_mat)\n",
    "    \n",
    "    return results"
   ]
  },
  {
   "cell_type": "code",
   "execution_count": 48,
   "id": "7c50a984",
   "metadata": {},
   "outputs": [],
   "source": [
    "alphas = [0.7, 0.8, 0.9]\n",
    "betas = [0.6, 0.7, 0.8]\n",
    "w1s = w2s = w3s = [0.2, 0.3, 0.4, 0.5, 0.6, 0.7, 0.8]\n",
    "weights = [(w1, w2, w3) for w1 in w1s for w2 in w2s for w3 in w3s if w1 + w2 + w3 < 1]\n",
    "parameters = [(alpha, beta, w1, w2, w3) for alpha in alphas for beta in betas for w1, w2, w3 in weights]"
   ]
  },
  {
   "cell_type": "code",
   "execution_count": 49,
   "id": "f559a78f",
   "metadata": {},
   "outputs": [
    {
     "data": {
      "text/plain": [
       "180"
      ]
     },
     "execution_count": 49,
     "metadata": {},
     "output_type": "execute_result"
    }
   ],
   "source": [
    "len(parameters)"
   ]
  },
  {
   "cell_type": "code",
   "execution_count": 50,
   "id": "3f371c5f",
   "metadata": {
    "collapsed": true
   },
   "outputs": [
    {
     "name": "stderr",
     "output_type": "stream",
     "text": [
      "100%|██████████| 180/180 [1:05:07<00:00, 21.71s/it]\n"
     ]
    },
    {
     "data": {
      "text/plain": [
       "{(0.7, 0.6, 0.2, 0.2, 0.2): 2.7329829393990193,\n",
       " (0.7, 0.6, 0.2, 0.2, 0.3): 2.848204086436439,\n",
       " (0.7, 0.6, 0.2, 0.2, 0.4): 2.762406389921474,\n",
       " (0.7, 0.6, 0.2, 0.2, 0.5): 2.7934620732185533,\n",
       " (0.7, 0.6, 0.2, 0.3, 0.2): 2.7335451614375885,\n",
       " (0.7, 0.6, 0.2, 0.3, 0.3): 2.6293209477344295,\n",
       " (0.7, 0.6, 0.2, 0.3, 0.4): 2.787012982132262,\n",
       " (0.7, 0.6, 0.2, 0.4, 0.2): 2.735239991465644,\n",
       " (0.7, 0.6, 0.2, 0.4, 0.3): 2.697367405794679,\n",
       " (0.7, 0.6, 0.2, 0.5, 0.2): 2.769085260550742,\n",
       " (0.7, 0.6, 0.3, 0.2, 0.2): 2.5837986527819385,\n",
       " (0.7, 0.6, 0.3, 0.2, 0.3): 2.7824522663322235,\n",
       " (0.7, 0.6, 0.3, 0.2, 0.4): 2.484228932867708,\n",
       " (0.7, 0.6, 0.3, 0.3, 0.2): 2.667440440764178,\n",
       " (0.7, 0.6, 0.3, 0.3, 0.3): 2.745028340151978,\n",
       " (0.7, 0.6, 0.3, 0.4, 0.2): 2.803015374915251,\n",
       " (0.7, 0.6, 0.4, 0.2, 0.2): 2.821221412136189,\n",
       " (0.7, 0.6, 0.4, 0.2, 0.3): 2.6259706262793805,\n",
       " (0.7, 0.6, 0.4, 0.3, 0.2): 2.527541070572348,\n",
       " (0.7, 0.6, 0.5, 0.2, 0.2): 2.6156473140796956,\n",
       " (0.7, 0.7, 0.2, 0.2, 0.2): 2.705855438905281,\n",
       " (0.7, 0.7, 0.2, 0.2, 0.3): 2.5464239640706663,\n",
       " (0.7, 0.7, 0.2, 0.2, 0.4): 2.7867887007678283,\n",
       " (0.7, 0.7, 0.2, 0.2, 0.5): 2.775836101476481,\n",
       " (0.7, 0.7, 0.2, 0.3, 0.2): 2.761308914389981,\n",
       " (0.7, 0.7, 0.2, 0.3, 0.3): 2.820384542019924,\n",
       " (0.7, 0.7, 0.2, 0.3, 0.4): 2.842190689770271,\n",
       " (0.7, 0.7, 0.2, 0.4, 0.2): 2.7463372324871203,\n",
       " (0.7, 0.7, 0.2, 0.4, 0.3): 2.752120133243515,\n",
       " (0.7, 0.7, 0.2, 0.5, 0.2): 2.662353783294179,\n",
       " (0.7, 0.7, 0.3, 0.2, 0.2): 2.706928544198459,\n",
       " (0.7, 0.7, 0.3, 0.2, 0.3): 2.7501740742810195,\n",
       " (0.7, 0.7, 0.3, 0.2, 0.4): 2.7685021047577894,\n",
       " (0.7, 0.7, 0.3, 0.3, 0.2): 2.8153531298450774,\n",
       " (0.7, 0.7, 0.3, 0.3, 0.3): 2.6172292543336666,\n",
       " (0.7, 0.7, 0.3, 0.4, 0.2): 2.7938704898284628,\n",
       " (0.7, 0.7, 0.4, 0.2, 0.2): 2.742422095032602,\n",
       " (0.7, 0.7, 0.4, 0.2, 0.3): 2.8083888137415394,\n",
       " (0.7, 0.7, 0.4, 0.3, 0.2): 2.7891170250526787,\n",
       " (0.7, 0.7, 0.5, 0.2, 0.2): 2.7233892285245656,\n",
       " (0.7, 0.8, 0.2, 0.2, 0.2): 2.772001682701757,\n",
       " (0.7, 0.8, 0.2, 0.2, 0.3): 2.7488179336332856,\n",
       " (0.7, 0.8, 0.2, 0.2, 0.4): 2.7029618952805854,\n",
       " (0.7, 0.8, 0.2, 0.2, 0.5): 2.661674067335351,\n",
       " (0.7, 0.8, 0.2, 0.3, 0.2): 2.5171395761277586,\n",
       " (0.7, 0.8, 0.2, 0.3, 0.3): 2.7335068493891184,\n",
       " (0.7, 0.8, 0.2, 0.3, 0.4): 2.67688563605702,\n",
       " (0.7, 0.8, 0.2, 0.4, 0.2): 2.7720407126067017,\n",
       " (0.7, 0.8, 0.2, 0.4, 0.3): 2.7354716549575326,\n",
       " (0.7, 0.8, 0.2, 0.5, 0.2): 2.780827878907363,\n",
       " (0.7, 0.8, 0.3, 0.2, 0.2): 2.8282443307903007,\n",
       " (0.7, 0.8, 0.3, 0.2, 0.3): 2.5582047991724384,\n",
       " (0.7, 0.8, 0.3, 0.2, 0.4): 2.8652925172238466,\n",
       " (0.7, 0.8, 0.3, 0.3, 0.2): 2.628882706029172,\n",
       " (0.7, 0.8, 0.3, 0.3, 0.3): 2.85512066774733,\n",
       " (0.7, 0.8, 0.3, 0.4, 0.2): 2.7269319707178847,\n",
       " (0.7, 0.8, 0.4, 0.2, 0.2): 2.5481781629612796,\n",
       " (0.7, 0.8, 0.4, 0.2, 0.3): 2.6882019537399255,\n",
       " (0.7, 0.8, 0.4, 0.3, 0.2): 2.7200484816486377,\n",
       " (0.7, 0.8, 0.5, 0.2, 0.2): 2.6507948604982166,\n",
       " (0.8, 0.6, 0.2, 0.2, 0.2): 2.5113431584464236,\n",
       " (0.8, 0.6, 0.2, 0.2, 0.3): 2.6988068629030577,\n",
       " (0.8, 0.6, 0.2, 0.2, 0.4): 2.7640118212568465,\n",
       " (0.8, 0.6, 0.2, 0.2, 0.5): 2.4745586582742263,\n",
       " (0.8, 0.6, 0.2, 0.3, 0.2): 2.656158887537023,\n",
       " (0.8, 0.6, 0.2, 0.3, 0.3): 2.676413520896615,\n",
       " (0.8, 0.6, 0.2, 0.3, 0.4): 2.694862941812229,\n",
       " (0.8, 0.6, 0.2, 0.4, 0.2): 2.717568524605998,\n",
       " (0.8, 0.6, 0.2, 0.4, 0.3): 2.654819451558545,\n",
       " (0.8, 0.6, 0.2, 0.5, 0.2): 2.568196395857884,\n",
       " (0.8, 0.6, 0.3, 0.2, 0.2): 2.8159670236012606,\n",
       " (0.8, 0.6, 0.3, 0.2, 0.3): 2.723027523818926,\n",
       " (0.8, 0.6, 0.3, 0.2, 0.4): 2.7428827975840777,\n",
       " (0.8, 0.6, 0.3, 0.3, 0.2): 2.7370205645129038,\n",
       " (0.8, 0.6, 0.3, 0.3, 0.3): 2.488725272714057,\n",
       " (0.8, 0.6, 0.3, 0.4, 0.2): 2.6326395660642157,\n",
       " (0.8, 0.6, 0.4, 0.2, 0.2): 2.761719324476932,\n",
       " (0.8, 0.6, 0.4, 0.2, 0.3): 2.7533130837130853,\n",
       " (0.8, 0.6, 0.4, 0.3, 0.2): 2.8201229898238243,\n",
       " (0.8, 0.6, 0.5, 0.2, 0.2): 2.691598488026605,\n",
       " (0.8, 0.7, 0.2, 0.2, 0.2): 2.5121603859292216,\n",
       " (0.8, 0.7, 0.2, 0.2, 0.3): 2.7840089800480428,\n",
       " (0.8, 0.7, 0.2, 0.2, 0.4): 2.57976005788023,\n",
       " (0.8, 0.7, 0.2, 0.2, 0.5): 2.702928984085195,\n",
       " (0.8, 0.7, 0.2, 0.3, 0.2): 2.5676946214220733,\n",
       " (0.8, 0.7, 0.2, 0.3, 0.3): 2.6534325163202857,\n",
       " (0.8, 0.7, 0.2, 0.3, 0.4): 2.810243090880828,\n",
       " (0.8, 0.7, 0.2, 0.4, 0.2): 2.845036274652799,\n",
       " (0.8, 0.7, 0.2, 0.4, 0.3): 2.841969591975633,\n",
       " (0.8, 0.7, 0.2, 0.5, 0.2): 2.729874440626367,\n",
       " (0.8, 0.7, 0.3, 0.2, 0.2): 2.492822010166344,\n",
       " (0.8, 0.7, 0.3, 0.2, 0.3): 2.7164391919973374,\n",
       " (0.8, 0.7, 0.3, 0.2, 0.4): 2.703161188325724,\n",
       " (0.8, 0.7, 0.3, 0.3, 0.2): 2.6373347833365983,\n",
       " (0.8, 0.7, 0.3, 0.3, 0.3): 2.713345640906499,\n",
       " (0.8, 0.7, 0.3, 0.4, 0.2): 2.7146023456339274,\n",
       " (0.8, 0.7, 0.4, 0.2, 0.2): 2.6110814472475004,\n",
       " (0.8, 0.7, 0.4, 0.2, 0.3): 2.538873004366477,\n",
       " (0.8, 0.7, 0.4, 0.3, 0.2): 2.7022988087647293,\n",
       " (0.8, 0.7, 0.5, 0.2, 0.2): 2.7417992342484725,\n",
       " (0.8, 0.8, 0.2, 0.2, 0.2): 2.848207944682236,\n",
       " (0.8, 0.8, 0.2, 0.2, 0.3): 2.5556920206449467,\n",
       " (0.8, 0.8, 0.2, 0.2, 0.4): 2.823497797184354,\n",
       " (0.8, 0.8, 0.2, 0.2, 0.5): 2.557010807812917,\n",
       " (0.8, 0.8, 0.2, 0.3, 0.2): 2.8109339417078245,\n",
       " (0.8, 0.8, 0.2, 0.3, 0.3): 2.6905566676009087,\n",
       " (0.8, 0.8, 0.2, 0.3, 0.4): 2.6003056688928363,\n",
       " (0.8, 0.8, 0.2, 0.4, 0.2): 2.6931118994249035,\n",
       " (0.8, 0.8, 0.2, 0.4, 0.3): 2.675315158105099,\n",
       " (0.8, 0.8, 0.2, 0.5, 0.2): 2.64250704885417,\n",
       " (0.8, 0.8, 0.3, 0.2, 0.2): 2.6113371550507325,\n",
       " (0.8, 0.8, 0.3, 0.2, 0.3): 2.586610294057696,\n",
       " (0.8, 0.8, 0.3, 0.2, 0.4): 2.603622903089231,\n",
       " (0.8, 0.8, 0.3, 0.3, 0.2): 2.591499328948943,\n",
       " (0.8, 0.8, 0.3, 0.3, 0.3): 2.914437890647231,\n",
       " (0.8, 0.8, 0.3, 0.4, 0.2): 2.8016968068103694,\n",
       " (0.8, 0.8, 0.4, 0.2, 0.2): 2.8435834059860103,\n",
       " (0.8, 0.8, 0.4, 0.2, 0.3): 2.5879387834693723,\n",
       " (0.8, 0.8, 0.4, 0.3, 0.2): 2.7279260092735034,\n",
       " (0.8, 0.8, 0.5, 0.2, 0.2): 2.7634820507045412,\n",
       " (0.9, 0.6, 0.2, 0.2, 0.2): 2.5360660407825213,\n",
       " (0.9, 0.6, 0.2, 0.2, 0.3): 2.56867168515587,\n",
       " (0.9, 0.6, 0.2, 0.2, 0.4): 2.811223589472285,\n",
       " (0.9, 0.6, 0.2, 0.2, 0.5): 2.8174935619741177,\n",
       " (0.9, 0.6, 0.2, 0.3, 0.2): 2.5338901557901106,\n",
       " (0.9, 0.6, 0.2, 0.3, 0.3): 2.775620197520883,\n",
       " (0.9, 0.6, 0.2, 0.3, 0.4): 2.758786469818556,\n",
       " (0.9, 0.6, 0.2, 0.4, 0.2): 2.6471798401884787,\n",
       " (0.9, 0.6, 0.2, 0.4, 0.3): 2.9247347498853413,\n",
       " (0.9, 0.6, 0.2, 0.5, 0.2): 2.7957860787340314,\n",
       " (0.9, 0.6, 0.3, 0.2, 0.2): 2.702398900666855,\n",
       " (0.9, 0.6, 0.3, 0.2, 0.3): 2.5318916674562706,\n",
       " (0.9, 0.6, 0.3, 0.2, 0.4): 2.880691185423398,\n",
       " (0.9, 0.6, 0.3, 0.3, 0.2): 2.843935644180626,\n",
       " (0.9, 0.6, 0.3, 0.3, 0.3): 2.8549696472613,\n",
       " (0.9, 0.6, 0.3, 0.4, 0.2): 2.7450156439784266,\n",
       " (0.9, 0.6, 0.4, 0.2, 0.2): 2.5187410875571117,\n",
       " (0.9, 0.6, 0.4, 0.2, 0.3): 2.852175963547623,\n",
       " (0.9, 0.6, 0.4, 0.3, 0.2): 2.5557164000203794,\n",
       " (0.9, 0.6, 0.5, 0.2, 0.2): 2.5252422820833766,\n",
       " (0.9, 0.7, 0.2, 0.2, 0.2): 2.7709837042881955,\n",
       " (0.9, 0.7, 0.2, 0.2, 0.3): 2.7229348022354953,\n",
       " (0.9, 0.7, 0.2, 0.2, 0.4): 2.4487099960318606,\n",
       " (0.9, 0.7, 0.2, 0.2, 0.5): 2.7357467804659814,\n",
       " (0.9, 0.7, 0.2, 0.3, 0.2): 2.8381365088661665,\n",
       " (0.9, 0.7, 0.2, 0.3, 0.3): 2.49135209746897,\n",
       " (0.9, 0.7, 0.2, 0.3, 0.4): 2.450314047506709,\n",
       " (0.9, 0.7, 0.2, 0.4, 0.2): 2.765038653897829,\n",
       " (0.9, 0.7, 0.2, 0.4, 0.3): 2.86091663954852,\n",
       " (0.9, 0.7, 0.2, 0.5, 0.2): 2.7283035253362558,\n",
       " (0.9, 0.7, 0.3, 0.2, 0.2): 2.8338634266663987,\n",
       " (0.9, 0.7, 0.3, 0.2, 0.3): 2.659385703385374,\n",
       " (0.9, 0.7, 0.3, 0.2, 0.4): 2.645706270531073,\n",
       " (0.9, 0.7, 0.3, 0.3, 0.2): 2.666197705699302,\n",
       " (0.9, 0.7, 0.3, 0.3, 0.3): 2.776864529730006,\n",
       " (0.9, 0.7, 0.3, 0.4, 0.2): 2.688750648442052,\n",
       " (0.9, 0.7, 0.4, 0.2, 0.2): 2.8445150144546116,\n",
       " (0.9, 0.7, 0.4, 0.2, 0.3): 2.800382477512945,\n",
       " (0.9, 0.7, 0.4, 0.3, 0.2): 2.4409295991551576,\n",
       " (0.9, 0.7, 0.5, 0.2, 0.2): 2.6379648912764675,\n",
       " (0.9, 0.8, 0.2, 0.2, 0.2): 2.6463286755636477,\n",
       " (0.9, 0.8, 0.2, 0.2, 0.3): 2.8027086433737827,\n",
       " (0.9, 0.8, 0.2, 0.2, 0.4): 2.82896288343381,\n",
       " (0.9, 0.8, 0.2, 0.2, 0.5): 2.586673475031086,\n",
       " (0.9, 0.8, 0.2, 0.3, 0.2): 2.738792405271539,\n",
       " (0.9, 0.8, 0.2, 0.3, 0.3): 2.6213629417790982,\n",
       " (0.9, 0.8, 0.2, 0.3, 0.4): 2.8812859921064864,\n",
       " (0.9, 0.8, 0.2, 0.4, 0.2): 2.7248720297427,\n",
       " (0.9, 0.8, 0.2, 0.4, 0.3): 2.90782951683123,\n",
       " (0.9, 0.8, 0.2, 0.5, 0.2): 2.4904008842534835,\n",
       " (0.9, 0.8, 0.3, 0.2, 0.2): 2.6180856329602564,\n",
       " (0.9, 0.8, 0.3, 0.2, 0.3): 2.6875937347945675,\n",
       " (0.9, 0.8, 0.3, 0.2, 0.4): 2.694933272858603,\n",
       " (0.9, 0.8, 0.3, 0.3, 0.2): 2.569643659880502,\n",
       " (0.9, 0.8, 0.3, 0.3, 0.3): 2.448701377988776,\n",
       " (0.9, 0.8, 0.3, 0.4, 0.2): 2.746129454435209,\n",
       " (0.9, 0.8, 0.4, 0.2, 0.2): 2.5344779903927606,\n",
       " (0.9, 0.8, 0.4, 0.2, 0.3): 2.684271020806998,\n",
       " (0.9, 0.8, 0.4, 0.3, 0.2): 2.907545661405408,\n",
       " (0.9, 0.8, 0.5, 0.2, 0.2): 2.7251846166103966}"
      ]
     },
     "execution_count": 50,
     "metadata": {},
     "output_type": "execute_result"
    }
   ],
   "source": [
    "results = run_grid_search(parameters)"
   ]
  },
  {
   "cell_type": "code",
   "execution_count": 59,
   "id": "ebe92ac4",
   "metadata": {},
   "outputs": [
    {
     "data": {
      "text/plain": [
       "((0.9, 0.7, 0.4, 0.3, 0.2), 2.4409295991551576)"
      ]
     },
     "execution_count": 59,
     "metadata": {},
     "output_type": "execute_result"
    }
   ],
   "source": [
    "min(results, key=results.get), results[min(results, key=results.get)]"
   ]
  },
  {
   "cell_type": "code",
   "execution_count": 55,
   "id": "dc478a06",
   "metadata": {},
   "outputs": [
    {
     "data": {
      "text/plain": [
       "(array([ 7., 13., 13., 16., 18., 32., 34., 24., 17.,  6.]),\n",
       " array([2.4409296 , 2.48931011, 2.53769063, 2.58607114, 2.63445166,\n",
       "        2.68283217, 2.73121269, 2.7795932 , 2.82797372, 2.87635423,\n",
       "        2.92473475]),\n",
       " <BarContainer object of 10 artists>)"
      ]
     },
     "execution_count": 55,
     "metadata": {},
     "output_type": "execute_result"
    },
    {
     "data": {
      "image/png": "[encoded data removed]",
      "text/plain": [
       "<Figure size 640x480 with 1 Axes>"
      ]
     },
     "metadata": {},
     "output_type": "display_data"
    }
   ],
   "source": [
    "plt.hist(results.values())"
   ]
  },
  {
   "cell_type": "code",
   "execution_count": 62,
   "id": "9601aea9",
   "metadata": {},
   "outputs": [],
   "source": [
    "pd.DataFrame({\"key\":results.keys(), \"values\":results.values()}).to_csv(\"results.csv\", index=False)"
   ]
  },
  {
   "cell_type": "markdown",
   "id": "5d8bbdd0",
   "metadata": {},
   "source": [
    "### Some test on code"
   ]
  },
  {
   "cell_type": "code",
   "execution_count": 136,
   "id": "c4fce5a5",
   "metadata": {},
   "outputs": [],
   "source": [
    "alpha, beta, w1, w2, w3 = 0.7, 0.6, 0.2, 0.4, 0.1\n",
    "transition_matrix = beta * (w1 * movie_movie_tm + w2 * year_tm + w3 * movie_B_tm + \n",
    "                                    (1 - w1 - w2 - w3) * genre_tm) + (1 - beta) / N_movies"
   ]
  },
  {
   "cell_type": "code",
   "execution_count": 302,
   "id": "6036d06d",
   "metadata": {},
   "outputs": [],
   "source": [
    "alpha, beta, w1, w2, w3, w4 = 0.7, 0.6, 0.2, 0.1, 0.2, 0.2\n",
    "transition_matrix = beta * (w1 * user_user_tm + w2 * population_tm + w3 * age_tm + w4 * region_similarity + \n",
    "                                    (1 - w1 - w2 - w3 - w4) * occupation_similarity) + (1 - beta) / N_users"
   ]
  },
  {
   "cell_type": "code",
   "execution_count": 303,
   "id": "2809d31c",
   "metadata": {},
   "outputs": [
    {
     "name": "stdout",
     "output_type": "stream",
     "text": [
      "[[ 3.50000000e+00  5.26684913e-12 -6.66871991e-12 ...  5.45989655e-13\n",
      "   1.04531174e-12  5.74499426e-13]\n",
      " [-6.62618095e-13  1.62925203e-12 -1.93413607e-12 ...  1.59473441e-13\n",
      "   2.55853151e-13  1.38250704e-13]\n",
      " [-5.20352601e-13  1.14938293e-12 -8.10154904e-13 ...  7.41419079e-14\n",
      "  -1.69115660e-13 -1.62303524e-13]\n",
      " ...\n",
      " [-9.86490403e-14  1.97201392e-13 -2.21374134e-14 ...  6.25974966e-15\n",
      "  -5.17798478e-14 -3.94489739e-14]\n",
      " [-4.12014932e-14  2.57218032e-13 -1.26068080e-13 ...  5.59066682e-15\n",
      "  -1.17256465e-14  1.75527995e-15]\n",
      " [-4.40975685e-13  8.87607267e-13 -1.17479682e-12 ...  7.99107007e-14\n",
      "   4.01836388e-14 -1.36909635e-14]]\n"
     ]
    }
   ],
   "source": [
    "t = random_walk_predict(df_ratings_train_mat.T, transition_matrix, alpha)"
   ]
  },
  {
   "cell_type": "code",
   "execution_count": 304,
   "id": "763b989a",
   "metadata": {},
   "outputs": [],
   "source": [
    "t[t<0] = 0"
   ]
  },
  {
   "cell_type": "code",
   "execution_count": 305,
   "id": "9546defa",
   "metadata": {},
   "outputs": [],
   "source": [
    "neglog_t = 0 - np.log10(t, out=np.zeros_like(t), where=(t!=0))"
   ]
  },
  {
   "cell_type": "code",
   "execution_count": 306,
   "id": "e428d9ca",
   "metadata": {},
   "outputs": [
    {
     "data": {
      "text/plain": [
       "(array([11440361.,        0.,        0.,        0.,        0.,        0.,\n",
       "           85918.,  5240354.,  4999586.,   360041.]),\n",
       " array([0. , 0.5, 1. , 1.5, 2. , 2.5, 3. , 3.5, 4. , 4.5, 5. ]),\n",
       " <BarContainer object of 10 artists>)"
      ]
     },
     "execution_count": 306,
     "metadata": {},
     "output_type": "execute_result"
    },
    {
     "data": {
      "image/png": "[encoded data removed]",
      "text/plain": [
       "<Figure size 640x480 with 1 Axes>"
      ]
     },
     "metadata": {},
     "output_type": "display_data"
    }
   ],
   "source": [
    "plt.hist(scaler.fit_transform(neglog_t).flatten() * 5)"
   ]
  },
  {
   "cell_type": "code",
   "execution_count": 301,
   "id": "b8b991ec",
   "metadata": {},
   "outputs": [
    {
     "data": {
      "text/plain": [
       "(array([14023.,     0., 26548.,     0.,     0., 64909.,     0., 86414.,\n",
       "            0., 55572.]),\n",
       " array([1. , 1.4, 1.8, 2.2, 2.6, 3. , 3.4, 3.8, 4.2, 4.6, 5. ]),\n",
       " <BarContainer object of 10 artists>)"
      ]
     },
     "execution_count": 301,
     "metadata": {},
     "output_type": "execute_result"
    },
    {
     "data": {
      "image/png": "[encoded data removed]",
      "text/plain": [
       "<Figure size 640x480 with 1 Axes>"
      ]
     },
     "metadata": {},
     "output_type": "display_data"
    }
   ],
   "source": [
    "plt.hist(df_ratings_test_mat[df_ratings_test_mat.nonzero()].flatten())"
   ]
  },
  {
   "cell_type": "code",
   "execution_count": null,
   "id": "50e520c5",
   "metadata": {},
   "outputs": [],
   "source": []
  }
 ],
 "metadata": {
  "kernelspec": {
   "display_name": "Python 3 (ipykernel)",
   "language": "python",
   "name": "python3"
  },
  "language_info": {
   "codemirror_mode": {
    "name": "ipython",
    "version": 3
   },
   "file_extension": ".py",
   "mimetype": "text/x-python",
   "name": "python",
   "nbconvert_exporter": "python",
   "pygments_lexer": "ipython3",
   "version": "3.8.8"
  }
 },
 "nbformat": 4,
 "nbformat_minor": 5
}
