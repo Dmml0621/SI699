{
 "cells": [
  {
   "cell_type": "markdown",
   "id": "7aa488f7",
   "metadata": {},
   "source": [
    "# Diffusion-based, combining item-item and user-user"
   ]
  },
  {
   "cell_type": "code",
   "execution_count": 1,
   "id": "ae8cc0fa",
   "metadata": {},
   "outputs": [],
   "source": [
    "import numpy as np\n",
    "import pandas as pd\n",
    "import matplotlib.pyplot as plt\n",
    "from sklearn.model_selection import train_test_split\n",
    "from sklearn.metrics.pairwise import pairwise_distances\n",
    "import re\n",
    "import os\n",
    "from itertools import permutations\n",
    "\n",
    "import networkx as nx\n",
    "from networkx.algorithms import bipartite\n",
    "\n",
    "from sklearn.metrics import mean_squared_error\n",
    "from sklearn.preprocessing import MinMaxScaler\n",
    "from math import sqrt\n",
    "from tqdm import tqdm"
   ]
  },
  {
   "cell_type": "code",
   "execution_count": 2,
   "id": "812075e6",
   "metadata": {},
   "outputs": [],
   "source": [
    "df_movies = pd.read_csv('data/movies.dat',\n",
    "                        delimiter='::', engine= 'python', encoding='ISO-8859-1', header=None,\n",
    "                        names=['movie_id', 'movie_name', 'genre'])\n",
    "\n",
    "df_users = pd.read_csv('data/users.dat',\n",
    "                       delimiter='::', engine='python',  encoding='ISO-8859-1',header=None,\n",
    "                       names=['user_id', 'gender', 'age', 'occupation', 'zip_code'])\n",
    "\n",
    "df_ratings = pd.read_csv('data/ratings.dat',\n",
    "                         delimiter='::', engine='python',  encoding='ISO-8859-1',header=None,\n",
    "                         names=['user_id', 'movie_id', 'rating', 'time'])"
   ]
  },
  {
   "cell_type": "code",
   "execution_count": 3,
   "id": "a94661e6",
   "metadata": {},
   "outputs": [],
   "source": [
    "df_movies['year'] = df_movies.movie_name.apply(lambda x: re.findall(r'\\(\\d{4}\\)', x)[0][1:-1])\n",
    "df_ratings.drop(columns=['time'], inplace=True)"
   ]
  },
  {
   "cell_type": "code",
   "execution_count": 4,
   "id": "3c91a619",
   "metadata": {},
   "outputs": [
    {
     "data": {
      "text/html": [
       "<div>\n",
       "<style scoped>\n",
       "    .dataframe tbody tr th:only-of-type {\n",
       "        vertical-align: middle;\n",
       "    }\n",
       "\n",
       "    .dataframe tbody tr th {\n",
       "        vertical-align: top;\n",
       "    }\n",
       "\n",
       "    .dataframe thead th {\n",
       "        text-align: right;\n",
       "    }\n",
       "</style>\n",
       "<table border=\"1\" class=\"dataframe\">\n",
       "  <thead>\n",
       "    <tr style=\"text-align: right;\">\n",
       "      <th></th>\n",
       "      <th>movie_id</th>\n",
       "      <th>movie_name</th>\n",
       "      <th>genre</th>\n",
       "      <th>year</th>\n",
       "    </tr>\n",
       "  </thead>\n",
       "  <tbody>\n",
       "    <tr>\n",
       "      <th>0</th>\n",
       "      <td>1</td>\n",
       "      <td>Toy Story (1995)</td>\n",
       "      <td>Animation|Children's|Comedy</td>\n",
       "      <td>1995</td>\n",
       "    </tr>\n",
       "    <tr>\n",
       "      <th>1</th>\n",
       "      <td>2</td>\n",
       "      <td>Jumanji (1995)</td>\n",
       "      <td>Adventure|Children's|Fantasy</td>\n",
       "      <td>1995</td>\n",
       "    </tr>\n",
       "    <tr>\n",
       "      <th>2</th>\n",
       "      <td>3</td>\n",
       "      <td>Grumpier Old Men (1995)</td>\n",
       "      <td>Comedy|Romance</td>\n",
       "      <td>1995</td>\n",
       "    </tr>\n",
       "    <tr>\n",
       "      <th>3</th>\n",
       "      <td>4</td>\n",
       "      <td>Waiting to Exhale (1995)</td>\n",
       "      <td>Comedy|Drama</td>\n",
       "      <td>1995</td>\n",
       "    </tr>\n",
       "    <tr>\n",
       "      <th>4</th>\n",
       "      <td>5</td>\n",
       "      <td>Father of the Bride Part II (1995)</td>\n",
       "      <td>Comedy</td>\n",
       "      <td>1995</td>\n",
       "    </tr>\n",
       "  </tbody>\n",
       "</table>\n",
       "</div>"
      ],
      "text/plain": [
       "   movie_id                          movie_name                         genre  \\\n",
       "0         1                    Toy Story (1995)   Animation|Children's|Comedy   \n",
       "1         2                      Jumanji (1995)  Adventure|Children's|Fantasy   \n",
       "2         3             Grumpier Old Men (1995)                Comedy|Romance   \n",
       "3         4            Waiting to Exhale (1995)                  Comedy|Drama   \n",
       "4         5  Father of the Bride Part II (1995)                        Comedy   \n",
       "\n",
       "   year  \n",
       "0  1995  \n",
       "1  1995  \n",
       "2  1995  \n",
       "3  1995  \n",
       "4  1995  "
      ]
     },
     "execution_count": 4,
     "metadata": {},
     "output_type": "execute_result"
    }
   ],
   "source": [
    "df_movies.head()"
   ]
  },
  {
   "cell_type": "code",
   "execution_count": 5,
   "id": "f491a100",
   "metadata": {},
   "outputs": [
    {
     "data": {
      "text/html": [
       "<div>\n",
       "<style scoped>\n",
       "    .dataframe tbody tr th:only-of-type {\n",
       "        vertical-align: middle;\n",
       "    }\n",
       "\n",
       "    .dataframe tbody tr th {\n",
       "        vertical-align: top;\n",
       "    }\n",
       "\n",
       "    .dataframe thead th {\n",
       "        text-align: right;\n",
       "    }\n",
       "</style>\n",
       "<table border=\"1\" class=\"dataframe\">\n",
       "  <thead>\n",
       "    <tr style=\"text-align: right;\">\n",
       "      <th></th>\n",
       "      <th>user_id</th>\n",
       "      <th>gender</th>\n",
       "      <th>age</th>\n",
       "      <th>occupation</th>\n",
       "      <th>zip_code</th>\n",
       "    </tr>\n",
       "  </thead>\n",
       "  <tbody>\n",
       "    <tr>\n",
       "      <th>0</th>\n",
       "      <td>1</td>\n",
       "      <td>F</td>\n",
       "      <td>1</td>\n",
       "      <td>10</td>\n",
       "      <td>48067</td>\n",
       "    </tr>\n",
       "    <tr>\n",
       "      <th>1</th>\n",
       "      <td>2</td>\n",
       "      <td>M</td>\n",
       "      <td>56</td>\n",
       "      <td>16</td>\n",
       "      <td>70072</td>\n",
       "    </tr>\n",
       "    <tr>\n",
       "      <th>2</th>\n",
       "      <td>3</td>\n",
       "      <td>M</td>\n",
       "      <td>25</td>\n",
       "      <td>15</td>\n",
       "      <td>55117</td>\n",
       "    </tr>\n",
       "    <tr>\n",
       "      <th>3</th>\n",
       "      <td>4</td>\n",
       "      <td>M</td>\n",
       "      <td>45</td>\n",
       "      <td>7</td>\n",
       "      <td>02460</td>\n",
       "    </tr>\n",
       "    <tr>\n",
       "      <th>4</th>\n",
       "      <td>5</td>\n",
       "      <td>M</td>\n",
       "      <td>25</td>\n",
       "      <td>20</td>\n",
       "      <td>55455</td>\n",
       "    </tr>\n",
       "  </tbody>\n",
       "</table>\n",
       "</div>"
      ],
      "text/plain": [
       "   user_id gender  age  occupation zip_code\n",
       "0        1      F    1          10    48067\n",
       "1        2      M   56          16    70072\n",
       "2        3      M   25          15    55117\n",
       "3        4      M   45           7    02460\n",
       "4        5      M   25          20    55455"
      ]
     },
     "execution_count": 5,
     "metadata": {},
     "output_type": "execute_result"
    }
   ],
   "source": [
    "df_users.head()"
   ]
  },
  {
   "cell_type": "code",
   "execution_count": 6,
   "id": "3eaa7c57",
   "metadata": {},
   "outputs": [
    {
     "data": {
      "text/html": [
       "<div>\n",
       "<style scoped>\n",
       "    .dataframe tbody tr th:only-of-type {\n",
       "        vertical-align: middle;\n",
       "    }\n",
       "\n",
       "    .dataframe tbody tr th {\n",
       "        vertical-align: top;\n",
       "    }\n",
       "\n",
       "    .dataframe thead th {\n",
       "        text-align: right;\n",
       "    }\n",
       "</style>\n",
       "<table border=\"1\" class=\"dataframe\">\n",
       "  <thead>\n",
       "    <tr style=\"text-align: right;\">\n",
       "      <th></th>\n",
       "      <th>user_id</th>\n",
       "      <th>movie_id</th>\n",
       "      <th>rating</th>\n",
       "    </tr>\n",
       "  </thead>\n",
       "  <tbody>\n",
       "    <tr>\n",
       "      <th>0</th>\n",
       "      <td>1</td>\n",
       "      <td>1193</td>\n",
       "      <td>5</td>\n",
       "    </tr>\n",
       "    <tr>\n",
       "      <th>1</th>\n",
       "      <td>1</td>\n",
       "      <td>661</td>\n",
       "      <td>3</td>\n",
       "    </tr>\n",
       "    <tr>\n",
       "      <th>2</th>\n",
       "      <td>1</td>\n",
       "      <td>914</td>\n",
       "      <td>3</td>\n",
       "    </tr>\n",
       "    <tr>\n",
       "      <th>3</th>\n",
       "      <td>1</td>\n",
       "      <td>3408</td>\n",
       "      <td>4</td>\n",
       "    </tr>\n",
       "    <tr>\n",
       "      <th>4</th>\n",
       "      <td>1</td>\n",
       "      <td>2355</td>\n",
       "      <td>5</td>\n",
       "    </tr>\n",
       "  </tbody>\n",
       "</table>\n",
       "</div>"
      ],
      "text/plain": [
       "   user_id  movie_id  rating\n",
       "0        1      1193       5\n",
       "1        1       661       3\n",
       "2        1       914       3\n",
       "3        1      3408       4\n",
       "4        1      2355       5"
      ]
     },
     "execution_count": 6,
     "metadata": {},
     "output_type": "execute_result"
    }
   ],
   "source": [
    "df_ratings.head()"
   ]
  },
  {
   "cell_type": "markdown",
   "id": "89c56c5b",
   "metadata": {},
   "source": [
    "### Deal with user metadata"
   ]
  },
  {
   "cell_type": "markdown",
   "id": "1b1da8e9",
   "metadata": {},
   "source": [
    "Add region classification"
   ]
  },
  {
   "cell_type": "code",
   "execution_count": 7,
   "id": "3f562e0b",
   "metadata": {},
   "outputs": [],
   "source": [
    "df_users.zip_code = df_users.zip_code.apply(lambda x: x.split('-')[0]).astype(int)"
   ]
  },
  {
   "cell_type": "code",
   "execution_count": 8,
   "id": "46ba42f1",
   "metadata": {},
   "outputs": [],
   "source": [
    "df_users = pd.merge(df_users, pd.read_csv('data/zip_code_database.csv'), how='left', left_on='zip_code', right_on='zip')\n",
    "df_users.drop(\n",
    "    columns=['decommissioned', 'primary_city', 'acceptable_cities', 'unacceptable_cities', \n",
    "             'type', 'zip', 'county', 'timezone', 'area_codes', 'world_region', 'country', \n",
    "             'latitude', 'longitude'],\n",
    "    inplace=True)"
   ]
  },
  {
   "cell_type": "code",
   "execution_count": 9,
   "id": "07d8aef7",
   "metadata": {},
   "outputs": [],
   "source": [
    "df_users.dropna(inplace=True)"
   ]
  },
  {
   "cell_type": "code",
   "execution_count": 10,
   "id": "78188a94",
   "metadata": {},
   "outputs": [],
   "source": [
    "census_region_mapping = {\n",
    "    'WEST': ['WA', 'OR', 'CA', 'NV', 'ID', 'MT', 'WY', 'UT', 'CO', 'HI', 'AK', 'NM', 'AZ'],\n",
    "    'SOUTH': ['TX', 'OK', 'AR', 'LA', 'KY', 'TN', 'MS', 'AL', 'WV', \n",
    "              'VA', 'DC', 'DE', 'MD', 'NC', 'SC', 'GA', 'FL', 'PR'],\n",
    "    'MIDWEST': ['ND', 'SD', 'NE', 'KS', 'MN', 'IA', 'MO', 'WI', 'IL', 'MI', 'IN', 'OH'],\n",
    "    'NORTHEAST': ['PA', 'NY', 'NJ', 'RI', 'CT', 'MA', 'NH', 'VT', 'ME'],\n",
    "    'Other': ['GU', 'AE', 'AP']\n",
    "}\n",
    "\n",
    "def match_region(state: str) -> str:\n",
    "    for k, v in census_region_mapping.items():\n",
    "        if state in v:\n",
    "            return k\n",
    "    return state"
   ]
  },
  {
   "cell_type": "code",
   "execution_count": 11,
   "id": "1217758a",
   "metadata": {},
   "outputs": [],
   "source": [
    "df_users['region'] = df_users.state.apply(match_region)\n",
    "df_users = df_users[df_users.region != 'Other']"
   ]
  },
  {
   "cell_type": "code",
   "execution_count": 12,
   "id": "6a9d3ffd",
   "metadata": {},
   "outputs": [
    {
     "data": {
      "text/plain": [
       "user_id                     0\n",
       "gender                      0\n",
       "age                         0\n",
       "occupation                  0\n",
       "zip_code                    0\n",
       "state                       0\n",
       "irs_estimated_population    0\n",
       "region                      0\n",
       "dtype: int64"
      ]
     },
     "execution_count": 12,
     "metadata": {},
     "output_type": "execute_result"
    }
   ],
   "source": [
    "df_users.isna().sum()"
   ]
  },
  {
   "cell_type": "markdown",
   "id": "abedc3d2",
   "metadata": {},
   "source": [
    "Convert population to categorical"
   ]
  },
  {
   "cell_type": "code",
   "execution_count": 13,
   "id": "10b794e7",
   "metadata": {},
   "outputs": [
    {
     "data": {
      "image/png": "[encoded data removed]",
      "text/plain": [
       "<Figure size 640x480 with 1 Axes>"
      ]
     },
     "metadata": {},
     "output_type": "display_data"
    }
   ],
   "source": [
    "_ = df_users.irs_estimated_population.hist(bins=10)"
   ]
  },
  {
   "cell_type": "code",
   "execution_count": 14,
   "id": "7a001ad2",
   "metadata": {},
   "outputs": [],
   "source": [
    "population_bins = [0, 15000, 20000, 30000, 35000, 40000, 60000, 150000]\n",
    "population_labels = [1, 2, 3, 4, 5, 6, 7]\n",
    "df_users['population'] = pd.cut(df_users.irs_estimated_population, bins=population_bins, labels=population_labels)"
   ]
  },
  {
   "cell_type": "markdown",
   "id": "6ee48e82",
   "metadata": {},
   "source": [
    "### Divide data into subsets"
   ]
  },
  {
   "cell_type": "code",
   "execution_count": 200,
   "id": "49af0bcb",
   "metadata": {},
   "outputs": [
    {
     "data": {
      "text/plain": [
       "array(['MIDWEST', 'SOUTH', 'NORTHEAST', 'WEST', 'GU', 'AE', 'AP'],\n",
       "      dtype=object)"
      ]
     },
     "execution_count": 200,
     "metadata": {},
     "output_type": "execute_result"
    }
   ],
   "source": [
    "df_users.region.unique()"
   ]
  },
  {
   "cell_type": "code",
   "execution_count": null,
   "id": "639c00ca",
   "metadata": {},
   "outputs": [],
   "source": [
    "# df_users = df_users[df_users.region == 'MIDWEST']\n",
    "# df_users = df_users[df_users.region == 'SOUTH']\n",
    "# df_users = df_users[df_users.region == 'NORTHEAST']\n",
    "# df_users = df_users[df_users.region == 'WEST']"
   ]
  },
  {
   "cell_type": "markdown",
   "id": "8d433287",
   "metadata": {},
   "source": [
    "### Merge item user data and split into train and test data"
   ]
  },
  {
   "cell_type": "code",
   "execution_count": 15,
   "id": "680b40e3",
   "metadata": {},
   "outputs": [],
   "source": [
    "# get rid of ratings with no zip information\n",
    "df_ratings = df_ratings[df_ratings.user_id.isin(df_users.user_id)]\n",
    "# reduce movies to those only exist in ratings\n",
    "df_movies = df_movies[df_movies.movie_id.isin(df_ratings.movie_id)]"
   ]
  },
  {
   "cell_type": "code",
   "execution_count": 16,
   "id": "01b5ada3",
   "metadata": {},
   "outputs": [],
   "source": [
    "df_ratings_train_temp, df_ratings_test_temp = train_test_split(df_ratings, test_size=0.2, random_state=42)"
   ]
  },
  {
   "cell_type": "code",
   "execution_count": 17,
   "id": "8ae136c0",
   "metadata": {},
   "outputs": [],
   "source": [
    "df_ratings_train = df_ratings.copy()\n",
    "df_ratings_test = df_ratings.copy()"
   ]
  },
  {
   "cell_type": "code",
   "execution_count": 18,
   "id": "8c898b06",
   "metadata": {},
   "outputs": [],
   "source": [
    "df_ratings_train.loc[df_ratings_test_temp.index, 'rating'] = 0\n",
    "df_ratings_test.loc[df_ratings_train_temp.index, 'rating'] = 0"
   ]
  },
  {
   "cell_type": "code",
   "execution_count": 19,
   "id": "ec26fbc2",
   "metadata": {},
   "outputs": [],
   "source": [
    "df_ratings_train_mat = pd.pivot(df_ratings_train, index='user_id', columns='movie_id', values='rating').fillna(0).to_numpy()\n",
    "df_ratings_test_mat = pd.pivot(df_ratings_test, index='user_id', columns='movie_id', values='rating').fillna(0).to_numpy()"
   ]
  },
  {
   "cell_type": "code",
   "execution_count": 20,
   "id": "f6cebd11",
   "metadata": {},
   "outputs": [
    {
     "data": {
      "text/plain": [
       "(5972, 3705)"
      ]
     },
     "execution_count": 20,
     "metadata": {},
     "output_type": "execute_result"
    }
   ],
   "source": [
    "df_ratings_train_mat.shape"
   ]
  },
  {
   "cell_type": "code",
   "execution_count": 21,
   "id": "6bb7a80d",
   "metadata": {},
   "outputs": [
    {
     "data": {
      "text/plain": [
       "(5972, 3705)"
      ]
     },
     "execution_count": 21,
     "metadata": {},
     "output_type": "execute_result"
    }
   ],
   "source": [
    "df_ratings_test_mat.shape"
   ]
  },
  {
   "cell_type": "code",
   "execution_count": 22,
   "id": "acb950a9",
   "metadata": {},
   "outputs": [],
   "source": [
    "N_users, N_movies = df_ratings_train_mat.shape"
   ]
  },
  {
   "cell_type": "markdown",
   "id": "71976529",
   "metadata": {},
   "source": [
    "### Generate similarity matrix"
   ]
  },
  {
   "cell_type": "code",
   "execution_count": 23,
   "id": "8d15c291",
   "metadata": {},
   "outputs": [],
   "source": [
    "genres = ['Action', 'Adventure', 'Animation', \"Children's\", 'Comedy', 'Crime', 'Documentary', 'Drama',\n",
    "          'Fantasy', 'Film-Noir', 'Horror', 'Musical', 'Mystery', 'Romance', 'Sci-Fi', 'Thriller', 'War', 'Western']"
   ]
  },
  {
   "cell_type": "code",
   "execution_count": 24,
   "id": "84ec0cac",
   "metadata": {},
   "outputs": [],
   "source": [
    "def genre_to_arr(genres_str: str) -> np.array:\n",
    "    gs = genres_str.split('|')\n",
    "    genres_arr = np.zeros(len(genres))\n",
    "    for i, g in enumerate(genres):\n",
    "        if g in gs:\n",
    "            genres_arr[i] = 1\n",
    "    return genres_arr"
   ]
  },
  {
   "cell_type": "code",
   "execution_count": 25,
   "id": "0a05b627",
   "metadata": {},
   "outputs": [],
   "source": [
    "def gen_sim_mat(df: pd.DataFrame, feature: str, cat: str, is_genre=False) -> np.array:\n",
    "    id_col = cat + '_id'\n",
    "    N = len(df)\n",
    "    \n",
    "    if is_genre:\n",
    "        pivot_feature = np.array(df[feature].apply(genre_to_arr).tolist())\n",
    "    else:\n",
    "        temp = pd.concat([df, pd.DataFrame({'exist': [1] * len(df)}, index=df.index)], axis=1)\n",
    "        pivot_feature = pd.pivot(temp, index=id_col, columns=feature, values='exist').fillna(0)\n",
    "    \n",
    "    sim = np.ones((N, N)) - pairwise_distances(pivot_feature, metric='cosine')\n",
    "    return sim"
   ]
  },
  {
   "cell_type": "markdown",
   "id": "d322d5bf",
   "metadata": {},
   "source": [
    "Movie feature"
   ]
  },
  {
   "cell_type": "code",
   "execution_count": 26,
   "id": "d1ce9132",
   "metadata": {},
   "outputs": [
    {
     "data": {
      "text/plain": [
       "(3705, 3705)"
      ]
     },
     "execution_count": 26,
     "metadata": {},
     "output_type": "execute_result"
    }
   ],
   "source": [
    "movie_movie_similarity = np.ones((N_movies, N_movies)) - pairwise_distances(df_ratings_train_mat.T, metric='cosine')\n",
    "movie_movie_similarity.shape"
   ]
  },
  {
   "cell_type": "code",
   "execution_count": 27,
   "id": "ddd55978",
   "metadata": {},
   "outputs": [
    {
     "data": {
      "text/plain": [
       "(3705, 3705)"
      ]
     },
     "execution_count": 27,
     "metadata": {},
     "output_type": "execute_result"
    }
   ],
   "source": [
    "year_similarity = gen_sim_mat(df_movies, 'year', 'movie')\n",
    "year_similarity.shape"
   ]
  },
  {
   "cell_type": "code",
   "execution_count": 28,
   "id": "29c214fd",
   "metadata": {},
   "outputs": [
    {
     "data": {
      "text/plain": [
       "(3705, 3705)"
      ]
     },
     "execution_count": 28,
     "metadata": {},
     "output_type": "execute_result"
    }
   ],
   "source": [
    "genre_similarity = gen_sim_mat(df_movies, 'genre', 'movie', True)\n",
    "genre_similarity.shape"
   ]
  },
  {
   "cell_type": "markdown",
   "id": "88427c93",
   "metadata": {},
   "source": [
    "User feature"
   ]
  },
  {
   "cell_type": "code",
   "execution_count": 29,
   "id": "6a23fd2b",
   "metadata": {},
   "outputs": [
    {
     "data": {
      "text/plain": [
       "(5972, 5972)"
      ]
     },
     "execution_count": 29,
     "metadata": {},
     "output_type": "execute_result"
    }
   ],
   "source": [
    "user_user_similarity = np.ones((N_users, N_users)) - pairwise_distances(df_ratings_train_mat, metric='cosine')\n",
    "user_user_similarity.shape"
   ]
  },
  {
   "cell_type": "code",
   "execution_count": 30,
   "id": "dc8076f5",
   "metadata": {},
   "outputs": [
    {
     "data": {
      "text/plain": [
       "(5972, 5972)"
      ]
     },
     "execution_count": 30,
     "metadata": {},
     "output_type": "execute_result"
    }
   ],
   "source": [
    "occupation_similarity = gen_sim_mat(df_users, 'occupation', 'user')\n",
    "occupation_similarity.shape"
   ]
  },
  {
   "cell_type": "code",
   "execution_count": 31,
   "id": "81a98501",
   "metadata": {},
   "outputs": [
    {
     "data": {
      "text/plain": [
       "(5972, 5972)"
      ]
     },
     "execution_count": 31,
     "metadata": {},
     "output_type": "execute_result"
    }
   ],
   "source": [
    "age_similarity = gen_sim_mat(df_users, 'age', 'user')\n",
    "age_similarity.shape"
   ]
  },
  {
   "cell_type": "code",
   "execution_count": 32,
   "id": "16b5cb2f",
   "metadata": {},
   "outputs": [
    {
     "data": {
      "text/plain": [
       "(5972, 5972)"
      ]
     },
     "execution_count": 32,
     "metadata": {},
     "output_type": "execute_result"
    }
   ],
   "source": [
    "region_similarity = gen_sim_mat(df_users, 'region', 'user')\n",
    "region_similarity.shape"
   ]
  },
  {
   "cell_type": "code",
   "execution_count": 33,
   "id": "f229cc95",
   "metadata": {},
   "outputs": [
    {
     "data": {
      "text/plain": [
       "(5972, 5972)"
      ]
     },
     "execution_count": 33,
     "metadata": {},
     "output_type": "execute_result"
    }
   ],
   "source": [
    "population_similarity = gen_sim_mat(df_users, 'population', 'user')\n",
    "population_similarity.shape"
   ]
  },
  {
   "cell_type": "markdown",
   "id": "2f94e25c",
   "metadata": {},
   "source": [
    "Bipartite features"
   ]
  },
  {
   "cell_type": "code",
   "execution_count": 34,
   "id": "2cdb647a",
   "metadata": {},
   "outputs": [],
   "source": [
    "if 'B_similarity_movies.csv' in os.listdir():\n",
    "    B_similarity_movies = pd.read_csv(\"B_similarity_movies.csv\")\n",
    "    B_similarity_movies = np.array(B_similarity_movies.drop('Unnamed: 0', axis=1))\n",
    "else:\n",
    "    users_str = np.array([str(uid) for uid in df_users.user_id.unique()])\n",
    "    df_ratings['user_id_str'] = df_ratings['user_id'].apply(str)\n",
    "    \n",
    "    g = nx.Graph()\n",
    "    g.add_nodes_from(users_str, bipartite=0)\n",
    "    g.add_nodes_from(df_movies.movie_id, bipartite=1)\n",
    "\n",
    "    edges = df_ratings[['user_id_str', 'movie_id']].values\n",
    "    g.add_edges_from(edges)\n",
    "\n",
    "    B = bipartite.overlap_weighted_projected_graph(g, df_movies.movie_id)\n",
    "    B_edges = list(B.edges(data=True))\n",
    "    \n",
    "    movie_id_to_index = dict(zip(df_movies.movie_id.tolist(), np.arange(N_movies)))\n",
    "    \n",
    "    B_similarity_movies = np.zeros((N_movies, N_movies))\n",
    "    \n",
    "    for i, j, weight in tqdm(B_edges):\n",
    "        i = movie_id_to_index[i]\n",
    "        j = movie_id_to_index[j]\n",
    "        B_similarity_movies[i, j] = weight['weight']\n",
    "        B_similarity_movies[j, i] = weight['weight']\n",
    "        \n",
    "    pd.DataFrame(B_similarity_movies).to_csv(\"B_similarity_movies.csv\")"
   ]
  },
  {
   "cell_type": "code",
   "execution_count": 35,
   "id": "b2fd576d",
   "metadata": {},
   "outputs": [],
   "source": [
    "if 'B_similarity_users.csv' in os.listdir():\n",
    "    B_similarity_users = pd.read_csv(\"B_similarity_users.csv\")\n",
    "    B_similarity_users = np.array(B_similarity_users.drop('Unnamed: 0', axis=1))\n",
    "else:\n",
    "    movies_str = np.array([str(mid) for mid in df_movies.movie_id.unique()])\n",
    "    df_ratings['movie_id_str'] = df_ratings.movie_id.apply(str)\n",
    "    \n",
    "    g = nx.Graph()\n",
    "    g.add_nodes_from(movies_str, bipartite=0)\n",
    "    g.add_nodes_from(df_users.user_id, bipartite=1)\n",
    "\n",
    "    edges = df_ratings[['movie_id_str', 'user_id']].values\n",
    "    g.add_edges_from(edges)\n",
    "\n",
    "    B = bipartite.overlap_weighted_projected_graph(g, df_users.user_id)\n",
    "    B_edges = list(B.edges(data=True))\n",
    "    \n",
    "    user_id_to_index = dict(zip(df_users.user_id.tolist(), np.arange(N_users)))\n",
    "    \n",
    "    B_similarity_users = np.zeros((N_users, N_users))\n",
    "    \n",
    "    for i, j, weight in tqdm(B_edges):\n",
    "        i = user_id_to_index[i]\n",
    "        j = user_id_to_index[j]\n",
    "        B_similarity_users[i, j] = weight['weight']\n",
    "        B_similarity_users[j, i] = weight['weight']\n",
    "        \n",
    "    pd.DataFrame(B_similarity_users).to_csv(\"B_similarity_users.csv\")"
   ]
  },
  {
   "cell_type": "markdown",
   "id": "71d80472",
   "metadata": {},
   "source": [
    "### Transition matrix"
   ]
  },
  {
   "cell_type": "code",
   "execution_count": 36,
   "id": "a0fb00ce",
   "metadata": {},
   "outputs": [],
   "source": [
    "def feature_to_transition(feature_sim: np.array) -> np.array:\n",
    "    return feature_sim / feature_sim.sum(axis=1)"
   ]
  },
  {
   "cell_type": "markdown",
   "id": "529b657c",
   "metadata": {},
   "source": [
    "Movie feature"
   ]
  },
  {
   "cell_type": "code",
   "execution_count": 37,
   "id": "353900a3",
   "metadata": {},
   "outputs": [],
   "source": [
    "movie_movie_tm = feature_to_transition(movie_movie_similarity)\n",
    "year_tm = feature_to_transition(year_similarity)\n",
    "genre_tm = feature_to_transition(genre_similarity)\n",
    "movie_B_tm = feature_to_transition(B_similarity_movies)"
   ]
  },
  {
   "cell_type": "markdown",
   "id": "f9746960",
   "metadata": {},
   "source": [
    "User feature"
   ]
  },
  {
   "cell_type": "code",
   "execution_count": 38,
   "id": "ab99eff5",
   "metadata": {},
   "outputs": [],
   "source": [
    "user_user_tm = feature_to_transition(user_user_similarity)\n",
    "occupation_tm = feature_to_transition(occupation_similarity)\n",
    "age_tm = feature_to_transition(age_similarity)\n",
    "region_tm = feature_to_transition(region_similarity)\n",
    "population_tm = feature_to_transition(population_similarity)\n",
    "user_B_tm = feature_to_transition(B_similarity_users)"
   ]
  },
  {
   "cell_type": "markdown",
   "id": "393c6823",
   "metadata": {},
   "source": [
    "### Prediction"
   ]
  },
  {
   "cell_type": "code",
   "execution_count": 39,
   "id": "25a7ff0e",
   "metadata": {},
   "outputs": [],
   "source": [
    "scaler = MinMaxScaler()"
   ]
  },
  {
   "cell_type": "code",
   "execution_count": 225,
   "id": "dd4cc8e3",
   "metadata": {},
   "outputs": [],
   "source": [
    "def random_walk_predict(ratings: np.array, transition_matrix: np.array, alpha: float) -> np.array:\n",
    "    x = np.eye(transition_matrix.shape[0]) - alpha * transition_matrix\n",
    "    #Obtain mean of columns as you need, nanmean is convenient.\n",
    "    col_mean = np.nanmean(x, axis=0)\n",
    "    #Find indices that you need to replace\n",
    "    inds = np.where(np.isnan(x))\n",
    "    #Place column means in the indices. Align the arrays using take\n",
    "    x[inds] = np.take(col_mean, inds[1])\n",
    "    # GPU does not perform well on pinv function\n",
    "        \n",
    "    p_tilde = np.linalg.pinv(x)    \n",
    "    final_rating = alpha * np.dot(ratings, np.dot(x, p_tilde))\n",
    "    \n",
    "    final_rating[final_rating < 0] = 0\n",
    "    neglog_final_rating = 0 - np.log10(final_rating, out=np.zeros_like(final_rating), where=(final_rating != 0))\n",
    "    scaled_prediction = (scaler.fit_transform(neglog_final_rating.T) * 5).T\n",
    "    \n",
    "    return scaled_prediction"
   ]
  },
  {
   "cell_type": "code",
   "execution_count": 41,
   "id": "a6b5766f",
   "metadata": {},
   "outputs": [],
   "source": [
    "def rmse(prediction: np.array, test_data_matrix: np.array, item=True) -> float:\n",
    "    if item:\n",
    "        mask = test_data_matrix.nonzero()\n",
    "        truth = test_data_matrix[mask].flatten()\n",
    "    else:\n",
    "        mask = test_data_matrix.T.nonzero()\n",
    "        truth = test_data_matrix.T[mask].flatten()\n",
    "        \n",
    "    prediction = prediction[mask].flatten()\n",
    "    return sqrt(mean_squared_error(prediction, truth))"
   ]
  },
  {
   "cell_type": "code",
   "execution_count": null,
   "id": "a89f5b98",
   "metadata": {},
   "outputs": [],
   "source": [
    "avg_ratings = np.nanmean(pd.pivot(df_ratings, index='user_id', columns='movie_id', values='rating').to_numpy(), axis=0)"
   ]
  },
  {
   "cell_type": "code",
   "execution_count": 192,
   "id": "bf44e649",
   "metadata": {},
   "outputs": [],
   "source": [
    "def avg_nDCG_N(prediction: np.array, item=True, N=10) -> float:\n",
    "    ndcgs = np.zeros(N_users)\n",
    "    ranks = np.log2(np.arange(1, N + 1) + 1)\n",
    "    \n",
    "    for i in range(N_users):\n",
    "        if item:\n",
    "            top_n_idx = np.argsort(prediction[i])[::-1][:N]\n",
    "        else:\n",
    "            top_n_idx = np.argsort(prediction.T[i])[::-1][:N]\n",
    "        \n",
    "        top_n_rating = avg_ratings[top_n_idx]\n",
    "        top_n_rating[np.isnan(top_n_rating)] = 0\n",
    "        dcg = sum((np.power(2, top_n_rating) - 1) / ranks)\n",
    "        idcg = sum((np.power(2, sorted(top_n_rating, reverse=True)) - 1) / ranks)\n",
    "        ndcgs[i] = dcg / idcg\n",
    "        \n",
    "    return ndcgs.mean()"
   ]
  },
  {
   "cell_type": "code",
   "execution_count": 262,
   "id": "b990ec90",
   "metadata": {},
   "outputs": [],
   "source": [
    "def run_grid_search(parameters: list, item=True, baseline=False) -> dict:\n",
    "    results = {}\n",
    "    for parameter in tqdm(parameters):\n",
    "        if item: \n",
    "            alpha, beta, w1, w2, w3, w4 = parameter\n",
    "            if baseline:\n",
    "                transition_matrix = movie_movie_tm # beta * movie_movie_tm + (1 - beta) / N_movies\n",
    "            else:\n",
    "                transition_matrix = beta * (w1 * movie_movie_tm + w2 * year_tm + w3 * movie_B_tm + \n",
    "                                            w4 * genre_tm) + (1 - beta) / N_movies\n",
    "            try:\n",
    "                prediction = random_walk_predict(df_ratings_train_mat, transition_matrix, alpha)\n",
    "            except:\n",
    "                print('Not convergent')\n",
    "                continue\n",
    "        else:\n",
    "            alpha, beta, w1, w2, w3, w4, w5 = parameter\n",
    "            if baseline:\n",
    "                transition_matrix = user_user_tm # beta * user_user_tm + (1 - beta) / N_users\n",
    "            else:\n",
    "                transition_matrix = beta * (w1 * user_user_tm + w2 * population_tm + w3 * age_tm \n",
    "                                            + w4 * region_similarity \n",
    "                                            + w5 * occupation_similarity) + (1 - beta) / N_users\n",
    "            try:\n",
    "                prediction = random_walk_predict(df_ratings_train_mat.T, transition_matrix, alpha)\n",
    "            except:\n",
    "                print('Not convergent')\n",
    "                continue\n",
    "\n",
    "        results[parameter] = [rmse(prediction, df_ratings_test_mat, item)]\n",
    "        results[parameter].append(avg_nDCG_N(prediction, item))\n",
    "    \n",
    "    return results"
   ]
  },
  {
   "cell_type": "code",
   "execution_count": 241,
   "id": "16c52ce6",
   "metadata": {},
   "outputs": [],
   "source": [
    "def generate_parameters(item=True) -> list:\n",
    "    coeffs = [(0.1, 0.8)]\n",
    "    ws = [0.1, 0.15, 0.2, 0.25, 0.3]\n",
    "    if item:\n",
    "        weights = list(permutations(ws, 4))\n",
    "    else:\n",
    "        weights = list(permutations(ws, 5))\n",
    "    \n",
    "    return [x + y for x in coeffs for y in weights] + [y + x for x in coeffs for y in weights]"
   ]
  },
  {
   "cell_type": "code",
   "execution_count": null,
   "id": "ebe92ac4",
   "metadata": {},
   "outputs": [],
   "source": [
    "def get_min(results: dict) -> None:\n",
    "    print(min(results, key=results.get), results[min(results, key=results.get)])"
   ]
  },
  {
   "cell_type": "markdown",
   "id": "8cbccd28",
   "metadata": {},
   "source": [
    "Item-Item predict"
   ]
  },
  {
   "cell_type": "code",
   "execution_count": 268,
   "id": "6b5a0949",
   "metadata": {},
   "outputs": [
    {
     "data": {
      "text/plain": [
       "240"
      ]
     },
     "execution_count": 268,
     "metadata": {},
     "output_type": "execute_result"
    }
   ],
   "source": [
    "parameters_ii = generate_parameters(True)\n",
    "len(parameters_ii)"
   ]
  },
  {
   "cell_type": "code",
   "execution_count": 270,
   "id": "6b8ff59d",
   "metadata": {},
   "outputs": [
    {
     "name": "stderr",
     "output_type": "stream",
     "text": [
      "100%|██████████████████████████████████████████████████████████████████████████████| 240/240 [1:21:12<00:00, 20.30s/it]\n"
     ]
    }
   ],
   "source": [
    "results_ii = run_grid_search(parameters_ii)"
   ]
  },
  {
   "cell_type": "code",
   "execution_count": 271,
   "id": "22b7df58",
   "metadata": {},
   "outputs": [],
   "source": [
    "pd.DataFrame({\"key\": results_ii.keys(), \"values\": results_ii.values()}).to_pickle(\"results_ii.pkl\")"
   ]
  },
  {
   "cell_type": "code",
   "execution_count": null,
   "id": "1c63b555",
   "metadata": {},
   "outputs": [],
   "source": [
    "parameter_ii = [(0.8, 0.7, 0.25, 0.5, 0.4, 0.35)]\n",
    "run_grid_search(parameter_ii)"
   ]
  },
  {
   "cell_type": "markdown",
   "id": "fe6972c9",
   "metadata": {},
   "source": [
    "User-User predict"
   ]
  },
  {
   "cell_type": "code",
   "execution_count": 269,
   "id": "0b11baaf",
   "metadata": {},
   "outputs": [
    {
     "data": {
      "text/plain": [
       "240"
      ]
     },
     "execution_count": 269,
     "metadata": {},
     "output_type": "execute_result"
    }
   ],
   "source": [
    "parameters_uu = generate_parameters(False)\n",
    "len(parameters_uu)"
   ]
  },
  {
   "cell_type": "code",
   "execution_count": 272,
   "id": "092701e2",
   "metadata": {},
   "outputs": [
    {
     "name": "stderr",
     "output_type": "stream",
     "text": [
      "100%|██████████████████████████████████████████████████████████████████████████████| 240/240 [4:58:31<00:00, 74.63s/it]\n"
     ]
    }
   ],
   "source": [
    "results_uu = run_grid_search(parameters_uu, item=False)"
   ]
  },
  {
   "cell_type": "code",
   "execution_count": 273,
   "id": "9601aea9",
   "metadata": {},
   "outputs": [],
   "source": [
    "pd.DataFrame({\"key\": results_uu.keys(), \"values\": results_uu.values()}).to_pickle(\"results_uu.pkl\")"
   ]
  },
  {
   "cell_type": "code",
   "execution_count": null,
   "id": "28fc40ea",
   "metadata": {},
   "outputs": [],
   "source": [
    "pd.read_pickle('results_uu.pkl')['values'].hist()"
   ]
  },
  {
   "cell_type": "code",
   "execution_count": null,
   "id": "963591ab",
   "metadata": {},
   "outputs": [],
   "source": [
    "parameter_uu = [(0.7, 0.8, 0.25, 0.35, 0.2, 0.4, 0.3)]\n",
    "run_grid_search(parameter_uu, item=False)"
   ]
  },
  {
   "cell_type": "markdown",
   "id": "5d8bbdd0",
   "metadata": {},
   "source": [
    "### Some test on code"
   ]
  },
  {
   "cell_type": "code",
   "execution_count": 53,
   "id": "c4fce5a5",
   "metadata": {},
   "outputs": [],
   "source": [
    "# alpha, beta, w1, w2, w3 = 0.7, 0.6, 0.2, 0.4, 0.1\n",
    "# transition_matrix = beta * (w1 * movie_movie_tm + w2 * year_tm + w3 * movie_B_tm + \n",
    "#                                     (1 - w1 - w2 - w3) * genre_tm) + (1 - beta) / N_movies"
   ]
  },
  {
   "cell_type": "code",
   "execution_count": 185,
   "id": "6036d06d",
   "metadata": {},
   "outputs": [],
   "source": [
    "alpha, beta, w1, w2, w3, w4 = 0.7, 0.6, 0.2, 0.1, 0.2, 0.2\n",
    "transition_matrix = beta * (w1 * user_user_tm + w2 * population_tm + w3 * age_tm + w4 * region_similarity + \n",
    "                                    (1 - w1 - w2 - w3 - w4) * occupation_similarity) + (1 - beta) / N_users"
   ]
  },
  {
   "cell_type": "code",
   "execution_count": 186,
   "id": "2809d31c",
   "metadata": {},
   "outputs": [
    {
     "data": {
      "text/plain": [
       "array([[2.77555756e-16, 1.57208261e-01, 1.57208261e-01, ...,\n",
       "        1.57208261e-01, 1.57208261e-01, 1.57208261e-01],\n",
       "       [3.87137585e+00, 1.54669497e-01, 1.54669497e-01, ...,\n",
       "        1.54669497e-01, 1.54669497e-01, 1.54669497e-01],\n",
       "       [3.84783074e+00, 1.52583660e-01, 1.52583660e-01, ...,\n",
       "        1.52583660e-01, 1.52583660e-01, 1.52583660e-01],\n",
       "       ...,\n",
       "       [1.45743815e-01, 1.45743815e-01, 1.45743815e-01, ...,\n",
       "        1.45743815e-01, 1.45743815e-01, 1.45743815e-01],\n",
       "       [4.36366615e+00, 1.47689877e-01, 1.47689877e-01, ...,\n",
       "        1.47689877e-01, 1.47689877e-01, 4.15418479e+00],\n",
       "       [3.73569658e+00, 1.43185236e-01, 1.43185236e-01, ...,\n",
       "        1.43185236e-01, 1.43185236e-01, 1.43185236e-01]])"
      ]
     },
     "execution_count": 186,
     "metadata": {},
     "output_type": "execute_result"
    }
   ],
   "source": [
    "t = random_walk_predict(df_ratings_train_mat.T, transition_matrix, alpha, )\n",
    "t"
   ]
  },
  {
   "cell_type": "code",
   "execution_count": 189,
   "id": "e428d9ca",
   "metadata": {},
   "outputs": [
    {
     "data": {
      "text/plain": [
       "array([3064,  552, 2604, 3195, 2595, 2499, 3640,  812,  695,  975],\n",
       "      dtype=int64)"
      ]
     },
     "execution_count": 189,
     "metadata": {},
     "output_type": "execute_result"
    }
   ],
   "source": [
    "np.argsort(t.T[0])[::-1][:10]"
   ]
  },
  {
   "cell_type": "code",
   "execution_count": 193,
   "id": "d068755e",
   "metadata": {},
   "outputs": [
    {
     "data": {
      "text/plain": [
       "0.8416850539316448"
      ]
     },
     "execution_count": 193,
     "metadata": {},
     "output_type": "execute_result"
    }
   ],
   "source": [
    "avg_nDCG_N(t, item=False)"
   ]
  },
  {
   "cell_type": "code",
   "execution_count": 155,
   "id": "50e520c5",
   "metadata": {},
   "outputs": [
    {
     "data": {
      "text/plain": [
       "array([3.51515152, 3.1875    , 2.73809524, 3.65      , 3.42300557,\n",
       "       3.56548348, 3.46938776, 3.        , 3.2519685 , 3.88461538])"
      ]
     },
     "execution_count": 155,
     "metadata": {},
     "output_type": "execute_result"
    }
   ],
   "source": [
    "b = avg_ratings[np.argsort(t[4])[::-1][:10]]\n",
    "b"
   ]
  },
  {
   "cell_type": "code",
   "execution_count": 153,
   "id": "f6db0f91",
   "metadata": {},
   "outputs": [
    {
     "data": {
      "text/plain": [
       "array([1.        , 1.5849625 , 2.        , 2.32192809, 2.5849625 ,\n",
       "       2.80735492, 3.        , 3.169925  , 3.32192809, 3.45943162])"
      ]
     },
     "execution_count": 153,
     "metadata": {},
     "output_type": "execute_result"
    }
   ],
   "source": [
    "s = np.log2(np.arange(1, len(b) + 1) + 1)\n",
    "s"
   ]
  },
  {
   "cell_type": "code",
   "execution_count": 161,
   "id": "a393eafc",
   "metadata": {},
   "outputs": [
    {
     "data": {
      "text/plain": [
       "0.9076973525816848"
      ]
     },
     "execution_count": 161,
     "metadata": {},
     "output_type": "execute_result"
    }
   ],
   "source": [
    "sum((np.power(2, b) - 1) / s) / sum((np.power(2, sorted(b, reverse=True)) - 1) / s)"
   ]
  },
  {
   "cell_type": "code",
   "execution_count": 106,
   "id": "d9f3d3ac",
   "metadata": {},
   "outputs": [
    {
     "data": {
      "text/plain": [
       "(7, 3705)"
      ]
     },
     "execution_count": 106,
     "metadata": {},
     "output_type": "execute_result"
    }
   ],
   "source": [
    "df_ratings_test_mat[np.all(df_ratings_test_mat == 0, axis=1)].shape"
   ]
  },
  {
   "cell_type": "code",
   "execution_count": 259,
   "id": "49facdbf",
   "metadata": {},
   "outputs": [
    {
     "name": "stderr",
     "output_type": "stream",
     "text": [
      "100%|████████████████████████████████████████████████████████████████████████████████████| 1/1 [00:19<00:00, 19.25s/it]\n"
     ]
    },
    {
     "data": {
      "text/plain": [
       "{(0.1, 0.8, 0.1, 0.15, 0.2, 0.3): [2.99962986122377, 0.8468650425193323]}"
      ]
     },
     "execution_count": 259,
     "metadata": {},
     "output_type": "execute_result"
    }
   ],
   "source": [
    "run_grid_search(parameters_ii[1:2], item=True, baseline=True)"
   ]
  },
  {
   "cell_type": "code",
   "execution_count": 261,
   "id": "b2e0cab9",
   "metadata": {},
   "outputs": [
    {
     "name": "stderr",
     "output_type": "stream",
     "text": [
      "100%|████████████████████████████████████████████████████████████████████████████████████| 4/4 [01:17<00:00, 19.43s/it]\n"
     ]
    },
    {
     "data": {
      "text/plain": [
       "{(0.1, 0.8, 0.1, 0.15, 0.2, 0.3): [2.85730737383325, 0.8475588192376611],\n",
       " (0.1, 0.8, 0.1, 0.15, 0.25, 0.2): [2.7722481520651874, 0.8492745891110581],\n",
       " (0.1, 0.8, 0.1, 0.15, 0.25, 0.3): [2.7112708744303506, 0.8496553776863474],\n",
       " (0.1, 0.8, 0.1, 0.15, 0.3, 0.2): [2.932436373914119, 0.8474926122201153]}"
      ]
     },
     "execution_count": 261,
     "metadata": {},
     "output_type": "execute_result"
    }
   ],
   "source": [
    "run_grid_search(parameters_ii[1:5], item=True)"
   ]
  },
  {
   "cell_type": "code",
   "execution_count": null,
   "id": "20c51ac2",
   "metadata": {},
   "outputs": [],
   "source": []
  }
 ],
 "metadata": {
  "kernelspec": {
   "display_name": "Python 3 (ipykernel)",
   "language": "python",
   "name": "python3"
  },
  "language_info": {
   "codemirror_mode": {
    "name": "ipython",
    "version": 3
   },
   "file_extension": ".py",
   "mimetype": "text/x-python",
   "name": "python",
   "nbconvert_exporter": "python",
   "pygments_lexer": "ipython3",
   "version": "3.8.8"
  }
 },
 "nbformat": 4,
 "nbformat_minor": 5
}
