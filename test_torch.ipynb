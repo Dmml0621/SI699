{
 "cells": [
  {
   "cell_type": "code",
   "execution_count": 1,
   "metadata": {},
   "outputs": [],
   "source": [
    "import numpy as np\n",
    "import torch"
   ]
  },
  {
   "cell_type": "code",
   "execution_count": 2,
   "metadata": {
    "tags": []
   },
   "outputs": [
    {
     "data": {
      "text/plain": [
       "True"
      ]
     },
     "execution_count": 2,
     "metadata": {},
     "output_type": "execute_result"
    }
   ],
   "source": [
    "torch.cuda.is_available()"
   ]
  },
  {
   "cell_type": "code",
   "execution_count": 3,
   "metadata": {},
   "outputs": [
    {
     "data": {
      "text/plain": [
       "'NVIDIA GeForce RTX 3060 Ti'"
      ]
     },
     "execution_count": 3,
     "metadata": {},
     "output_type": "execute_result"
    }
   ],
   "source": [
    "torch.cuda.get_device_name(0)"
   ]
  },
  {
   "cell_type": "code",
   "execution_count": 4,
   "metadata": {},
   "outputs": [],
   "source": [
    "cuda = torch.device('cuda')\n",
    "cpu = torch.device('cpu')"
   ]
  },
  {
   "cell_type": "code",
   "execution_count": 5,
   "metadata": {},
   "outputs": [],
   "source": [
    "a = torch.rand(6000, 6000).to(cuda)\n",
    "b = torch.rand(6000, 6000).to(cuda)"
   ]
  },
  {
   "cell_type": "code",
   "execution_count": 6,
   "metadata": {},
   "outputs": [
    {
     "name": "stdout",
     "output_type": "stream",
     "text": [
      "CPU times: total: 672 ms\n",
      "Wall time: 724 ms\n"
     ]
    }
   ],
   "source": [
    "%time c = torch.matmul(a, b)"
   ]
  },
  {
   "cell_type": "code",
   "execution_count": 7,
   "metadata": {},
   "outputs": [],
   "source": [
    "aa = np.random.rand(6000, 6000)\n",
    "bb = np.random.rand(6000, 6000)"
   ]
  },
  {
   "cell_type": "code",
   "execution_count": 17,
   "metadata": {},
   "outputs": [
    {
     "data": {
      "text/plain": [
       "array([[ 9.29887667e-02,  1.47165269e-01, -7.92744011e-02, ...,\n",
       "        -2.50482354e-02,  7.71017931e-03, -9.15437937e-02],\n",
       "       [ 1.30827744e-02,  4.01312970e-02, -6.76572248e-02, ...,\n",
       "         6.43080007e-03,  6.95894435e-02, -4.30955663e-02],\n",
       "       [-6.77899495e-02, -7.70132467e-02,  1.46422014e-02, ...,\n",
       "         3.64987878e-03,  3.73922172e-04,  6.81898966e-02],\n",
       "       ...,\n",
       "       [-3.78564298e-02, -1.66728497e-02, -4.53116857e-02, ...,\n",
       "         3.23324790e-03,  4.25351486e-02,  3.02529335e-02],\n",
       "       [-2.22130314e-01, -4.48310345e-01,  3.64758521e-01, ...,\n",
       "         1.05689600e-01, -1.81853265e-01,  2.88916737e-01],\n",
       "       [-1.64056867e-02,  5.77221997e-02, -1.07822426e-01, ...,\n",
       "        -1.83742642e-02,  7.56796673e-02, -1.71296634e-02]], dtype=float32)"
      ]
     },
     "execution_count": 17,
     "metadata": {},
     "output_type": "execute_result"
    }
   ],
   "source": [
    "np.linalg.pinv(np.array(a.cpu()))"
   ]
  },
  {
   "cell_type": "code",
   "execution_count": 18,
   "metadata": {},
   "outputs": [
    {
     "data": {
      "text/plain": [
       "tensor([[ 0.0929,  0.1469, -0.0790,  ..., -0.0250,  0.0076, -0.0913],\n",
       "        [ 0.0132,  0.0402, -0.0675,  ...,  0.0064,  0.0693, -0.0432],\n",
       "        [-0.0677, -0.0767,  0.0144,  ...,  0.0036,  0.0005,  0.0680],\n",
       "        ...,\n",
       "        [-0.0378, -0.0165, -0.0454,  ...,  0.0032,  0.0425,  0.0301],\n",
       "        [-0.2221, -0.4479,  0.3640,  ...,  0.1056, -0.1813,  0.2886],\n",
       "        [-0.0162,  0.0580, -0.1078,  ..., -0.0184,  0.0755, -0.0173]],\n",
       "       device='cuda:0')"
      ]
     },
     "execution_count": 18,
     "metadata": {},
     "output_type": "execute_result"
    }
   ],
   "source": [
    "torch.inverse(a)"
   ]
  },
  {
   "cell_type": "code",
   "execution_count": null,
   "metadata": {},
   "outputs": [],
   "source": []
  }
 ],
 "metadata": {
  "kernelspec": {
   "display_name": "Python 3 (ipykernel)",
   "language": "python",
   "name": "python3"
  },
  "language_info": {
   "codemirror_mode": {
    "name": "ipython",
    "version": 3
   },
   "file_extension": ".py",
   "mimetype": "text/x-python",
   "name": "python",
   "nbconvert_exporter": "python",
   "pygments_lexer": "ipython3",
   "version": "3.8.8"
  },
  "vscode": {
   "interpreter": {
    "hash": "ad2bdc8ecc057115af97d19610ffacc2b4e99fae6737bb82f5d7fb13d2f2c186"
   }
  }
 },
 "nbformat": 4,
 "nbformat_minor": 4
}
