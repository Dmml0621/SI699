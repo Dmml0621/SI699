{
 "cells": [
  {
   "cell_type": "code",
   "execution_count": 1,
   "metadata": {},
   "outputs": [],
   "source": [
    "import numpy as np\n",
    "import torch"
   ]
  },
  {
   "cell_type": "code",
   "execution_count": 2,
   "metadata": {
    "tags": []
   },
   "outputs": [
    {
     "data": {
      "text/plain": [
       "True"
      ]
     },
     "execution_count": 2,
     "metadata": {},
     "output_type": "execute_result"
    }
   ],
   "source": [
    "torch.cuda.is_available()"
   ]
  },
  {
   "cell_type": "code",
   "execution_count": 3,
   "metadata": {},
   "outputs": [
    {
     "data": {
      "text/plain": [
       "'NVIDIA GeForce RTX 3060 Ti'"
      ]
     },
     "execution_count": 3,
     "metadata": {},
     "output_type": "execute_result"
    }
   ],
   "source": [
    "torch.cuda.get_device_name(0)"
   ]
  },
  {
   "cell_type": "code",
   "execution_count": 4,
   "metadata": {},
   "outputs": [],
   "source": [
    "cuda = torch.device('cuda')\n",
    "cpu = torch.device('cpu')"
   ]
  },
  {
   "cell_type": "code",
   "execution_count": 7,
   "metadata": {},
   "outputs": [],
   "source": [
    "a = torch.rand(6000, 6000).to(cuda)\n",
    "b = torch.rand(6000, 6000).to(cuda)"
   ]
  },
  {
   "cell_type": "code",
   "execution_count": 6,
   "metadata": {},
   "outputs": [
    {
     "name": "stdout",
     "output_type": "stream",
     "text": [
      "CPU times: total: 672 ms\n",
      "Wall time: 724 ms\n"
     ]
    }
   ],
   "source": [
    "%time c = torch.matmul(a, b)"
   ]
  },
  {
   "cell_type": "code",
   "execution_count": 13,
   "metadata": {},
   "outputs": [],
   "source": [
    "aa = np.random.rand(6000, 6000)\n",
    "bb = np.random.rand(6000, 6000)"
   ]
  },
  {
   "cell_type": "code",
   "execution_count": 14,
   "metadata": {},
   "outputs": [
    {
     "name": "stdout",
     "output_type": "stream",
     "text": [
      "CPU times: total: 1min 16s\n",
      "Wall time: 1min 11s\n"
     ]
    },
    {
     "data": {
      "text/plain": [
       "array([[ 0.09951892, -0.04478143, -0.04915685, ..., -0.41276579,\n",
       "         0.05348528,  0.04208961],\n",
       "       [ 0.08349938, -0.04083842, -0.03555359, ..., -0.45339001,\n",
       "         0.03847795,  0.05970923],\n",
       "       [ 0.09240668, -0.03160693,  0.01796029, ..., -0.63703623,\n",
       "         0.06877267,  0.09830204],\n",
       "       ...,\n",
       "       [ 0.03075072, -0.03394458, -0.00779605, ..., -0.45765541,\n",
       "         0.01049455,  0.07327299],\n",
       "       [ 0.04486491,  0.00224673,  0.08203227, ..., -0.37565912,\n",
       "        -0.0236254 ,  0.07130746],\n",
       "       [ 0.03529425, -0.00618693, -0.00956277, ..., -0.18854371,\n",
       "         0.03093221,  0.01966241]])"
      ]
     },
     "execution_count": 14,
     "metadata": {},
     "output_type": "execute_result"
    }
   ],
   "source": [
    "%time np.linalg.pinv(aa)"
   ]
  },
  {
   "cell_type": "code",
   "execution_count": 12,
   "metadata": {},
   "outputs": [
    {
     "name": "stdout",
     "output_type": "stream",
     "text": [
      "CPU times: total: 7.84 s\n",
      "Wall time: 16.2 s\n"
     ]
    },
    {
     "data": {
      "text/plain": [
       "tensor([[   3.4540,    5.1427,  -15.1770,  ...,   -5.8599,    6.8383,\n",
       "            8.8611],\n",
       "        [  28.7525,   14.2850,   15.1744,  ...,   -5.2619,   -8.8381,\n",
       "          -35.3668],\n",
       "        [ -21.3662,  -53.8493,   59.3064,  ...,    4.7787,   -6.1750,\n",
       "           57.5126],\n",
       "        ...,\n",
       "        [  -7.1569,  -15.8270,   -5.9312,  ...,   44.5503,   -7.1150,\n",
       "           -2.6794],\n",
       "        [ -21.6164,  -38.5508,   62.6266,  ...,  -30.1749,   46.5688,\n",
       "           73.0453],\n",
       "        [  -2.5795,    9.2581,   59.1479,  ..., -124.7982,   26.6640,\n",
       "           44.2986]], device='cuda:0')"
      ]
     },
     "execution_count": 12,
     "metadata": {},
     "output_type": "execute_result"
    }
   ],
   "source": [
    "%time torch.pinverse(a / 1000)"
   ]
  },
  {
   "cell_type": "code",
   "execution_count": null,
   "metadata": {},
   "outputs": [],
   "source": []
  }
 ],
 "metadata": {
  "kernelspec": {
   "display_name": "Python 3 (ipykernel)",
   "language": "python",
   "name": "python3"
  },
  "language_info": {
   "codemirror_mode": {
    "name": "ipython",
    "version": 3
   },
   "file_extension": ".py",
   "mimetype": "text/x-python",
   "name": "python",
   "nbconvert_exporter": "python",
   "pygments_lexer": "ipython3",
   "version": "3.8.8"
  },
  "vscode": {
   "interpreter": {
    "hash": "ad2bdc8ecc057115af97d19610ffacc2b4e99fae6737bb82f5d7fb13d2f2c186"
   }
  }
 },
 "nbformat": 4,
 "nbformat_minor": 4
}
