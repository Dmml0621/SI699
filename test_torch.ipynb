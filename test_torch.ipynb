{
 "cells": [
  {
   "cell_type": "code",
   "execution_count": 1,
   "metadata": {},
   "outputs": [],
   "source": [
    "import numpy as np\n",
    "import torch"
   ]
  },
  {
   "cell_type": "code",
   "execution_count": 3,
   "metadata": {},
   "outputs": [
    {
     "data": {
      "text/plain": [
       "True"
      ]
     },
     "execution_count": 3,
     "metadata": {},
     "output_type": "execute_result"
    }
   ],
   "source": [
    "torch.has_mps"
   ]
  },
  {
   "cell_type": "code",
   "execution_count": 2,
   "metadata": {
    "tags": []
   },
   "outputs": [
    {
     "data": {
      "text/plain": [
       "True"
      ]
     },
     "execution_count": 2,
     "metadata": {},
     "output_type": "execute_result"
    }
   ],
   "source": [
    "torch.cuda.is_available()"
   ]
  },
  {
   "cell_type": "code",
   "execution_count": 3,
   "metadata": {},
   "outputs": [
    {
     "data": {
      "text/plain": [
       "'NVIDIA GeForce RTX 3060 Ti'"
      ]
     },
     "execution_count": 3,
     "metadata": {},
     "output_type": "execute_result"
    }
   ],
   "source": [
    "torch.cuda.get_device_name(0)"
   ]
  },
  {
   "cell_type": "code",
   "execution_count": 4,
   "metadata": {},
   "outputs": [],
   "source": [
    "cuda = torch.device('cuda')\n",
    "cpu = torch.device('cpu')"
   ]
  },
  {
   "cell_type": "code",
   "execution_count": 5,
   "metadata": {},
   "outputs": [],
   "source": [
    "a = torch.rand(6000, 6000).to(cuda)\n",
    "b = torch.rand(6000, 6000).to(cuda)"
   ]
  },
  {
   "cell_type": "code",
   "execution_count": 6,
   "metadata": {},
   "outputs": [
    {
     "name": "stdout",
     "output_type": "stream",
     "text": [
      "CPU times: total: 672 ms\n",
      "Wall time: 724 ms\n"
     ]
    }
   ],
   "source": [
    "%time c = torch.matmul(a, b)"
   ]
  },
  {
   "cell_type": "code",
   "execution_count": 4,
   "metadata": {},
   "outputs": [],
   "source": [
    "aa = np.random.rand(6000, 6000)\n",
    "bb = np.random.rand(6000, 6000)"
   ]
  },
  {
   "cell_type": "code",
   "execution_count": 6,
   "metadata": {},
   "outputs": [
    {
     "data": {
      "text/plain": [
       "array([[ 3.69891465e-01, -7.51112849e-02,  9.63872224e-02, ...,\n",
       "         1.88320160e-01,  8.81293863e-02,  5.95068559e-02],\n",
       "       [ 2.37848327e-01, -8.62966701e-02,  5.69704082e-03, ...,\n",
       "         1.69915527e-01,  7.41290078e-02,  6.71355501e-02],\n",
       "       [ 8.31104144e-02, -1.38442377e-02, -5.81950024e-02, ...,\n",
       "         4.70023677e-02,  3.37803774e-02,  4.44228612e-02],\n",
       "       ...,\n",
       "       [-1.91015184e-01,  7.24618137e-03, -4.12276499e-02, ...,\n",
       "        -9.71592739e-02, -6.05677105e-02, -3.28970738e-02],\n",
       "       [-1.63057521e-01,  1.01651855e-01, -1.81816399e-01, ...,\n",
       "         7.03447610e-02,  2.18895846e-04,  3.67377363e-02],\n",
       "       [ 2.88349122e-01, -7.86762461e-02,  9.45898816e-02, ...,\n",
       "         1.03111893e-01,  2.80299559e-02,  4.65224497e-02]], dtype=float32)"
      ]
     },
     "execution_count": 6,
     "metadata": {},
     "output_type": "execute_result"
    }
   ],
   "source": [
    "np.linalg.pinv(np.array(torch.rand(6000, 6000)))"
   ]
  },
  {
   "cell_type": "code",
   "execution_count": 8,
   "metadata": {},
   "outputs": [],
   "source": [
    "aa = torch.rand(6000, 6000).to(torch.device('mps'))"
   ]
  },
  {
   "cell_type": "code",
   "execution_count": 11,
   "metadata": {},
   "outputs": [
    {
     "name": "stderr",
     "output_type": "stream",
     "text": [
      "/Users/scottduanmu/opt/anaconda3/lib/python3.9/site-packages/torch/_tensor_str.py:115: UserWarning: The operator 'aten::nonzero' is not currently supported on the MPS backend and will fall back to run on the CPU. This may have performance implications. (Triggered internally at /Users/runner/work/_temp/anaconda/conda-bld/pytorch_1666646981653/work/aten/src/ATen/mps/MPSFallback.mm:11.)\n",
      "  nonzero_finite_vals = torch.masked_select(\n"
     ]
    },
    {
     "data": {
      "text/plain": [
       "tensor([[1490.1631, 1494.6938, 1495.1478,  ..., 1514.1636, 1490.1755,\n",
       "         1510.3771],\n",
       "        [1507.1375, 1502.6964, 1518.1697,  ..., 1522.5254, 1485.6843,\n",
       "         1509.9264],\n",
       "        [1492.5540, 1503.4868, 1494.5768,  ..., 1515.1323, 1486.7476,\n",
       "         1488.3918],\n",
       "        ...,\n",
       "        [1496.4347, 1507.3907, 1499.1222,  ..., 1519.9082, 1481.9133,\n",
       "         1508.2415],\n",
       "        [1508.6547, 1512.2682, 1516.3824,  ..., 1541.1869, 1503.6816,\n",
       "         1523.9537],\n",
       "        [1512.3453, 1518.5709, 1519.3003,  ..., 1535.3820, 1499.0959,\n",
       "         1524.2950]], device='mps:0')"
      ]
     },
     "execution_count": 11,
     "metadata": {},
     "output_type": "execute_result"
    }
   ],
   "source": [
    "torch.matmul(aa, aa)"
   ]
  },
  {
   "cell_type": "code",
   "execution_count": 13,
   "metadata": {},
   "outputs": [
    {
     "data": {
      "text/plain": [
       "tensor([[1490.1639, 1494.6946, 1495.1464,  ..., 1514.1603, 1490.1769,\n",
       "         1510.3784],\n",
       "        [1507.1409, 1502.6963, 1518.1731,  ..., 1522.5267, 1485.6851,\n",
       "         1509.9285],\n",
       "        [1492.5536, 1503.4869, 1494.5785,  ..., 1515.1316, 1486.7473,\n",
       "         1488.3938],\n",
       "        ...,\n",
       "        [1496.4346, 1507.3896, 1499.1213,  ..., 1519.9069, 1481.9120,\n",
       "         1508.2423],\n",
       "        [1508.6555, 1512.2651, 1516.3828,  ..., 1541.1864, 1503.6830,\n",
       "         1523.9536],\n",
       "        [1512.3447, 1518.5719, 1519.3019,  ..., 1535.3806, 1499.0958,\n",
       "         1524.2924]])"
      ]
     },
     "execution_count": 13,
     "metadata": {},
     "output_type": "execute_result"
    }
   ],
   "source": [
    "aa.to('cpu') @ aa.to('cpu')"
   ]
  },
  {
   "cell_type": "code",
   "execution_count": null,
   "metadata": {},
   "outputs": [],
   "source": []
  }
 ],
 "metadata": {
  "kernelspec": {
   "display_name": "Python 3.9.12 ('base')",
   "language": "python",
   "name": "python3"
  },
  "language_info": {
   "codemirror_mode": {
    "name": "ipython",
    "version": 3
   },
   "file_extension": ".py",
   "mimetype": "text/x-python",
   "name": "python",
   "nbconvert_exporter": "python",
   "pygments_lexer": "ipython3",
   "version": "3.9.12"
  },
  "vscode": {
   "interpreter": {
    "hash": "3efed1a0a2fdd8be36446bfd29570da5c8155b70bce854ad7488b53590c878ad"
   }
  }
 },
 "nbformat": 4,
 "nbformat_minor": 4
}
