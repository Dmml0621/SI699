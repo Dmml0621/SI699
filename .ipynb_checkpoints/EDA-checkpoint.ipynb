{
 "cells": [
  {
   "cell_type": "code",
   "execution_count": 127,
   "id": "6e335bd8",
   "metadata": {},
   "outputs": [],
   "source": [
    "import pandas as pd\n",
    "import matplotlib.pyplot as plt\n",
    "import seaborn as sns\n",
    "import re"
   ]
  },
  {
   "cell_type": "code",
   "execution_count": 128,
   "id": "f87b01ab",
   "metadata": {},
   "outputs": [],
   "source": [
    "df_movies = pd.read_csv('movies.dat',\n",
    "                        delimiter='::', engine= 'python', encoding='ISO-8859-1', header=None,\n",
    "                        names=['movie_id', 'movie_name', 'genre'])\n",
    "\n",
    "df_users = pd.read_csv('users.dat',\n",
    "                       delimiter='::', engine='python',  encoding='ISO-8859-1',header=None,\n",
    "                       names=['user_id', 'gender', 'age', 'occupation', 'zip_code'])\n",
    "\n",
    "df_ratings = pd.read_csv('ratings.dat',\n",
    "                         delimiter='::', engine='python',  encoding='ISO-8859-1',header=None,\n",
    "                         names=['user_id', 'movie_id', 'rating', 'time'])"
   ]
  },
  {
   "cell_type": "code",
   "execution_count": 129,
   "id": "2510e413",
   "metadata": {},
   "outputs": [
    {
     "data": {
      "text/html": [
       "<div>\n",
       "<style scoped>\n",
       "    .dataframe tbody tr th:only-of-type {\n",
       "        vertical-align: middle;\n",
       "    }\n",
       "\n",
       "    .dataframe tbody tr th {\n",
       "        vertical-align: top;\n",
       "    }\n",
       "\n",
       "    .dataframe thead th {\n",
       "        text-align: right;\n",
       "    }\n",
       "</style>\n",
       "<table border=\"1\" class=\"dataframe\">\n",
       "  <thead>\n",
       "    <tr style=\"text-align: right;\">\n",
       "      <th></th>\n",
       "      <th>movie_id</th>\n",
       "      <th>movie_name</th>\n",
       "      <th>genre</th>\n",
       "    </tr>\n",
       "  </thead>\n",
       "  <tbody>\n",
       "    <tr>\n",
       "      <th>0</th>\n",
       "      <td>1</td>\n",
       "      <td>Toy Story (1995)</td>\n",
       "      <td>Animation|Children's|Comedy</td>\n",
       "    </tr>\n",
       "    <tr>\n",
       "      <th>1</th>\n",
       "      <td>2</td>\n",
       "      <td>Jumanji (1995)</td>\n",
       "      <td>Adventure|Children's|Fantasy</td>\n",
       "    </tr>\n",
       "    <tr>\n",
       "      <th>2</th>\n",
       "      <td>3</td>\n",
       "      <td>Grumpier Old Men (1995)</td>\n",
       "      <td>Comedy|Romance</td>\n",
       "    </tr>\n",
       "    <tr>\n",
       "      <th>3</th>\n",
       "      <td>4</td>\n",
       "      <td>Waiting to Exhale (1995)</td>\n",
       "      <td>Comedy|Drama</td>\n",
       "    </tr>\n",
       "    <tr>\n",
       "      <th>4</th>\n",
       "      <td>5</td>\n",
       "      <td>Father of the Bride Part II (1995)</td>\n",
       "      <td>Comedy</td>\n",
       "    </tr>\n",
       "  </tbody>\n",
       "</table>\n",
       "</div>"
      ],
      "text/plain": [
       "   movie_id                          movie_name                         genre\n",
       "0         1                    Toy Story (1995)   Animation|Children's|Comedy\n",
       "1         2                      Jumanji (1995)  Adventure|Children's|Fantasy\n",
       "2         3             Grumpier Old Men (1995)                Comedy|Romance\n",
       "3         4            Waiting to Exhale (1995)                  Comedy|Drama\n",
       "4         5  Father of the Bride Part II (1995)                        Comedy"
      ]
     },
     "execution_count": 129,
     "metadata": {},
     "output_type": "execute_result"
    }
   ],
   "source": [
    "df_movies.head()"
   ]
  },
  {
   "cell_type": "code",
   "execution_count": 130,
   "id": "a22afc71",
   "metadata": {},
   "outputs": [
    {
     "data": {
      "text/html": [
       "<div>\n",
       "<style scoped>\n",
       "    .dataframe tbody tr th:only-of-type {\n",
       "        vertical-align: middle;\n",
       "    }\n",
       "\n",
       "    .dataframe tbody tr th {\n",
       "        vertical-align: top;\n",
       "    }\n",
       "\n",
       "    .dataframe thead th {\n",
       "        text-align: right;\n",
       "    }\n",
       "</style>\n",
       "<table border=\"1\" class=\"dataframe\">\n",
       "  <thead>\n",
       "    <tr style=\"text-align: right;\">\n",
       "      <th></th>\n",
       "      <th>user_id</th>\n",
       "      <th>gender</th>\n",
       "      <th>age</th>\n",
       "      <th>occupation</th>\n",
       "      <th>zip_code</th>\n",
       "    </tr>\n",
       "  </thead>\n",
       "  <tbody>\n",
       "    <tr>\n",
       "      <th>0</th>\n",
       "      <td>1</td>\n",
       "      <td>F</td>\n",
       "      <td>1</td>\n",
       "      <td>10</td>\n",
       "      <td>48067</td>\n",
       "    </tr>\n",
       "    <tr>\n",
       "      <th>1</th>\n",
       "      <td>2</td>\n",
       "      <td>M</td>\n",
       "      <td>56</td>\n",
       "      <td>16</td>\n",
       "      <td>70072</td>\n",
       "    </tr>\n",
       "    <tr>\n",
       "      <th>2</th>\n",
       "      <td>3</td>\n",
       "      <td>M</td>\n",
       "      <td>25</td>\n",
       "      <td>15</td>\n",
       "      <td>55117</td>\n",
       "    </tr>\n",
       "    <tr>\n",
       "      <th>3</th>\n",
       "      <td>4</td>\n",
       "      <td>M</td>\n",
       "      <td>45</td>\n",
       "      <td>7</td>\n",
       "      <td>02460</td>\n",
       "    </tr>\n",
       "    <tr>\n",
       "      <th>4</th>\n",
       "      <td>5</td>\n",
       "      <td>M</td>\n",
       "      <td>25</td>\n",
       "      <td>20</td>\n",
       "      <td>55455</td>\n",
       "    </tr>\n",
       "  </tbody>\n",
       "</table>\n",
       "</div>"
      ],
      "text/plain": [
       "   user_id gender  age  occupation zip_code\n",
       "0        1      F    1          10    48067\n",
       "1        2      M   56          16    70072\n",
       "2        3      M   25          15    55117\n",
       "3        4      M   45           7    02460\n",
       "4        5      M   25          20    55455"
      ]
     },
     "execution_count": 130,
     "metadata": {},
     "output_type": "execute_result"
    }
   ],
   "source": [
    "df_users.head()"
   ]
  },
  {
   "cell_type": "code",
   "execution_count": 131,
   "id": "a7dde771",
   "metadata": {},
   "outputs": [
    {
     "data": {
      "text/html": [
       "<div>\n",
       "<style scoped>\n",
       "    .dataframe tbody tr th:only-of-type {\n",
       "        vertical-align: middle;\n",
       "    }\n",
       "\n",
       "    .dataframe tbody tr th {\n",
       "        vertical-align: top;\n",
       "    }\n",
       "\n",
       "    .dataframe thead th {\n",
       "        text-align: right;\n",
       "    }\n",
       "</style>\n",
       "<table border=\"1\" class=\"dataframe\">\n",
       "  <thead>\n",
       "    <tr style=\"text-align: right;\">\n",
       "      <th></th>\n",
       "      <th>user_id</th>\n",
       "      <th>movie_id</th>\n",
       "      <th>rating</th>\n",
       "      <th>time</th>\n",
       "    </tr>\n",
       "  </thead>\n",
       "  <tbody>\n",
       "    <tr>\n",
       "      <th>0</th>\n",
       "      <td>1</td>\n",
       "      <td>1193</td>\n",
       "      <td>5</td>\n",
       "      <td>978300760</td>\n",
       "    </tr>\n",
       "    <tr>\n",
       "      <th>1</th>\n",
       "      <td>1</td>\n",
       "      <td>661</td>\n",
       "      <td>3</td>\n",
       "      <td>978302109</td>\n",
       "    </tr>\n",
       "    <tr>\n",
       "      <th>2</th>\n",
       "      <td>1</td>\n",
       "      <td>914</td>\n",
       "      <td>3</td>\n",
       "      <td>978301968</td>\n",
       "    </tr>\n",
       "    <tr>\n",
       "      <th>3</th>\n",
       "      <td>1</td>\n",
       "      <td>3408</td>\n",
       "      <td>4</td>\n",
       "      <td>978300275</td>\n",
       "    </tr>\n",
       "    <tr>\n",
       "      <th>4</th>\n",
       "      <td>1</td>\n",
       "      <td>2355</td>\n",
       "      <td>5</td>\n",
       "      <td>978824291</td>\n",
       "    </tr>\n",
       "  </tbody>\n",
       "</table>\n",
       "</div>"
      ],
      "text/plain": [
       "   user_id  movie_id  rating       time\n",
       "0        1      1193       5  978300760\n",
       "1        1       661       3  978302109\n",
       "2        1       914       3  978301968\n",
       "3        1      3408       4  978300275\n",
       "4        1      2355       5  978824291"
      ]
     },
     "execution_count": 131,
     "metadata": {},
     "output_type": "execute_result"
    }
   ],
   "source": [
    "df_ratings.head()"
   ]
  },
  {
   "cell_type": "code",
   "execution_count": 132,
   "id": "a3800bf2",
   "metadata": {},
   "outputs": [],
   "source": [
    "df_users_ratings = pd.merge(df_ratings, df_users, on='user_id')"
   ]
  },
  {
   "cell_type": "code",
   "execution_count": 133,
   "id": "11d84794",
   "metadata": {},
   "outputs": [
    {
     "data": {
      "text/html": [
       "<div>\n",
       "<style scoped>\n",
       "    .dataframe tbody tr th:only-of-type {\n",
       "        vertical-align: middle;\n",
       "    }\n",
       "\n",
       "    .dataframe tbody tr th {\n",
       "        vertical-align: top;\n",
       "    }\n",
       "\n",
       "    .dataframe thead th {\n",
       "        text-align: right;\n",
       "    }\n",
       "</style>\n",
       "<table border=\"1\" class=\"dataframe\">\n",
       "  <thead>\n",
       "    <tr style=\"text-align: right;\">\n",
       "      <th></th>\n",
       "      <th>user_id</th>\n",
       "      <th>movie_id</th>\n",
       "      <th>rating</th>\n",
       "      <th>time</th>\n",
       "      <th>gender</th>\n",
       "      <th>age</th>\n",
       "      <th>occupation</th>\n",
       "      <th>zip_code</th>\n",
       "    </tr>\n",
       "  </thead>\n",
       "  <tbody>\n",
       "    <tr>\n",
       "      <th>520607</th>\n",
       "      <td>3210</td>\n",
       "      <td>2028</td>\n",
       "      <td>4</td>\n",
       "      <td>969031099</td>\n",
       "      <td>F</td>\n",
       "      <td>45</td>\n",
       "      <td>0</td>\n",
       "      <td>02115</td>\n",
       "    </tr>\n",
       "    <tr>\n",
       "      <th>304801</th>\n",
       "      <td>1812</td>\n",
       "      <td>1885</td>\n",
       "      <td>5</td>\n",
       "      <td>974703941</td>\n",
       "      <td>F</td>\n",
       "      <td>25</td>\n",
       "      <td>12</td>\n",
       "      <td>48103</td>\n",
       "    </tr>\n",
       "    <tr>\n",
       "      <th>764650</th>\n",
       "      <td>4543</td>\n",
       "      <td>1036</td>\n",
       "      <td>4</td>\n",
       "      <td>964670192</td>\n",
       "      <td>M</td>\n",
       "      <td>25</td>\n",
       "      <td>2</td>\n",
       "      <td>11105</td>\n",
       "    </tr>\n",
       "    <tr>\n",
       "      <th>181503</th>\n",
       "      <td>1134</td>\n",
       "      <td>2011</td>\n",
       "      <td>5</td>\n",
       "      <td>974882644</td>\n",
       "      <td>M</td>\n",
       "      <td>18</td>\n",
       "      <td>20</td>\n",
       "      <td>19114</td>\n",
       "    </tr>\n",
       "    <tr>\n",
       "      <th>898613</th>\n",
       "      <td>5433</td>\n",
       "      <td>2161</td>\n",
       "      <td>2</td>\n",
       "      <td>960424465</td>\n",
       "      <td>F</td>\n",
       "      <td>35</td>\n",
       "      <td>17</td>\n",
       "      <td>45014</td>\n",
       "    </tr>\n",
       "    <tr>\n",
       "      <th>889015</th>\n",
       "      <td>5367</td>\n",
       "      <td>2968</td>\n",
       "      <td>4</td>\n",
       "      <td>960500871</td>\n",
       "      <td>M</td>\n",
       "      <td>18</td>\n",
       "      <td>4</td>\n",
       "      <td>55344</td>\n",
       "    </tr>\n",
       "    <tr>\n",
       "      <th>380018</th>\n",
       "      <td>2222</td>\n",
       "      <td>524</td>\n",
       "      <td>4</td>\n",
       "      <td>974858822</td>\n",
       "      <td>F</td>\n",
       "      <td>45</td>\n",
       "      <td>1</td>\n",
       "      <td>13088</td>\n",
       "    </tr>\n",
       "    <tr>\n",
       "      <th>581094</th>\n",
       "      <td>3547</td>\n",
       "      <td>3783</td>\n",
       "      <td>4</td>\n",
       "      <td>992667964</td>\n",
       "      <td>M</td>\n",
       "      <td>35</td>\n",
       "      <td>16</td>\n",
       "      <td>94108</td>\n",
       "    </tr>\n",
       "    <tr>\n",
       "      <th>665555</th>\n",
       "      <td>4006</td>\n",
       "      <td>2011</td>\n",
       "      <td>4</td>\n",
       "      <td>965552448</td>\n",
       "      <td>M</td>\n",
       "      <td>1</td>\n",
       "      <td>7</td>\n",
       "      <td>48038</td>\n",
       "    </tr>\n",
       "    <tr>\n",
       "      <th>110418</th>\n",
       "      <td>720</td>\n",
       "      <td>1772</td>\n",
       "      <td>1</td>\n",
       "      <td>975529866</td>\n",
       "      <td>M</td>\n",
       "      <td>18</td>\n",
       "      <td>0</td>\n",
       "      <td>55129</td>\n",
       "    </tr>\n",
       "  </tbody>\n",
       "</table>\n",
       "</div>"
      ],
      "text/plain": [
       "        user_id  movie_id  rating       time gender  age  occupation zip_code\n",
       "520607     3210      2028       4  969031099      F   45           0    02115\n",
       "304801     1812      1885       5  974703941      F   25          12    48103\n",
       "764650     4543      1036       4  964670192      M   25           2    11105\n",
       "181503     1134      2011       5  974882644      M   18          20    19114\n",
       "898613     5433      2161       2  960424465      F   35          17    45014\n",
       "889015     5367      2968       4  960500871      M   18           4    55344\n",
       "380018     2222       524       4  974858822      F   45           1    13088\n",
       "581094     3547      3783       4  992667964      M   35          16    94108\n",
       "665555     4006      2011       4  965552448      M    1           7    48038\n",
       "110418      720      1772       1  975529866      M   18           0    55129"
      ]
     },
     "execution_count": 133,
     "metadata": {},
     "output_type": "execute_result"
    }
   ],
   "source": [
    "df_users_ratings.sample(10)"
   ]
  },
  {
   "cell_type": "code",
   "execution_count": 134,
   "id": "d5e6a399",
   "metadata": {},
   "outputs": [
    {
     "data": {
      "text/plain": [
       "user_id       0\n",
       "movie_id      0\n",
       "rating        0\n",
       "time          0\n",
       "gender        0\n",
       "age           0\n",
       "occupation    0\n",
       "zip_code      0\n",
       "dtype: int64"
      ]
     },
     "execution_count": 134,
     "metadata": {},
     "output_type": "execute_result"
    }
   ],
   "source": [
    "df_users_ratings.isnull().sum()"
   ]
  },
  {
   "cell_type": "code",
   "execution_count": 135,
   "id": "d0f88bae",
   "metadata": {},
   "outputs": [],
   "source": [
    "df_all = pd.merge(df_users_ratings, df_movies, on='movie_id')"
   ]
  },
  {
   "cell_type": "code",
   "execution_count": 136,
   "id": "6dbf9a40",
   "metadata": {},
   "outputs": [
    {
     "data": {
      "text/plain": [
       "user_id       0\n",
       "movie_id      0\n",
       "rating        0\n",
       "time          0\n",
       "gender        0\n",
       "age           0\n",
       "occupation    0\n",
       "zip_code      0\n",
       "movie_name    0\n",
       "genre         0\n",
       "dtype: int64"
      ]
     },
     "execution_count": 136,
     "metadata": {},
     "output_type": "execute_result"
    }
   ],
   "source": [
    "df_all.isnull().sum()"
   ]
  },
  {
   "cell_type": "code",
   "execution_count": 137,
   "id": "920063a1",
   "metadata": {},
   "outputs": [
    {
     "data": {
      "text/html": [
       "<div>\n",
       "<style scoped>\n",
       "    .dataframe tbody tr th:only-of-type {\n",
       "        vertical-align: middle;\n",
       "    }\n",
       "\n",
       "    .dataframe tbody tr th {\n",
       "        vertical-align: top;\n",
       "    }\n",
       "\n",
       "    .dataframe thead th {\n",
       "        text-align: right;\n",
       "    }\n",
       "</style>\n",
       "<table border=\"1\" class=\"dataframe\">\n",
       "  <thead>\n",
       "    <tr style=\"text-align: right;\">\n",
       "      <th></th>\n",
       "      <th>user_id</th>\n",
       "      <th>movie_id</th>\n",
       "      <th>rating</th>\n",
       "      <th>time</th>\n",
       "      <th>gender</th>\n",
       "      <th>age</th>\n",
       "      <th>occupation</th>\n",
       "      <th>zip_code</th>\n",
       "      <th>movie_name</th>\n",
       "      <th>genre</th>\n",
       "    </tr>\n",
       "  </thead>\n",
       "  <tbody>\n",
       "    <tr>\n",
       "      <th>347627</th>\n",
       "      <td>2406</td>\n",
       "      <td>1674</td>\n",
       "      <td>5</td>\n",
       "      <td>974257782</td>\n",
       "      <td>F</td>\n",
       "      <td>56</td>\n",
       "      <td>12</td>\n",
       "      <td>01520</td>\n",
       "      <td>Witness (1985)</td>\n",
       "      <td>Drama|Romance|Thriller</td>\n",
       "    </tr>\n",
       "    <tr>\n",
       "      <th>954264</th>\n",
       "      <td>352</td>\n",
       "      <td>458</td>\n",
       "      <td>3</td>\n",
       "      <td>976332658</td>\n",
       "      <td>M</td>\n",
       "      <td>18</td>\n",
       "      <td>4</td>\n",
       "      <td>60115</td>\n",
       "      <td>Geronimo: An American Legend (1993)</td>\n",
       "      <td>Drama|Western</td>\n",
       "    </tr>\n",
       "    <tr>\n",
       "      <th>494211</th>\n",
       "      <td>4618</td>\n",
       "      <td>2407</td>\n",
       "      <td>3</td>\n",
       "      <td>964126906</td>\n",
       "      <td>M</td>\n",
       "      <td>25</td>\n",
       "      <td>14</td>\n",
       "      <td>97202</td>\n",
       "      <td>Cocoon (1985)</td>\n",
       "      <td>Comedy|Sci-Fi</td>\n",
       "    </tr>\n",
       "    <tr>\n",
       "      <th>342042</th>\n",
       "      <td>5621</td>\n",
       "      <td>1088</td>\n",
       "      <td>1</td>\n",
       "      <td>959118436</td>\n",
       "      <td>M</td>\n",
       "      <td>25</td>\n",
       "      <td>7</td>\n",
       "      <td>02135</td>\n",
       "      <td>Dirty Dancing (1987)</td>\n",
       "      <td>Musical|Romance</td>\n",
       "    </tr>\n",
       "    <tr>\n",
       "      <th>179043</th>\n",
       "      <td>3455</td>\n",
       "      <td>356</td>\n",
       "      <td>2</td>\n",
       "      <td>967233112</td>\n",
       "      <td>F</td>\n",
       "      <td>25</td>\n",
       "      <td>0</td>\n",
       "      <td>07701</td>\n",
       "      <td>Forrest Gump (1994)</td>\n",
       "      <td>Comedy|Romance|War</td>\n",
       "    </tr>\n",
       "    <tr>\n",
       "      <th>568466</th>\n",
       "      <td>2533</td>\n",
       "      <td>440</td>\n",
       "      <td>4</td>\n",
       "      <td>974054821</td>\n",
       "      <td>F</td>\n",
       "      <td>25</td>\n",
       "      <td>3</td>\n",
       "      <td>49423</td>\n",
       "      <td>Dave (1993)</td>\n",
       "      <td>Comedy|Romance</td>\n",
       "    </tr>\n",
       "    <tr>\n",
       "      <th>731445</th>\n",
       "      <td>5795</td>\n",
       "      <td>3505</td>\n",
       "      <td>3</td>\n",
       "      <td>958152121</td>\n",
       "      <td>M</td>\n",
       "      <td>25</td>\n",
       "      <td>1</td>\n",
       "      <td>92688</td>\n",
       "      <td>No Way Out (1987)</td>\n",
       "      <td>Thriller</td>\n",
       "    </tr>\n",
       "    <tr>\n",
       "      <th>235258</th>\n",
       "      <td>43</td>\n",
       "      <td>3793</td>\n",
       "      <td>4</td>\n",
       "      <td>978026614</td>\n",
       "      <td>M</td>\n",
       "      <td>25</td>\n",
       "      <td>12</td>\n",
       "      <td>60614</td>\n",
       "      <td>X-Men (2000)</td>\n",
       "      <td>Action|Sci-Fi</td>\n",
       "    </tr>\n",
       "    <tr>\n",
       "      <th>196295</th>\n",
       "      <td>1884</td>\n",
       "      <td>1580</td>\n",
       "      <td>3</td>\n",
       "      <td>974693939</td>\n",
       "      <td>M</td>\n",
       "      <td>45</td>\n",
       "      <td>20</td>\n",
       "      <td>93108</td>\n",
       "      <td>Men in Black (1997)</td>\n",
       "      <td>Action|Adventure|Comedy|Sci-Fi</td>\n",
       "    </tr>\n",
       "    <tr>\n",
       "      <th>545435</th>\n",
       "      <td>346</td>\n",
       "      <td>1230</td>\n",
       "      <td>1</td>\n",
       "      <td>976334585</td>\n",
       "      <td>F</td>\n",
       "      <td>25</td>\n",
       "      <td>0</td>\n",
       "      <td>55110</td>\n",
       "      <td>Annie Hall (1977)</td>\n",
       "      <td>Comedy|Romance</td>\n",
       "    </tr>\n",
       "  </tbody>\n",
       "</table>\n",
       "</div>"
      ],
      "text/plain": [
       "        user_id  movie_id  rating       time gender  age  occupation zip_code  \\\n",
       "347627     2406      1674       5  974257782      F   56          12    01520   \n",
       "954264      352       458       3  976332658      M   18           4    60115   \n",
       "494211     4618      2407       3  964126906      M   25          14    97202   \n",
       "342042     5621      1088       1  959118436      M   25           7    02135   \n",
       "179043     3455       356       2  967233112      F   25           0    07701   \n",
       "568466     2533       440       4  974054821      F   25           3    49423   \n",
       "731445     5795      3505       3  958152121      M   25           1    92688   \n",
       "235258       43      3793       4  978026614      M   25          12    60614   \n",
       "196295     1884      1580       3  974693939      M   45          20    93108   \n",
       "545435      346      1230       1  976334585      F   25           0    55110   \n",
       "\n",
       "                                 movie_name                           genre  \n",
       "347627                       Witness (1985)          Drama|Romance|Thriller  \n",
       "954264  Geronimo: An American Legend (1993)                   Drama|Western  \n",
       "494211                        Cocoon (1985)                   Comedy|Sci-Fi  \n",
       "342042                 Dirty Dancing (1987)                 Musical|Romance  \n",
       "179043                  Forrest Gump (1994)              Comedy|Romance|War  \n",
       "568466                          Dave (1993)                  Comedy|Romance  \n",
       "731445                    No Way Out (1987)                        Thriller  \n",
       "235258                         X-Men (2000)                   Action|Sci-Fi  \n",
       "196295                  Men in Black (1997)  Action|Adventure|Comedy|Sci-Fi  \n",
       "545435                    Annie Hall (1977)                  Comedy|Romance  "
      ]
     },
     "execution_count": 137,
     "metadata": {},
     "output_type": "execute_result"
    }
   ],
   "source": [
    "df_all.sample(10)"
   ]
  },
  {
   "cell_type": "code",
   "execution_count": 138,
   "id": "2b4a29d0",
   "metadata": {},
   "outputs": [],
   "source": [
    "df_all['year'] = df_all.movie_name.apply(lambda x: int(re.findall(r'(\\d{4})', x)[0]))\n",
    "df_movies['year'] = df_movies.movie_name.apply(lambda x: int(re.findall(r'(\\d{4})', x)[0]))"
   ]
  },
  {
   "cell_type": "code",
   "execution_count": 139,
   "id": "13e91543",
   "metadata": {},
   "outputs": [],
   "source": [
    "df_all['genre'] = df_all.genre.apply(lambda x: set(x.split('|')))\n",
    "df_movies['genre'] = df_movies.genre.apply(lambda x: set(x.split('|')))"
   ]
  },
  {
   "cell_type": "code",
   "execution_count": 141,
   "id": "93e848d0",
   "metadata": {},
   "outputs": [],
   "source": [
    "df_all = df_all[(df_all.year >= 1900) & (df_all.year <= 2002)]\n",
    "df_all = df_all[df_all.age > 1]"
   ]
  },
  {
   "cell_type": "code",
   "execution_count": 142,
   "id": "3cb59559",
   "metadata": {},
   "outputs": [],
   "source": [
    "df_all.drop(columns=['time'], inplace=True)"
   ]
  },
  {
   "cell_type": "code",
   "execution_count": 143,
   "id": "60e164ae",
   "metadata": {},
   "outputs": [
    {
     "data": {
      "text/plain": [
       "<AxesSubplot:xlabel='year', ylabel='Count'>"
      ]
     },
     "execution_count": 143,
     "metadata": {},
     "output_type": "execute_result"
    },
    {
     "data": {
      "image/png": "[encoded data removed]",
      "text/plain": [
       "<Figure size 720x432 with 1 Axes>"
      ]
     },
     "metadata": {},
     "output_type": "display_data"
    }
   ],
   "source": [
    "sns.set(rc = {'figure.figsize':(10,6)})\n",
    "sns.histplot(df_movies[(df_movies.year >= 1900) & (df_movies.year <= 2002)].year, binwidth=5)"
   ]
  },
  {
   "cell_type": "code",
   "execution_count": 144,
   "id": "fc597eac",
   "metadata": {},
   "outputs": [
    {
     "data": {
      "text/plain": [
       "<AxesSubplot:xlabel='age', ylabel='rating'>"
      ]
     },
     "execution_count": 144,
     "metadata": {},
     "output_type": "execute_result"
    },
    {
     "data": {
      "image/png": "[encoded data removed]",
      "text/plain": [
       "<Figure size 720x432 with 1 Axes>"
      ]
     },
     "metadata": {},
     "output_type": "display_data"
    }
   ],
   "source": [
    "sns.barplot(data=df_all.groupby(['age']).mean().reset_index(), x='age', y='rating')"
   ]
  },
  {
   "cell_type": "code",
   "execution_count": 103,
   "id": "06275559",
   "metadata": {},
   "outputs": [],
   "source": [
    "support_drama = len(df_all[df_all.genre.apply(lambda x: 'Drama' in x)]) / len(df_all)"
   ]
  },
  {
   "cell_type": "code",
   "execution_count": 104,
   "id": "9756c689",
   "metadata": {},
   "outputs": [],
   "source": [
    "support_comedy = len(df_all[df_all.genre.apply(lambda x: 'Comedy' in x)]) / len(df_all)"
   ]
  },
  {
   "cell_type": "code",
   "execution_count": 105,
   "id": "6edeeeb1",
   "metadata": {},
   "outputs": [],
   "source": [
    "support_action = len(df_all[df_all.genre.apply(lambda x: 'Action' in x)]) / len(df_all)"
   ]
  },
  {
   "cell_type": "code",
   "execution_count": 106,
   "id": "085763ee",
   "metadata": {},
   "outputs": [
    {
     "data": {
      "text/plain": [
       "(0.35708817228200807, 0.3549982403823001, 0.25815752591577296)"
      ]
     },
     "execution_count": 106,
     "metadata": {},
     "output_type": "execute_result"
    }
   ],
   "source": [
    "support_drama, support_comedy, support_action"
   ]
  },
  {
   "cell_type": "code",
   "execution_count": 109,
   "id": "46ae0cf8",
   "metadata": {},
   "outputs": [
    {
     "data": {
      "text/plain": [
       "0.19474437999072097"
      ]
     },
     "execution_count": 109,
     "metadata": {},
     "output_type": "execute_result"
    }
   ],
   "source": [
    "len(df_all[df_all.genre.apply(lambda x: 'Drama' in x and \n",
    "                              'Comedy' in x)]) / len(df_all[df_all.genre.apply(lambda x: 'Drama' in x)])"
   ]
  },
  {
   "cell_type": "code",
   "execution_count": 140,
   "id": "955d27e9",
   "metadata": {},
   "outputs": [
    {
     "data": {
      "text/plain": [
       "<AxesSubplot:xlabel='genre', ylabel='count'>"
      ]
     },
     "execution_count": 140,
     "metadata": {},
     "output_type": "execute_result"
    },
    {
     "data": {
      "image/png": "[encoded data removed]",
      "text/plain": [
       "<Figure size 1296x576 with 1 Axes>"
      ]
     },
     "metadata": {},
     "output_type": "display_data"
    }
   ],
   "source": [
    "l = []\n",
    "\n",
    "for s in df_movies.genre.tolist():\n",
    "    l += list(s)\n",
    "\n",
    "df_genre_cnt = pd.DataFrame({'genre': l})\n",
    "\n",
    "sns.set(rc = {'figure.figsize':(18,8)})\n",
    "sns.countplot(data=df_genre_cnt, x='genre', order=df_genre_cnt.genre.value_counts().index)"
   ]
  },
  {
   "cell_type": "code",
   "execution_count": 145,
   "id": "b9620fa2",
   "metadata": {},
   "outputs": [],
   "source": [
    "df_movies_ratings = pd.merge(df_ratings, df_movies, on='movie_id')"
   ]
  },
  {
   "cell_type": "code",
   "execution_count": 148,
   "id": "e14c1970",
   "metadata": {},
   "outputs": [],
   "source": [
    "df_movies_ratings = df_movies_ratings[(df_movies_ratings.year >= 1900) & (df_movies_ratings.year <= 2002)]"
   ]
  },
  {
   "cell_type": "code",
   "execution_count": 151,
   "id": "74d3189e",
   "metadata": {},
   "outputs": [
    {
     "name": "stderr",
     "output_type": "stream",
     "text": [
      "/var/folders/lw/89cmv85n17z5b_mb4hj4l5z80000gn/T/ipykernel_31268/3774259556.py:1: SettingWithCopyWarning: \n",
      "A value is trying to be set on a copy of a slice from a DataFrame.\n",
      "Try using .loc[row_indexer,col_indexer] = value instead\n",
      "\n",
      "See the caveats in the documentation: https://pandas.pydata.org/pandas-docs/stable/user_guide/indexing.html#returning-a-view-versus-a-copy\n",
      "  df_movies_ratings['year_bin'] = pd.cut(df_movies_ratings.year, bins=[1900, 1960, 1980, 1990, 2002],\n"
     ]
    }
   ],
   "source": [
    "df_movies_ratings['year_bin'] = pd.cut(df_movies_ratings.year, bins=[1900, 1960, 1980, 1990, 2002], \n",
    "                                    labels=['1900-1960', '1960-1980', '1980-1990', '1990-2002'])"
   ]
  },
  {
   "cell_type": "code",
   "execution_count": 157,
   "id": "a3fa7c7d",
   "metadata": {},
   "outputs": [
    {
     "data": {
      "text/plain": [
       "<AxesSubplot:xlabel='year_bin', ylabel='count'>"
      ]
     },
     "execution_count": 157,
     "metadata": {},
     "output_type": "execute_result"
    },
    {
     "data": {
      "image/png": "[encoded data removed]",
      "text/plain": [
       "<Figure size 720x432 with 1 Axes>"
      ]
     },
     "metadata": {},
     "output_type": "display_data"
    }
   ],
   "source": [
    "sns.countplot(data=df_movies_ratings, x='year_bin', hue='rating')"
   ]
  },
  {
   "cell_type": "code",
   "execution_count": null,
   "id": "455cc2d5",
   "metadata": {},
   "outputs": [],
   "source": []
  }
 ],
 "metadata": {
  "kernelspec": {
   "display_name": "Python 3 (ipykernel)",
   "language": "python",
   "name": "python3"
  },
  "language_info": {
   "codemirror_mode": {
    "name": "ipython",
    "version": 3
   },
   "file_extension": ".py",
   "mimetype": "text/x-python",
   "name": "python",
   "nbconvert_exporter": "python",
   "pygments_lexer": "ipython3",
   "version": "3.9.12"
  },
  "vscode": {
   "interpreter": {
    "hash": "3efed1a0a2fdd8be36446bfd29570da5c8155b70bce854ad7488b53590c878ad"
   }
  }
 },
 "nbformat": 4,
 "nbformat_minor": 5
}
